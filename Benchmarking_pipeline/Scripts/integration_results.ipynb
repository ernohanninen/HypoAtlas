{
 "cells": [
  {
   "cell_type": "code",
   "execution_count": 3,
   "metadata": {
    "execution": {
     "iopub.execute_input": "2023-03-08T02:36:49.287648Z",
     "iopub.status.busy": "2023-03-08T02:36:49.287435Z",
     "iopub.status.idle": "2023-03-08T02:36:49.294226Z",
     "shell.execute_reply": "2023-03-08T02:36:49.293867Z"
    }
   },
   "outputs": [],
   "source": [
    "adata_unintegrated = \"\"\n",
    "integrated_adata = {}\n",
    "tools = []\n",
    "data_dir = \"\"\n",
    "batch = \"\"\n",
    "label = \"\""
   ]
  },
  {
   "attachments": {},
   "cell_type": "markdown",
   "metadata": {},
   "source": [
    "Author: Erno Hänninen\n",
    "\n",
    "Created: 24.01.2023\n",
    "\n",
    "Title: integration_result.ipynb\n",
    "\n",
    "Description:\n",
    "- Notebook in where the result of benchmarked integration methods is visualized. Computes scib-metrics and visualizes the integrated data using PAGA graph and Force-directed graph drawing plot\n",
    "\n",
    "Procedure\n",
    "- Read the integration method output and store it to adata.obsm column\n",
    "- Compute  and visualize the integration metrics. FOr computational reasons the metrics are computed only for subset of methods\n",
    "- Plot the unintegrated data using Force directed graph drawing algorithm\n",
    "- For each integration method\n",
    "    - COmpute and visualize PAGA graph\n",
    "    - Compute and visualize FOrce-directed graph drawing, which is initialized with the PAGA\n",
    "\n",
    "List of non-standard modules:\n",
    "- matplotlib, plottable, scib_metrics, scib\n",
    "\n",
    "Usage:\n",
    "- This script is launced from the pipeline"
   ]
  },
  {
   "cell_type": "code",
   "execution_count": 21,
   "metadata": {
    "execution": {
     "iopub.execute_input": "2023-03-08T02:36:49.296250Z",
     "iopub.status.busy": "2023-03-08T02:36:49.296051Z",
     "iopub.status.idle": "2023-03-08T02:36:59.320862Z",
     "shell.execute_reply": "2023-03-08T02:36:59.320382Z"
    }
   },
   "outputs": [],
   "source": [
    "# Packages\n",
    "import matplotlib.pyplot as plt\n",
    "from plottable import Table\n",
    "from scib_metrics.benchmark import Benchmarker, BatchCorrection, BioConservation\n",
    "import scanpy as sc\n",
    "import scib\n",
    "import shutil, os, sys\n",
    "import warnings\n",
    "warnings.filterwarnings('ignore')\n",
    "sc.settings.verbosity = 0"
   ]
  },
  {
   "attachments": {},
   "cell_type": "markdown",
   "metadata": {},
   "source": [
    "### Prepare data, and run the integration metrics"
   ]
  },
  {
   "cell_type": "code",
   "execution_count": null,
   "metadata": {
    "execution": {
     "iopub.execute_input": "2023-03-08T02:36:59.323257Z",
     "iopub.status.busy": "2023-03-08T02:36:59.323046Z",
     "iopub.status.idle": "2023-03-09T08:00:57.557569Z",
     "shell.execute_reply": "2023-03-09T08:00:57.556922Z"
    }
   },
   "outputs": [],
   "source": [
    "# Read output of benchmarked integration methods\n",
    "adata = sc.read(f\"{data_dir}/unintegrated.h5ad\")\n",
    "for tool in tools: \n",
    "    if not tool == \"bbknn\" and not tool == \"seurat_cca\" and not tool == \"conos\" and not tool == \"seurat_rpca\" and not tool == \"fastmnn\":\n",
    "        adata_int = sc.read(integrated_adata[tool])\n",
    "        adata.obsm[tool] = adata_int.obsm[tool]\n",
    "    elif tool == \"fastmnn\":\n",
    "        adata_int = scib.pp.read_seurat(integrated_adata[tool])\n",
    "        adata.obsm[tool] = adata_int.obsm[\"FASTMNN\"]\n",
    "    elif not tool == \"bbknn\" and not tool == \"conos\":\n",
    "        adata_int = scib.pp.read_seurat(integrated_adata[tool])        \n",
    "        adata.obsm[tool] = adata_int.X.todense()\n",
    "  \n",
    "tools.append(\"unintegrated\")\n",
    "tools_to_benchmark = ['unintegrated', 'scvi', 'scanorama', 'harmony', 'fastmnn', 'scanvi', \"scgen\"] #The metrics are computed only for subset of tools\n",
    "\n",
    "# COmpute metrics\n",
    "bm = Benchmarker(\n",
    "    adata,\n",
    "    batch_key=batch,\n",
    "    label_key=label,\n",
    "    embedding_obsm_keys=tools_to_benchmark,\n",
    "    n_jobs=15,\n",
    ")\n",
    "bm.benchmark()"
   ]
  },
  {
   "cell_type": "code",
   "execution_count": 5,
   "metadata": {
    "execution": {
     "iopub.execute_input": "2023-03-09T08:00:57.566597Z",
     "iopub.status.busy": "2023-03-09T08:00:57.566431Z",
     "iopub.status.idle": "2023-03-09T08:00:57.615952Z",
     "shell.execute_reply": "2023-03-09T08:00:57.615609Z"
    }
   },
   "outputs": [],
   "source": [
    "# Create output dir for metrics plot\n",
    "output_dir = os.path.dirname(data_dir)\n",
    "metrics_dir = output_dir + \"/Metrics\"\n",
    "if os.path.exists(metrics_dir):\n",
    "    shutil.rmtree(metrics_dir)\n",
    "os.makedirs(metrics_dir + \"/Non_scaled\")"
   ]
  },
  {
   "cell_type": "code",
   "execution_count": null,
   "metadata": {
    "execution": {
     "iopub.execute_input": "2023-03-09T08:00:59.348200Z",
     "iopub.status.busy": "2023-03-09T08:00:59.348015Z",
     "iopub.status.idle": "2023-03-09T08:01:00.615052Z",
     "shell.execute_reply": "2023-03-09T08:01:00.614559Z"
    }
   },
   "outputs": [],
   "source": [
    "# Plot metrics\n",
    "bm.plot_results_table(min_max_scale=False, save_dir = metrics_dir + \"/Non_scaled\")"
   ]
  },
  {
   "cell_type": "code",
   "execution_count": 8,
   "metadata": {
    "execution": {
     "iopub.execute_input": "2023-03-09T08:01:00.617581Z",
     "iopub.status.busy": "2023-03-09T08:01:00.617385Z",
     "iopub.status.idle": "2023-03-09T08:01:00.641914Z",
     "shell.execute_reply": "2023-03-09T08:01:00.641463Z"
    }
   },
   "outputs": [],
   "source": [
    "# Save metrics df\n",
    "from rich import print\n",
    "df = bm.get_results(min_max_scale=False)\n",
    "df.to_csv(metrics_dir + \"/non_scaled_metrics.csv\")\n"
   ]
  },
  {
   "attachments": {},
   "cell_type": "markdown",
   "metadata": {},
   "source": [
    "The following code blocks visualizes the output of each benchmarked integration method. For the unintegrated data force directed graph drawing plot is computed and plotted. FOr each integration method PAGA graph and force directed graph drawing plot, which is intialized with PAGA, are computed and plotted"
   ]
  },
  {
   "attachments": {},
   "cell_type": "markdown",
   "metadata": {},
   "source": [
    "# Unintegrated"
   ]
  },
  {
   "cell_type": "code",
   "execution_count": null,
   "metadata": {
    "execution": {
     "iopub.execute_input": "2023-03-09T08:01:00.644042Z",
     "iopub.status.busy": "2023-03-09T08:01:00.643867Z",
     "iopub.status.idle": "2023-03-09T08:04:08.202116Z",
     "shell.execute_reply": "2023-03-09T08:04:08.201657Z"
    }
   },
   "outputs": [],
   "source": [
    "if \"unintegrated\" in tools:\n",
    "    adata_unintegrated = adata.copy() # initialize adata\n",
    "    sc.pp.neighbors(adata_unintegrated, use_rep=\"X_pca\") # Compute neighbors using unintegrated embedding\n",
    "    sc.tl.draw_graph(adata_unintegrated) # Compute draw graph\n",
    "    with plt.rc_context({\"figure.figsize\": [2.5, 2.5],  \"figure.dpi\": 350}): # Plotting settings\n",
    "        print(\"CELL TYPES\")\n",
    "        sc.pl.draw_graph(adata_unintegrated,color=label, legend_fontsize=\"xx-small\",frameon=False, title=\"\", save=\"_unintegrated_benchmark.png\") # Plot cell types\n",
    "        print(\"BATCHES\")\n",
    "        sc.pl.draw_graph(adata_unintegrated,color=batch, legend_fontsize=\"xx-small\", frameon=False, title=\"\") # Plot batches"
   ]
  },
  {
   "attachments": {},
   "cell_type": "markdown",
   "metadata": {},
   "source": [
    "# SCVI"
   ]
  },
  {
   "cell_type": "code",
   "execution_count": null,
   "metadata": {
    "execution": {
     "iopub.execute_input": "2023-03-09T08:04:08.207886Z",
     "iopub.status.busy": "2023-03-09T08:04:08.207647Z",
     "iopub.status.idle": "2023-03-09T08:09:45.385455Z",
     "shell.execute_reply": "2023-03-09T08:09:45.384902Z"
    },
    "scrolled": true
   },
   "outputs": [],
   "source": [
    "if \"scvi\" in tools:\n",
    "    adata_scvi = adata.copy() # Initialize adata\n",
    "    sc.pp.neighbors(adata_scvi, use_rep=\"scvi\") #Compute metrics using integrated embedding\n",
    "    sc.tl.paga(adata_scvi, groups=label) # Compute paga\n",
    "    with plt.rc_context({ \"figure.figsize\": [6, 3],\"figure.dpi\": 350}): # Plotting settings\n",
    "        print(\"PAGA\")\n",
    "        sc.pl.paga(adata_scvi, color=label,frameon=False, save=\"_scvi_paga.png\") # Plot paga \n",
    "    sc.tl.draw_graph(adata_scvi, init_pos=\"paga\")  # Compute draw graph, initialized with PAGA\n",
    "    # Plotting\n",
    "    with plt.rc_context({\"figure.figsize\": [2.5, 2.5],  \"figure.dpi\": 350}):\n",
    "        print(\"CELL TYPES\")\n",
    "        sc.pl.draw_graph(adata_scvi,color=label, legend_fontsize=\"xx-small\",frameon=False, title=\"\", save=\"_scVI_benchmark.png\")\n",
    "        print(\"BATCHES\")\n",
    "        sc.pl.draw_graph(adata_scvi,color=batch, legend_fontsize=\"xx-small\", frameon=False, title=\"\")"
   ]
  },
  {
   "attachments": {},
   "cell_type": "markdown",
   "metadata": {},
   "source": [
    "# SCANVI"
   ]
  },
  {
   "cell_type": "code",
   "execution_count": null,
   "metadata": {
    "execution": {
     "iopub.execute_input": "2023-03-09T08:09:45.391053Z",
     "iopub.status.busy": "2023-03-09T08:09:45.390831Z",
     "iopub.status.idle": "2023-03-09T08:14:56.203762Z",
     "shell.execute_reply": "2023-03-09T08:14:56.203162Z"
    },
    "scrolled": false
   },
   "outputs": [],
   "source": [
    "if \"scanvi\" in tools:\n",
    "    adata_scanvi = adata.copy()\n",
    "    sc.pp.neighbors(adata_scanvi, use_rep=\"scanvi\")\n",
    "    sc.tl.paga(adata_scanvi, groups=label)\n",
    "    with plt.rc_context({ \"figure.figsize\": [6, 3],\"figure.dpi\": 350}):\n",
    "        print(\"PAGA\")\n",
    "        sc.pl.paga(adata_scanvi, color=label,frameon=False, save=\"_scANVI_paga.png\")     \n",
    "    sc.tl.draw_graph(adata_scanvi, init_pos=\"paga\") \n",
    "    with plt.rc_context({\"figure.figsize\": [2.5, 2.5],  \"figure.dpi\": 350}):\n",
    "        print(\"CELL TYPES\")\n",
    "        sc.pl.draw_graph(adata_scanvi,color=label, legend_fontsize=\"xx-small\",frameon=False, title=\"\", save=\"_scANVI_benchmark.png\")\n",
    "        print(\"BATCHES\")\n",
    "        sc.pl.draw_graph(adata_scanvi,color=batch, legend_fontsize=\"xx-small\", frameon=False, title=\"\")\n",
    "    "
   ]
  },
  {
   "attachments": {},
   "cell_type": "markdown",
   "metadata": {},
   "source": [
    "# SCGEN"
   ]
  },
  {
   "cell_type": "code",
   "execution_count": null,
   "metadata": {
    "execution": {
     "iopub.execute_input": "2023-03-09T08:14:56.209777Z",
     "iopub.status.busy": "2023-03-09T08:14:56.209570Z",
     "iopub.status.idle": "2023-03-09T08:18:54.400764Z",
     "shell.execute_reply": "2023-03-09T08:18:54.400174Z"
    },
    "scrolled": false
   },
   "outputs": [],
   "source": [
    "if \"scgen\" in tools:\n",
    "    adata_scgen = adata.copy()\n",
    "    sc.pp.neighbors(adata_scgen, use_rep=\"scgen\")\n",
    "    sc.tl.paga(adata_scgen, groups=label)\n",
    "    with plt.rc_context({ \"figure.figsize\": [6, 3],\"figure.dpi\": 350}):\n",
    "        print(\"PAGA\")\n",
    "        sc.pl.paga(adata_scgen, color=label,frameon=False, save=\"_scgen_paga.png\")     \n",
    "    sc.tl.draw_graph(adata_scgen, init_pos=\"paga\") \n",
    "    with plt.rc_context({\"figure.figsize\": [2.5, 2.5],  \"figure.dpi\": 350}):\n",
    "        print(\"CELL TYPES\")\n",
    "        sc.pl.draw_graph(adata_scgen,color=label, legend_fontsize=\"xx-small\",frameon=False, title=\"\", save=\"_scgen_benchmark.png\")\n",
    "        print(\"BATCHES\")\n",
    "        sc.pl.draw_graph(adata_scgen,color=batch, legend_fontsize=\"xx-small\", frameon=False, title=\"\")"
   ]
  },
  {
   "attachments": {},
   "cell_type": "markdown",
   "metadata": {},
   "source": [
    "# TRVAE"
   ]
  },
  {
   "cell_type": "code",
   "execution_count": null,
   "metadata": {
    "execution": {
     "iopub.execute_input": "2023-03-09T08:18:54.405600Z",
     "iopub.status.busy": "2023-03-09T08:18:54.405385Z",
     "iopub.status.idle": "2023-03-09T08:21:47.970393Z",
     "shell.execute_reply": "2023-03-09T08:21:47.969879Z"
    },
    "scrolled": true
   },
   "outputs": [],
   "source": [
    "if \"trvae\" in tools:\n",
    "    adata_trvae = adata.copy()\n",
    "    \n",
    "    sc.pp.neighbors(adata_trvae, use_rep=\"trvae\")\n",
    "    sc.tl.paga(adata_trvae, groups=label)\n",
    "    with plt.rc_context({ \"figure.figsize\": [6, 3],\"figure.dpi\": 350}):\n",
    "        print(\"PAGA\")\n",
    "        sc.pl.paga(adata_trvae, color=label,frameon=False, save=\"_trvae_paga.png\")     \n",
    "    sc.tl.draw_graph(adata_trvae, init_pos=\"paga\") \n",
    "    with plt.rc_context({\"figure.figsize\": [2.5, 2.5],  \"figure.dpi\": 350}):\n",
    "        print(\"CELL TYPES\")\n",
    "        sc.pl.draw_graph(adata_trvae,color=label, legend_fontsize=\"xx-small\",frameon=False, title=\"\", save=\"_trvae_benchmark.png\")\n",
    "        print(\"BATCHES\")\n",
    "        sc.pl.draw_graph(adata_trvae,color=batch, legend_fontsize=\"xx-small\", frameon=False, title=\"\")"
   ]
  },
  {
   "attachments": {},
   "cell_type": "markdown",
   "metadata": {},
   "source": [
    "# Harmony"
   ]
  },
  {
   "cell_type": "code",
   "execution_count": null,
   "metadata": {
    "execution": {
     "iopub.execute_input": "2023-03-09T08:21:47.978052Z",
     "iopub.status.busy": "2023-03-09T08:21:47.977846Z",
     "iopub.status.idle": "2023-03-09T08:24:53.460175Z",
     "shell.execute_reply": "2023-03-09T08:24:53.459651Z"
    }
   },
   "outputs": [],
   "source": [
    "if \"harmony\" in tools:\n",
    "    adata_harmony = adata.copy()\n",
    "    sc.pp.neighbors(adata_harmony, use_rep=\"harmony\")\n",
    "    sc.tl.paga(adata_harmony, groups=label)\n",
    "    with plt.rc_context({ \"figure.figsize\": [6, 3],\"figure.dpi\": 350}):\n",
    "        print(\"PAGA\")\n",
    "        sc.pl.paga(adata_harmony, color=label,frameon=False, save=\"_harmony_paga.png\")     \n",
    "    sc.tl.draw_graph(adata_harmony, init_pos=\"paga\") \n",
    "    with plt.rc_context({\"figure.figsize\": [2.5, 2.5],  \"figure.dpi\": 350}):\n",
    "        print(\"CELL TYPES\")\n",
    "        sc.pl.draw_graph(adata_harmony,color=label, legend_fontsize=\"xx-small\",frameon=False, title=\"\", save=\"_harmony_benchmark.png\")\n",
    "        print(\"BATCHES\")\n",
    "        sc.pl.draw_graph(adata_harmony,color=batch, legend_fontsize=\"xx-small\", frameon=False, title=\"\")"
   ]
  },
  {
   "attachments": {},
   "cell_type": "markdown",
   "metadata": {},
   "source": [
    "# Combat"
   ]
  },
  {
   "cell_type": "code",
   "execution_count": null,
   "metadata": {
    "execution": {
     "iopub.execute_input": "2023-03-09T08:24:53.465143Z",
     "iopub.status.busy": "2023-03-09T08:24:53.464937Z",
     "iopub.status.idle": "2023-03-09T08:28:49.292931Z",
     "shell.execute_reply": "2023-03-09T08:28:49.292288Z"
    }
   },
   "outputs": [],
   "source": [
    "if \"combat\" in tools:\n",
    "    adata_combat = adata.copy()\n",
    "    sc.pp.neighbors(adata_combat, use_rep=\"combat\")\n",
    "    sc.tl.paga(adata_combat, groups=label)\n",
    "    with plt.rc_context({ \"figure.figsize\": [6, 3],\"figure.dpi\": 350}):\n",
    "        print(\"PAGA\")\n",
    "        sc.pl.paga(adata_combat, color=label,frameon=False, save=\"_combat_paga.png\")     \n",
    "    sc.tl.draw_graph(adata_combat, init_pos=\"paga\") \n",
    "    with plt.rc_context({\"figure.figsize\": [2.5, 2.5],  \"figure.dpi\": 350}):\n",
    "        print(\"CELL TYPES\")\n",
    "        sc.pl.draw_graph(adata_combat,color=label, legend_fontsize=\"xx-small\",frameon=False, title=\"\", save=\"_combat_benchmark.png\")\n",
    "        print(\"BATCHES\")\n",
    "        sc.pl.draw_graph(adata_combat,color=batch, legend_fontsize=\"xx-small\", frameon=False, title=\"\")\n"
   ]
  },
  {
   "attachments": {},
   "cell_type": "markdown",
   "metadata": {},
   "source": [
    "# Scanorama"
   ]
  },
  {
   "cell_type": "code",
   "execution_count": null,
   "metadata": {
    "execution": {
     "iopub.execute_input": "2023-03-09T08:28:49.297759Z",
     "iopub.status.busy": "2023-03-09T08:28:49.297527Z",
     "iopub.status.idle": "2023-03-09T08:31:59.403644Z",
     "shell.execute_reply": "2023-03-09T08:31:59.403140Z"
    }
   },
   "outputs": [],
   "source": [
    "if \"scanorama\" in tools:\n",
    "    adata_scanorama = adata.copy()\n",
    "    sc.pp.neighbors(adata_scanorama, use_rep=\"scanorama\")\n",
    "    sc.tl.paga(adata_scanorama, groups=label)\n",
    "    with plt.rc_context({ \"figure.figsize\": [6, 3],\"figure.dpi\": 350}):\n",
    "        print(\"PAGA\")\n",
    "        sc.pl.paga(adata_scanorama, color=label,frameon=False, save=\"_scanorama_paga.png\")     \n",
    "    sc.tl.draw_graph(adata_scanorama, init_pos=\"paga\") \n",
    "    with plt.rc_context({\"figure.figsize\": [2.5, 2.5],  \"figure.dpi\": 350}):\n",
    "        print(\"CELL TYPES\")\n",
    "        sc.pl.draw_graph(adata_scanorama,color=label, legend_fontsize=\"xx-small\",frameon=False, title=\"\", save=\"_scanorama_benchmark.png\")\n",
    "        print(\"BATCHES\")\n",
    "        sc.pl.draw_graph(adata_scanorama,color=batch, legend_fontsize=\"xx-small\", frameon=False, title=\"\")"
   ]
  },
  {
   "attachments": {},
   "cell_type": "markdown",
   "metadata": {},
   "source": [
    "# Desc"
   ]
  },
  {
   "cell_type": "code",
   "execution_count": null,
   "metadata": {
    "execution": {
     "iopub.execute_input": "2023-03-09T08:31:59.408689Z",
     "iopub.status.busy": "2023-03-09T08:31:59.408462Z",
     "iopub.status.idle": "2023-03-09T09:10:41.910489Z",
     "shell.execute_reply": "2023-03-09T09:10:41.910033Z"
    }
   },
   "outputs": [],
   "source": [
    "if \"desc\" in tools:\n",
    "    adata_desc = adata.copy()\n",
    "    sc.pp.neighbors(adata_desc, use_rep=\"desc\")\n",
    "    sc.tl.paga(adata_desc, groups=label)\n",
    "    with plt.rc_context({ \"figure.figsize\": [6, 3],\"figure.dpi\": 350}):\n",
    "        print(\"PAGA\")\n",
    "        sc.pl.paga(adata_desc, color=label,frameon=False, save=\"_desc_paga.png\")     \n",
    "    sc.tl.draw_graph(adata_desc, init_pos=\"paga\") \n",
    "    with plt.rc_context({\"figure.figsize\": [2.5, 2.5],  \"figure.dpi\": 350}):\n",
    "        print(\"CELL TYPES\")\n",
    "        sc.pl.draw_graph(adata_desc,color=label, legend_fontsize=\"xx-small\",frameon=False, title=\"\", save=\"_desc_benchmark.png\")\n",
    "        print(\"BATCHES\")\n",
    "        sc.pl.draw_graph(adata_desc,color=batch, legend_fontsize=\"xx-small\", frameon=False, title=\"\")"
   ]
  },
  {
   "attachments": {},
   "cell_type": "markdown",
   "metadata": {},
   "source": [
    "# Liger"
   ]
  },
  {
   "cell_type": "code",
   "execution_count": null,
   "metadata": {
    "execution": {
     "iopub.execute_input": "2023-03-09T09:10:41.915738Z",
     "iopub.status.busy": "2023-03-09T09:10:41.915543Z",
     "iopub.status.idle": "2023-03-09T09:14:03.449156Z",
     "shell.execute_reply": "2023-03-09T09:14:03.448565Z"
    }
   },
   "outputs": [],
   "source": [
    "if \"liger\" in tools:\n",
    "    adata_liger = adata.copy()\n",
    "    sc.pp.neighbors(adata_liger, use_rep=\"liger\")\n",
    "    sc.tl.paga(adata_liger, groups=label)\n",
    "    with plt.rc_context({ \"figure.figsize\": [6, 3],\"figure.dpi\": 350}):\n",
    "        print(\"PAGA\")\n",
    "        sc.pl.paga(adata_liger, color=label,frameon=False, save=\"_liger_paga.png\")     \n",
    "    sc.tl.draw_graph(adata_liger, init_pos=\"paga\") \n",
    "    with plt.rc_context({\"figure.figsize\": [2.5, 2.5],  \"figure.dpi\": 350}):\n",
    "        print(\"CELL TYPES\")\n",
    "        sc.pl.draw_graph(adata_liger,color=label, legend_fontsize=\"xx-small\",frameon=False, title=\"\", save=\"_liger_benchmark.png\")\n",
    "        print(\"BATCHES\")\n",
    "        sc.pl.draw_graph(adata_liger,color=batch, legend_fontsize=\"xx-small\", frameon=False, title=\"\")"
   ]
  },
  {
   "attachments": {},
   "cell_type": "markdown",
   "metadata": {},
   "source": [
    "# Seurat cca"
   ]
  },
  {
   "cell_type": "code",
   "execution_count": null,
   "metadata": {
    "execution": {
     "iopub.execute_input": "2023-03-09T09:14:03.460356Z",
     "iopub.status.busy": "2023-03-09T09:14:03.460182Z",
     "iopub.status.idle": "2023-03-09T09:18:12.265004Z",
     "shell.execute_reply": "2023-03-09T09:18:12.264486Z"
    }
   },
   "outputs": [],
   "source": [
    "if \"seurat_cca\" in tools:\n",
    "    adata_cca = adata.copy()\n",
    "    sc.pp.neighbors(adata_cca, use_rep=\"seurat_cca\")\n",
    "    sc.tl.paga(adata_cca, groups=label)\n",
    "        with plt.rc_context({ \"figure.figsize\": [6, 3],\"figure.dpi\": 350}):\n",
    "            print(\"PAGA\")\n",
    "            sc.pl.paga(adata_cca, color=label,frameon=False, save=\"_cca_paga.png\")     \n",
    "        sc.tl.draw_graph(adata_cca, init_pos=\"paga\") \n",
    "        with plt.rc_context({\"figure.figsize\": [2.5, 2.5],  \"figure.dpi\": 350}):\n",
    "            print(\"CELL TYPES\")\n",
    "            sc.pl.draw_graph(adata_cca,color=label, legend_fontsize=\"xx-small\",frameon=False, title=\"\", save=\"_cca_benchmark.png\")\n",
    "            print(\"BATCHES\")\n",
    "            sc.pl.draw_graph(adata_cca,color=batch, legend_fontsize=\"xx-small\", frameon=False, title=\"\")"
   ]
  },
  {
   "attachments": {},
   "cell_type": "markdown",
   "metadata": {},
   "source": [
    "# Seurat rpca"
   ]
  },
  {
   "cell_type": "code",
   "execution_count": null,
   "metadata": {
    "execution": {
     "iopub.execute_input": "2023-03-09T09:18:12.269699Z",
     "iopub.status.busy": "2023-03-09T09:18:12.269468Z",
     "iopub.status.idle": "2023-03-09T09:22:19.234871Z",
     "shell.execute_reply": "2023-03-09T09:22:19.234266Z"
    }
   },
   "outputs": [],
   "source": [
    "if \"seurat_rpca\" in tools:\n",
    "    adata_rpca = adata.copy()\n",
    "    sc.pp.neighbors(adata_rpca, use_rep=\"seurat_rpca\")\n",
    "    sc.tl.paga(adata_rpca, groups=label)\n",
    "    with plt.rc_context({ \"figure.figsize\": [6, 3],\"figure.dpi\": 350}):\n",
    "        print(\"PAGA\")\n",
    "        sc.pl.paga(adata_rpca, color=label,frameon=False, save=\"_rpca_paga.png\")     \n",
    "    sc.tl.draw_graph(adata_rpca, init_pos=\"paga\") \n",
    "    with plt.rc_context({\"figure.figsize\": [2.5, 2.5],  \"figure.dpi\": 350}):\n",
    "        print(\"CELL TYPES\")\n",
    "        sc.pl.draw_graph(adata_rpca,color=label, legend_fontsize=\"xx-small\",frameon=False, title=\"\", save=\"_rpca_benchmark.png\")\n",
    "        print(\"BATCHES\")\n",
    "        sc.pl.draw_graph(adata_rpca,color=batch, legend_fontsize=\"xx-small\", frameon=False, title=\"\")"
   ]
  },
  {
   "attachments": {},
   "cell_type": "markdown",
   "metadata": {},
   "source": [
    "# Fastmnn"
   ]
  },
  {
   "cell_type": "code",
   "execution_count": null,
   "metadata": {
    "execution": {
     "iopub.execute_input": "2023-03-09T09:22:19.239317Z",
     "iopub.status.busy": "2023-03-09T09:22:19.239094Z",
     "iopub.status.idle": "2023-03-09T09:25:21.912712Z",
     "shell.execute_reply": "2023-03-09T09:25:21.912184Z"
    }
   },
   "outputs": [],
   "source": [
    "if \"fastmnn\" in tools:\n",
    "    adata_fastmnn = adata.copy()\n",
    "    sc.pp.neighbors(adata_fastmnn, use_rep=\"fastmnn\")\n",
    "    sc.tl.paga(adata_fastmnn, groups=label)\n",
    "    with plt.rc_context({ \"figure.figsize\": [6, 3],\"figure.dpi\": 350}):\n",
    "        print(\"PAGA\")\n",
    "        sc.pl.paga(adata_fastmnn, color=label,frameon=False, save=\"_fastmnn_paga.png\")     \n",
    "    sc.tl.draw_graph(adata_fastmnn, init_pos=\"paga\") \n",
    "    with plt.rc_context({\"figure.figsize\": [2.5, 2.5],  \"figure.dpi\": 350}):\n",
    "        print(\"CELL TYPES\")\n",
    "        sc.pl.draw_graph(adata_fastmnn,color=label, legend_fontsize=\"xx-small\",frameon=False, title=\"\", save=\"_fastmnn_benchmark.png\")\n",
    "        print(\"BATCHES\")\n",
    "        sc.pl.draw_graph(adata_fastmnn,color=batch, legend_fontsize=\"xx-small\", frameon=False, title=\"\")"
   ]
  },
  {
   "attachments": {},
   "cell_type": "markdown",
   "metadata": {},
   "source": [
    "# BBKNN"
   ]
  },
  {
   "cell_type": "code",
   "execution_count": null,
   "metadata": {
    "execution": {
     "iopub.execute_input": "2023-03-09T09:25:21.922888Z",
     "iopub.status.busy": "2023-03-09T09:25:21.922722Z",
     "iopub.status.idle": "2023-03-09T09:33:49.583335Z",
     "shell.execute_reply": "2023-03-09T09:33:49.582829Z"
    }
   },
   "outputs": [],
   "source": [
    "if \"bbknn\" in tools:\n",
    "    adata_bbknn = sc.read(integrated_adata[\"bbknn\"])\n",
    "    sc.tl.umap(adata_bbknn)\n",
    "    sc.tl.paga(adata_bbknn, groups=label)\n",
    "    with plt.rc_context({ \"figure.figsize\": [6, 3],\"figure.dpi\": 350}):\n",
    "        print(\"PAGA\")\n",
    "        sc.pl.paga(adata_bbknn, color=label,frameon=False, save=\"_bbknn_paga.png\")     \n",
    "    sc.tl.draw_graph(adata_bbknn, init_pos=\"paga\") \n",
    "    with plt.rc_context({\"figure.figsize\": [2.5, 2.5],  \"figure.dpi\": 350}):\n",
    "        print(\"CELL TYPES\")\n",
    "        sc.pl.draw_graph(adata_bbknn,color=label, legend_fontsize=\"xx-small\",frameon=False, title=\"\", save=\"_bbknn_benchmark.png\")\n",
    "        print(\"BATCHES\")\n",
    "        sc.pl.draw_graph(adata_bbknn,color=batch, legend_fontsize=\"xx-small\", frameon=False, title=\"\")"
   ]
  }
 ],
 "metadata": {
  "kernelspec": {
   "display_name": "Python 3 (ipykernel)",
   "language": "python",
   "name": "python3"
  },
  "language_info": {
   "codemirror_mode": {
    "name": "ipython",
    "version": 3
   },
   "file_extension": ".py",
   "mimetype": "text/x-python",
   "name": "python",
   "nbconvert_exporter": "python",
   "pygments_lexer": "ipython3",
   "version": "3.10.9"
  },
  "vscode": {
   "interpreter": {
    "hash": "97cc609b13305c559618ec78a438abc56230b9381f827f22d070313b9a1f3777"
   }
  }
 },
 "nbformat": 4,
 "nbformat_minor": 2
}
