{
 "cells": [
  {
   "cell_type": "code",
   "execution_count": null,
   "metadata": {
    "execution": {
     "iopub.execute_input": "2023-01-26T15:08:56.537095Z",
     "iopub.status.busy": "2023-01-26T15:08:56.536529Z",
     "iopub.status.idle": "2023-01-26T15:08:56.546687Z",
     "shell.execute_reply": "2023-01-26T15:08:56.545910Z"
    }
   },
   "outputs": [],
   "source": [
    "adata_unintegrated = \"\"\n",
    "integrated_adata = {}\n",
    "tools = []\n",
    "data_dir = \"\"\n",
    "batch = \"\"\n",
    "label = \"\""
   ]
  },
  {
   "cell_type": "markdown",
   "metadata": {},
   "source": [
    "Jupyter notebook for integration results\n",
    "\n",
    "Author: Erno Hänninen\n",
    "\n",
    "Title: integration_results.ipynb\n",
    "\n",
    "Created: 2022-01-26"
   ]
  },
  {
   "cell_type": "code",
   "execution_count": null,
   "metadata": {
    "execution": {
     "iopub.execute_input": "2023-01-26T15:08:56.550017Z",
     "iopub.status.busy": "2023-01-26T15:08:56.549837Z",
     "iopub.status.idle": "2023-01-26T15:09:01.877642Z",
     "shell.execute_reply": "2023-01-26T15:09:01.876654Z"
    }
   },
   "outputs": [],
   "source": [
    "\n",
    "from plottable import Table\n",
    "from scib_metrics.benchmark import Benchmarker, BatchCorrection, BioConservation\n",
    "import scanpy as sc\n",
    "import scib\n",
    "from scvi.model.utils import mde\n",
    "import pymde\n",
    "import shutil, os, sys\n",
    "import warnings\n",
    "sys.path.insert(0, \"../../../Scripts\") #Adding a path to be able to import the jupyter_functions\n",
    "from jupyter_functions import *\n",
    "warnings.filterwarnings('ignore')"
   ]
  },
  {
   "attachments": {},
   "cell_type": "markdown",
   "metadata": {},
   "source": [
    "### Prepare data, and run the integration metrics"
   ]
  },
  {
   "cell_type": "code",
   "execution_count": null,
   "metadata": {
    "execution": {
     "iopub.execute_input": "2023-01-26T15:09:01.881122Z",
     "iopub.status.busy": "2023-01-26T15:09:01.880901Z",
     "iopub.status.idle": "2023-01-26T15:09:30.540723Z",
     "shell.execute_reply": "2023-01-26T15:09:30.539470Z"
    }
   },
   "outputs": [],
   "source": [
    "adata = sc.read(f\"{data_dir}/unintegrated.h5ad\")\n",
    "for tool in tools:\n",
    "    \n",
    "    if not tool == \"bbknn\" and not tool == \"seurat_cca\" and not tool == \"conos\" and not tool == \"seurat_rpca\" and not tool == \"fastmnn\":\n",
    "        adata_int = sc.read(integrated_adata[tool])\n",
    "        adata.obsm[tool] = adata_int.obsm[tool]\n",
    "    elif tool == \"fastmnn\":\n",
    "        adata_int = scib.pp.read_seurat(integrated_adata[tool])\n",
    "        adata.obsm[tool] = adata_int.obsm[\"FASTMNN\"]\n",
    "    elif not tool == \"bbknn\" and not tool == \"conos\":\n",
    "        adata_int = scib.pp.read_seurat(integrated_adata[tool])        \n",
    "        adata.obsm[tool] = adata_int.X.todense()\n",
    "    \n",
    "tools.append(\"unintegrated\")\n",
    "\n",
    "tools_to_benchmark = tools.copy()\n",
    "#Remove the tools outputting a graph\n",
    "if \"bbknn\" in tools_to_benchmark: tools_to_benchmark.remove(\"bbknn\")\n",
    "if \"conos\" in tools_to_benchmark: tools_to_benchmark.remove(\"conos\")\n",
    "print(tools)\n",
    "print(tools_to_benchmark)\n",
    "\n",
    "#adata.write(os.getcwd() + \"/integrated_embed.h5ad\")\n",
    "\n",
    "\n",
    "batch_correction = BatchCorrection(\n",
    "    ilisi_knn = False\n",
    ")\n",
    "\n",
    "bio_conservation = BioConservation(\n",
    "    clisi_knn=False\n",
    ")\n",
    "\n",
    "bm = Benchmarker(\n",
    "    adata,\n",
    "    batch_key=batch,\n",
    "    label_key=label,\n",
    "    batch_correction_metrics=batch_correction,\n",
    "    bio_conservation_metrics = bio_conservation,\n",
    "    embedding_obsm_keys=tools_to_benchmark,\n",
    "    n_jobs=12,\n",
    ")\n",
    "bm.benchmark()"
   ]
  },
  {
   "cell_type": "code",
   "execution_count": null,
   "metadata": {},
   "outputs": [],
   "source": [
    "print(adata)"
   ]
  },
  {
   "cell_type": "code",
   "execution_count": null,
   "metadata": {},
   "outputs": [],
   "source": [
    "output_dir = os.path.dirname(data_dir)\n",
    "metrics_dir = output_dir + \"/Metrics\"\n",
    "if os.path.exists(metrics_dir):\n",
    "    shutil.rmtree(metrics_dir)\n",
    "os.makedirs(metrics_dir + \"/Scaled\")\n",
    "os.makedirs(metrics_dir + \"/Non_scaled\")"
   ]
  },
  {
   "attachments": {},
   "cell_type": "markdown",
   "metadata": {},
   "source": [
    "### Plot scaled integration metrics"
   ]
  },
  {
   "cell_type": "code",
   "execution_count": null,
   "metadata": {
    "execution": {
     "iopub.execute_input": "2023-01-26T15:09:30.545363Z",
     "iopub.status.busy": "2023-01-26T15:09:30.544625Z",
     "iopub.status.idle": "2023-01-26T15:09:31.492529Z",
     "shell.execute_reply": "2023-01-26T15:09:31.491697Z"
    }
   },
   "outputs": [],
   "source": [
    "bm.plot_results_table(save_dir = metrics_dir + \"/Scaled\")"
   ]
  },
  {
   "attachments": {},
   "cell_type": "markdown",
   "metadata": {},
   "source": [
    "### Plot non-scaled integration merics"
   ]
  },
  {
   "cell_type": "code",
   "execution_count": null,
   "metadata": {
    "execution": {
     "iopub.execute_input": "2023-01-26T15:09:31.496126Z",
     "iopub.status.busy": "2023-01-26T15:09:31.495960Z",
     "iopub.status.idle": "2023-01-26T15:09:32.041015Z",
     "shell.execute_reply": "2023-01-26T15:09:32.040174Z"
    }
   },
   "outputs": [],
   "source": [
    "bm.plot_results_table(min_max_scale=False, save_dir = metrics_dir + \"/Non_scaled\")"
   ]
  },
  {
   "cell_type": "code",
   "execution_count": null,
   "metadata": {},
   "outputs": [],
   "source": [
    "from rich import print\n",
    "df = bm.get_results(min_max_scale=False)\n",
    "df.to_csv(metrics_dir + \"/non_scaled_metrics.csv\")\n"
   ]
  },
  {
   "attachments": {},
   "cell_type": "markdown",
   "metadata": {},
   "source": [
    "### Unintegrated"
   ]
  },
  {
   "cell_type": "code",
   "execution_count": null,
   "metadata": {
    "execution": {
     "iopub.execute_input": "2023-01-26T15:09:32.044381Z",
     "iopub.status.busy": "2023-01-26T15:09:32.044261Z",
     "iopub.status.idle": "2023-01-26T15:09:32.327097Z",
     "shell.execute_reply": "2023-01-26T15:09:32.326342Z"
    }
   },
   "outputs": [],
   "source": [
    "if \"unintegrated\" in tools:\n",
    "    adata_unintegrated = adata.copy()\n",
    "    sc.pp.neighbors(adata_unintegrated, use_rep=\"X_pca\")\n",
    "    sc.tl.umap(adata_unintegrated)\n",
    "    sc.pl.umap(adata_unintegrated,color=label)\n",
    "    sc.pl.umap(adata_unintegrated,color=batch)"
   ]
  },
  {
   "attachments": {},
   "cell_type": "markdown",
   "metadata": {},
   "source": [
    "### SCVI"
   ]
  },
  {
   "cell_type": "code",
   "execution_count": null,
   "metadata": {
    "execution": {
     "iopub.execute_input": "2023-01-26T15:09:32.330317Z",
     "iopub.status.busy": "2023-01-26T15:09:32.329825Z",
     "iopub.status.idle": "2023-01-26T15:09:37.280379Z",
     "shell.execute_reply": "2023-01-26T15:09:37.279434Z"
    }
   },
   "outputs": [],
   "source": [
    "if \"scvi\" in tools:\n",
    "    adata_scvi = adata.copy()\n",
    "    # use scVI latent space for UMAP generation\n",
    "    sc.pp.neighbors(adata_scvi, use_rep=\"scvi\")\n",
    "    sc.tl.umap(adata_scvi)\n",
    "    print(adata_scvi)\n",
    "    \n",
    "    sc.pl.umap(adata_scvi,color=label)\n",
    "    sc.pl.umap(adata_scvi,color=batch)\n",
    "    \n",
    "    \n",
    "    adata_scvi.obsm[\"X_mde\"] = mde(adata_scvi.obsm[\"scvi\"])\n",
    "    print(\"pymde plot\")\n",
    "    sc.pl.embedding(adata_scvi,basis=\"X_mde\",color=[label])\n",
    "    sc.pl.embedding(adata_scvi,basis=\"X_mde\",color=[batch])\n",
    "    \n",
    "    "
   ]
  },
  {
   "attachments": {},
   "cell_type": "markdown",
   "metadata": {},
   "source": [
    "### SCANVI"
   ]
  },
  {
   "cell_type": "code",
   "execution_count": null,
   "metadata": {},
   "outputs": [],
   "source": [
    "if \"scanvi\" in tools:\n",
    "    adata_scanvi = adata.copy()\n",
    "    # use scVI latent space for UMAP generation\n",
    "    sc.pp.neighbors(adata_scanvi, use_rep=\"scanvi\")\n",
    "    sc.tl.umap(adata_scanvi)\n",
    "    print(adata_scanvi)\n",
    "    \n",
    "    sc.pl.umap(adata_scanvi,color=label)\n",
    "    sc.pl.umap(adata_scanvi,color=batch)\n",
    "    \n",
    "    adata_scanvi.obsm[\"X_mde\"] = mde(adata_scanvi.obsm[\"scanvi\"])\n",
    "    print(\"pymde plot\")\n",
    "    sc.pl.embedding(adata_scanvi,basis=\"X_mde\",color=[label])\n",
    "    sc.pl.embedding(adata_scanvi,basis=\"X_mde\",color=[batch])\n",
    "    "
   ]
  },
  {
   "attachments": {},
   "cell_type": "markdown",
   "metadata": {},
   "source": [
    "### SCGEN"
   ]
  },
  {
   "cell_type": "code",
   "execution_count": null,
   "metadata": {},
   "outputs": [],
   "source": [
    "if \"scgen\" in tools:\n",
    "    adata_scgen = adata.copy()\n",
    "    sc.pp.neighbors(adata_scgen, use_rep=\"scgen\")\n",
    "    sc.tl.umap(adata_scgen)\n",
    "    print(adata_scgen)\n",
    "\n",
    "    sc.pl.umap(adata_scgen,color=label)\n",
    "    sc.pl.umap(adata_scgen,color=batch)"
   ]
  },
  {
   "attachments": {},
   "cell_type": "markdown",
   "metadata": {},
   "source": [
    "### TRVAE"
   ]
  },
  {
   "cell_type": "code",
   "execution_count": null,
   "metadata": {},
   "outputs": [],
   "source": [
    "if \"trvae\" in tools:\n",
    "    adata_trvae = adata.copy()\n",
    "    \n",
    "    sc.pp.neighbors(adata_trvae, use_rep=\"trvae\")\n",
    "    sc.tl.umap(adata_trvae)\n",
    "    print(adata_trvae)\n",
    " \n",
    "    sc.pl.umap(adata_trvae,color=label)\n",
    "    sc.pl.umap(adata_trvae,color=batch)"
   ]
  },
  {
   "attachments": {},
   "cell_type": "markdown",
   "metadata": {},
   "source": [
    "### Harmony"
   ]
  },
  {
   "cell_type": "code",
   "execution_count": null,
   "metadata": {},
   "outputs": [],
   "source": [
    "if \"harmony\" in tools:\n",
    "    adata_harmony = adata.copy()\n",
    "    \n",
    "    sc.pp.neighbors(adata_harmony, use_rep=\"harmony\")\n",
    "    sc.tl.umap(adata_harmony)\n",
    "    print(adata_harmony)\n",
    " \n",
    "    sc.pl.umap(adata_harmony,color=label)\n",
    "    sc.pl.umap(adata_harmony,color=batch)"
   ]
  },
  {
   "attachments": {},
   "cell_type": "markdown",
   "metadata": {},
   "source": [
    "### Combat"
   ]
  },
  {
   "cell_type": "code",
   "execution_count": null,
   "metadata": {
    "execution": {
     "iopub.execute_input": "2023-01-26T15:09:37.284279Z",
     "iopub.status.busy": "2023-01-26T15:09:37.284071Z",
     "iopub.status.idle": "2023-01-26T15:09:39.319297Z",
     "shell.execute_reply": "2023-01-26T15:09:39.318480Z"
    }
   },
   "outputs": [],
   "source": [
    "if \"combat\" in tools:\n",
    "    adata_combat = adata.copy()\n",
    "    \n",
    "    sc.pp.neighbors(adata_combat, use_rep=\"combat\")\n",
    "    sc.tl.umap(adata_combat)\n",
    "    print(adata_combat)\n",
    " \n",
    "    sc.pl.umap(adata_combat,color=label)\n",
    "    sc.pl.umap(adata_combat,color=batch)\n"
   ]
  },
  {
   "attachments": {},
   "cell_type": "markdown",
   "metadata": {},
   "source": [
    "### Scanorama"
   ]
  },
  {
   "cell_type": "code",
   "execution_count": null,
   "metadata": {
    "execution": {
     "iopub.execute_input": "2023-01-26T15:09:39.322370Z",
     "iopub.status.busy": "2023-01-26T15:09:39.322236Z",
     "iopub.status.idle": "2023-01-26T15:09:42.090883Z",
     "shell.execute_reply": "2023-01-26T15:09:42.090098Z"
    }
   },
   "outputs": [],
   "source": [
    "if \"scanorama\" in tools:\n",
    "    adata_scanorama = adata.copy()\n",
    "    \n",
    "    sc.pp.neighbors(adata_scanorama, use_rep=\"scanorama\")\n",
    "    sc.tl.umap(adata_scanorama)\n",
    "    print(adata_scanorama)\n",
    " \n",
    "    sc.pl.umap(adata_scanorama,color=label)\n",
    "    sc.pl.umap(adata_scanorama,color=batch)"
   ]
  },
  {
   "attachments": {},
   "cell_type": "markdown",
   "metadata": {},
   "source": [
    "### Desc"
   ]
  },
  {
   "cell_type": "code",
   "execution_count": null,
   "metadata": {},
   "outputs": [],
   "source": [
    "if \"desc\" in tools:\n",
    "    adata_desc = adata.copy()\n",
    "    \n",
    "    sc.pp.neighbors(adata_desc, use_rep=\"desc\")\n",
    "    sc.tl.umap(adata_desc)\n",
    "    print(adata_desc)\n",
    " \n",
    "    sc.pl.umap(adata_desc,color=label)\n",
    "    sc.pl.umap(adata_desc,color=batch)"
   ]
  },
  {
   "attachments": {},
   "cell_type": "markdown",
   "metadata": {},
   "source": [
    "### Liger"
   ]
  },
  {
   "cell_type": "code",
   "execution_count": null,
   "metadata": {},
   "outputs": [],
   "source": [
    "if \"liger\" in tools:\n",
    "    adata_liger = adata.copy()\n",
    "    \n",
    "    sc.pp.neighbors(adata_liger, use_rep=\"liger\")\n",
    "    sc.tl.umap(adata_liger)\n",
    "    print(adata_liger)\n",
    " \n",
    "    sc.pl.umap(adata_liger,color=label)\n",
    "    sc.pl.umap(adata_liger,color=batch)"
   ]
  },
  {
   "attachments": {},
   "cell_type": "markdown",
   "metadata": {},
   "source": [
    "### SAUCIE"
   ]
  },
  {
   "cell_type": "code",
   "execution_count": null,
   "metadata": {},
   "outputs": [],
   "source": [
    "if \"saucie\" in tools:\n",
    "    adata_saucie = adata.copy()\n",
    "    \n",
    "    sc.pp.neighbors(adata_saucie, use_rep=\"saucie\")\n",
    "    sc.tl.umap(adata_saucie)\n",
    "    print(adata_saucie)\n",
    " \n",
    "    sc.pl.umap(adata_saucie,color=label)\n",
    "    sc.pl.umap(adata_saucie,color=batch)"
   ]
  },
  {
   "attachments": {},
   "cell_type": "markdown",
   "metadata": {},
   "source": [
    "### Seurat cca"
   ]
  },
  {
   "cell_type": "code",
   "execution_count": null,
   "metadata": {},
   "outputs": [],
   "source": [
    "if \"seurat_cca\" in tools:\n",
    "    adata_cca = adata.copy()\n",
    "    \n",
    "    sc.pp.neighbors(adata_cca, use_rep=\"seurat_cca\")\n",
    "    sc.tl.umap(adata_cca)\n",
    "    print(adata_cca)\n",
    " \n",
    "    sc.pl.umap(adata_cca,color=label)\n",
    "    sc.pl.umap(adata_cca,color=batch)"
   ]
  },
  {
   "attachments": {},
   "cell_type": "markdown",
   "metadata": {},
   "source": [
    "### Seurat rpca"
   ]
  },
  {
   "cell_type": "code",
   "execution_count": null,
   "metadata": {},
   "outputs": [],
   "source": [
    "if \"seurat_rpca\" in tools:\n",
    "    adata_rpca = adata.copy()\n",
    "    \n",
    "    sc.pp.neighbors(adata_rpca, use_rep=\"seurat_rpca\")\n",
    "    sc.tl.umap(adata_rpca)\n",
    "    print(adata_rpca)\n",
    " \n",
    "    sc.pl.umap(adata_rpca,color=label)\n",
    "    sc.pl.umap(adata_rpca,color=batch)"
   ]
  },
  {
   "attachments": {},
   "cell_type": "markdown",
   "metadata": {},
   "source": [
    "### Fastmnn"
   ]
  },
  {
   "cell_type": "code",
   "execution_count": null,
   "metadata": {},
   "outputs": [],
   "source": [
    "if \"fastmnn\" in tools:\n",
    "    adata_fastmnn = adata.copy()\n",
    "    \n",
    "    sc.pp.neighbors(adata_fastmnn, use_rep=\"fastmnn\")\n",
    "    sc.tl.umap(adata_fastmnn)\n",
    "    print(adata_fastmnn)\n",
    " \n",
    "    sc.pl.umap(adata_fastmnn,color=label)\n",
    "    sc.pl.umap(adata_fastmnn,color=batch)"
   ]
  },
  {
   "attachments": {},
   "cell_type": "markdown",
   "metadata": {},
   "source": [
    "### MNN"
   ]
  },
  {
   "cell_type": "code",
   "execution_count": null,
   "metadata": {},
   "outputs": [],
   "source": [
    "if \"mnn\" in tools:\n",
    "    adata_mnn = adata.copy()\n",
    "    \n",
    "    sc.pp.neighbors(adata_mnn, use_rep=\"mnn\")\n",
    "    sc.tl.umap(adata_adata_mnnrpca)\n",
    " \n",
    "    sc.pl.umap(adata_mnn,color=label)\n",
    "    sc.pl.umap(adata_mnn,color=batch)"
   ]
  },
  {
   "attachments": {},
   "cell_type": "markdown",
   "metadata": {},
   "source": [
    "### BBKNN"
   ]
  },
  {
   "cell_type": "code",
   "execution_count": null,
   "metadata": {},
   "outputs": [],
   "source": [
    "if \"bbknn\" in tools:\n",
    "    adata_bbknn = sc.read(integrated_adata[\"bbknn\"])\n",
    "    sc.tl.umap(adata_bbknn)\n",
    "    print(adata_bbknn)\n",
    "    sc.pl.umap(adata_bbknn,color=label)\n",
    "    sc.pl.umap(adata_bbknn,color=batch)"
   ]
  },
  {
   "attachments": {},
   "cell_type": "markdown",
   "metadata": {},
   "source": [
    "### Conos"
   ]
  },
  {
   "cell_type": "code",
   "execution_count": null,
   "metadata": {},
   "outputs": [],
   "source": [
    "if \"conos2\" in tools:\n",
    "    adata_conos = read_conos_to_scanpy(integrated_adata[\"conos\"], adata)\n",
    "    print(adata_conos)\n",
    "    sc.pl.umap(adata_conos, color=label)\n",
    "    sc.pl.umap(adata_conos, color=batch)"
   ]
  },
  {
   "cell_type": "code",
   "execution_count": null,
   "metadata": {},
   "outputs": [],
   "source": []
  }
 ],
 "metadata": {
  "kernelspec": {
   "display_name": "Python 3.10.4 64-bit",
   "language": "python",
   "name": "python3"
  },
  "language_info": {
   "codemirror_mode": {
    "name": "ipython",
    "version": 3
   },
   "file_extension": ".py",
   "mimetype": "text/x-python",
   "name": "python",
   "nbconvert_exporter": "python",
   "pygments_lexer": "ipython3",
   "version": "3.10.8"
  },
  "vscode": {
   "interpreter": {
    "hash": "97cc609b13305c559618ec78a438abc56230b9381f827f22d070313b9a1f3777"
   }
  }
 },
 "nbformat": 4,
 "nbformat_minor": 2
}
