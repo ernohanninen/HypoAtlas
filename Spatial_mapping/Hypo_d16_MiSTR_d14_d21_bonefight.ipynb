{
 "cells": [
  {
   "attachments": {},
   "cell_type": "markdown",
   "metadata": {},
   "source": [
    "Author: Erno Hänninen\n",
    "\n",
    "Created: 25.03.2023\n",
    "\n",
    "Title: Hypo_d16_MiSTR_d14_d21_bonefight.ipynb\n",
    "\n",
    "Description: \n",
    "- Spatially align day 16 hypothalamic differentiation protocol data (supplemented with data from MiSTR atlas) to neural tube\n",
    "\n",
    "Procedure\n",
    "- Read the spatial data to FISHscale object\n",
    "- Convert the FISHscale object to anndata and remove medullary hindbrain from the spatial data\n",
    "- Read and concatenate single cell data (MiSTR and day 16)\n",
    "- From the subsetted data extract d14, d16 and d21 timepoints (d14 and d16 batches from mistr, and d16 from hypothalamus)\n",
    "- Extract genes shared among both datasets and identify HVG genes from this subset (these are used as training genes)\n",
    "- Subsample the data so that all clusters contains as many cells as the smallest cluster\n",
    "- Create cluster expression matrix for these genes (average expression value in each cluster)\n",
    "- Train BoneFight model and use the model to align tissues to spatial data (returns cluster-by-spot probability matrix)\n",
    "- Smooth the matrix\n",
    "- From the smoothed probability matrix for each spatial spot assing the the cluster with highest probability\n",
    "- Visualize the result\n",
    "\n",
    "List of non-standard modules:\n",
    "- bone_fight, tangram, anndata, FISHscale, scanpy, numpy, scipy, sklearn, fastcluster, matplotlib, pandas\n",
    "\n",
    "Additional information:\n",
    "- _smooth -function is copied from the script used in Comprehensive cell atlas of the first-trimester developing human brain -paper (Linnarsson lab)\n",
    "- construct_obs_plot, plot_cell_annotation_custom, convert_adata_array, tangram_plot_genes_custom -functions are from Tangram source code\n",
    "    - To better serve our purposes slightly modified versions of these functions are implemented in this notebook \n",
    "\n",
    "Conda environment used:\n",
    "- bonefight_env\n",
    "\n",
    "Usage:\n",
    "- The script was executed using Jupyter Notebook web interface. All the dependencies required by Jupyter are installed to bonefight_env Conda environment. See README file for further details"
   ]
  },
  {
   "cell_type": "code",
   "execution_count": null,
   "metadata": {},
   "outputs": [],
   "source": [
    "# Import python packages\n",
    "import bone_fight as bf\n",
    "import tangram as tg\n",
    "from anndata import AnnData\n",
    "import sys, os\n",
    "sys.path.insert(0, \"FISHscale\")\n",
    "from FISHscale.utils import dataset\n",
    "import scanpy as sc\n",
    "sc.settings.verbosity = 0\n",
    "sc.set_figure_params(dpi = 450, dpi_save = 450)\n",
    "import numpy as np\n",
    "from scipy.spatial.distance import pdist\n",
    "from scipy.spatial import KDTree\n",
    "from sklearn.preprocessing import scale\n",
    "import fastcluster\n",
    "import scipy.cluster.hierarchy as hc\n",
    "import matplotlib.pyplot as plt\n",
    "from matplotlib.colors import to_rgb, hex2color\n",
    "import pandas as pd\n",
    "import matplotlib.lines as mlines\n",
    "\n",
    "\n",
    "# Set plotting settings\n",
    "import matplotlib as mpl\n",
    "mpl.rcParams['figure.facecolor'] = \"none\"\n",
    "mpl.rcParams['legend.labelcolor'] = \"black\"\n",
    "mpl.rcParams['text.color'] = \"black\"\n",
    "\n",
    "if not os.path.exists('figures'):\n",
    "   os.makedirs('figures')"
   ]
  },
  {
   "attachments": {},
   "cell_type": "markdown",
   "metadata": {},
   "source": [
    "# Read and process spatial data"
   ]
  },
  {
   "cell_type": "code",
   "execution_count": null,
   "metadata": {},
   "outputs": [],
   "source": [
    "# Read spatial data\n",
    "d = dataset.Dataset(\"Data/LBEXP20211113_EEL_HE_5w_970um_RNA_transformed_assigned.parquet\",\n",
    "                       gene_label = 'decoded_genes', \n",
    "                       x_label = 'r_transformed', \n",
    "                       y_label = 'c_transformed', \n",
    "                       pixel_size='0.27 micrometer', \n",
    "                       other_columns=['Brain'],\n",
    "                       z = 970,\n",
    "                       reparse=False)\n",
    "d.set_working_selection(\"Brain\")"
   ]
  },
  {
   "cell_type": "code",
   "execution_count": null,
   "metadata": {},
   "outputs": [],
   "source": [
    "# Creating AnnData object from fishscale spatial data\n",
    "\n",
    "# Make hexagonal bins, the output can be used to create adata object\n",
    "# Returns pandas count dataframe to df_hex and spatial coordinates (x, y) to a list variable\n",
    "df_hex, coordinates = d.hexbin_make(spacing=50, min_count=10)\n",
    "\n",
    "# Initialize variables\n",
    "coordinates_to_keep = []\n",
    "count_df = df_hex.T\n",
    "spots_to_remove = []\n",
    "x, y = [], []\n",
    "\n",
    "# The spatial data contains part (hindbrain) which doesn't occur in our mistr data \n",
    "# Using the spatial coordinates (x, y) we are able to select the spots we are interested in \n",
    "for i, spot in enumerate(count_df.index):\n",
    "    if coordinates[i][0] < 1800 and coordinates[i][1] < 4300:\n",
    "        spots_to_remove.append(spot)\n",
    "    else:\n",
    "        coordinates_to_keep.append([coordinates[i][0]*-1,coordinates[i][1]])\n",
    "        x.append(coordinates[i][0]*-1)\n",
    "        y.append(coordinates[i][1])\n",
    "\n",
    "# Remove the unnecessary rows from df based on the spots_to_remove index list\n",
    "count_df = count_df.drop(spots_to_remove)\n",
    "\n",
    "# Create volume vector for bonefight\n",
    "volume_sp = np.array([1] * len(count_df))\n",
    "\n",
    "# Initialize anndata with count data, and add the spatial cordinates \n",
    "adata_spatial = AnnData(count_df.to_numpy(), obsm={\"spatial\": np.array(coordinates_to_keep)})\n",
    "adata_spatial.var.index = np.array(count_df.columns)\n",
    "adata_spatial.obs.index = np.array(count_df.index)\n",
    "adata_spatial.obs[\"x\"] = x\n",
    "adata_spatial.obs[\"y\"] = y\n",
    "\n",
    "# Plot results after removing the parts not occuring in our single cell data\n",
    "with plt.rc_context({\"figure.figsize\": [3.5, 2.2],   \"figure.dpi\": 400}):\n",
    "    xs = adata_spatial.obs.x.values\n",
    "    ys = adata_spatial.obs.y.values\n",
    "    plt.axis(\"off\")\n",
    "    plt.scatter(xs, ys, s=0.8, color=\"#D3D3D3\");\n",
    "    plt.savefig(\"figures/raw_spatial_data.png\", dpi=450, bbox_inches='tight')\n",
    "    plt.savefig(\"figures/raw_spatial_data.svg\", dpi=450, bbox_inches='tight')"
   ]
  },
  {
   "cell_type": "code",
   "execution_count": 5,
   "metadata": {},
   "outputs": [
    {
     "data": {
      "text/plain": [
       "AnnData object with n_obs × n_vars = 1164 × 448\n",
       "    obs: 'x', 'y'\n",
       "    obsm: 'spatial'"
      ]
     },
     "execution_count": 5,
     "metadata": {},
     "output_type": "execute_result"
    }
   ],
   "source": [
    "adata_spatial"
   ]
  },
  {
   "attachments": {},
   "cell_type": "markdown",
   "metadata": {},
   "source": [
    "# Read single cell data and prepare the data for bonefight"
   ]
  },
  {
   "cell_type": "code",
   "execution_count": 6,
   "metadata": {},
   "outputs": [],
   "source": [
    "# Reading single cell data (mistr atlas and day 16 data)\n",
    "mistr_data = sc.read_h5ad('Data/all_mistr_mnn.h5ad')\n",
    "d16 = sc.read_h5ad('../Scanvi_notebooks/Data/d16.h5ad')"
   ]
  },
  {
   "cell_type": "code",
   "execution_count": 9,
   "metadata": {},
   "outputs": [],
   "source": [
    "# Concaenate d16 and mistr data \n",
    "d16.var = d16.var.set_index('_index')\n",
    "mistr_data = mistr_data.concatenate(d16, join='outer')\n",
    "# Fill NA values\n",
    "mistr_data.obs[\"tissue\"] = mistr_data.obs[\"tissue\"].cat.add_categories('Hypothalamus d 16')\n",
    "mistr_data.obs[\"tissue\"] = mistr_data.obs[\"tissue\"].fillna(value=\"Hypothalamus d 16\")\n",
    "mistr_data.obs[\"day\"] = mistr_data.obs[\"day\"].cat.add_categories('day 16')\n",
    "mistr_data.obs[\"day\"] = mistr_data.obs[\"day\"].fillna(value=\"day 16\")"
   ]
  },
  {
   "cell_type": "code",
   "execution_count": null,
   "metadata": {},
   "outputs": [],
   "source": [
    "mistr_data.obs[\"tissue\"]"
   ]
  },
  {
   "cell_type": "code",
   "execution_count": null,
   "metadata": {},
   "outputs": [],
   "source": [
    "# Store spatial data before subsetting it\n",
    "adata_spatial_full = adata_spatial.copy()\n",
    "\n",
    "# Extract d14, d16 and d21 data from the single cell data\n",
    "# d14 and d21 is from mistr data and d16 from hypothalamus\n",
    "mistr_data_d14_d21 = mistr_data[mistr_data.obs[\"day\"].isin([\"day 14\",\"day 16\", \"day 21\",])]\n",
    "\n",
    "# Subset our mistr data using genes that are shared with the spatial data\n",
    "common_genes = [gene for gene in mistr_data_d14_d21.var.index if gene in adata_spatial.var.index]\n",
    "mistr_data_d14_d21_gene_subset = mistr_data_d14_d21[:, common_genes]\n",
    "\n",
    "# We run bonefight using only DE genes \n",
    "# From each cluster (6 tissues), we select 35 DE genes\n",
    "sc.tl.rank_genes_groups(mistr_data_d14_d21_gene_subset, groupby=\"tissue\", use_raw=False,method=\"wilcoxon\" )\n",
    "genes_to_keep_df = pd.DataFrame(mistr_data_d14_d21_gene_subset.uns[\"rank_genes_groups\"][\"names\"]).iloc[0:35, :]\n",
    "genes_to_keep = list(np.unique(genes_to_keep_df.melt().value.values))\n",
    "\n",
    "print(\"Number of training genes for BoneFight: \", len(genes_to_keep))\n",
    "\n",
    "# Subset the data using identified DE genes\n",
    "mistr_data_d14_d21_gene_subset_2 = mistr_data_d14_d21_gene_subset[:, genes_to_keep]\n",
    "adata_spatial = adata_spatial[:, genes_to_keep]\n",
    "count_df = count_df[count_df.columns[count_df.columns.isin(genes_to_keep)]]\n",
    "\n",
    "# Plot d14 and d21 single cell data\n",
    "with plt.rc_context({\"figure.figsize\": [4, 3],  \"figure.dpi\": 400}):\n",
    "    sc.pl.umap(mistr_data_d14_d21, color=\"tissue\", size = 3, frameon=False, show=True,legend_fontsize=\"large\", save=\"_mistr_hypo_d14_d21.png\")   "
   ]
  },
  {
   "cell_type": "code",
   "execution_count": null,
   "metadata": {},
   "outputs": [],
   "source": [
    "# Plotting DE genes used in bonefight\n",
    "with plt.rc_context({\"figure.figsize\": [4, 4],  \"figure.dpi\": 200}):\n",
    "    sc.pl.rank_genes_groups(mistr_data_d14_d21_gene_subset, n_genes=25, sharey=False,ncols=3)    "
   ]
  },
  {
   "cell_type": "code",
   "execution_count": null,
   "metadata": {},
   "outputs": [],
   "source": [
    "mistr_data_d14_d21_gene_subset_2.obs[\"tissue\"].value_counts() # Print cluster value counts"
   ]
  },
  {
   "cell_type": "code",
   "execution_count": null,
   "metadata": {},
   "outputs": [],
   "source": [
    "# Bonefight maps clusters instead of single cells \n",
    "# Subsample the data so that all the clusters have equal size\n",
    "tissue_types = np.unique(mistr_data_d14_d21_gene_subset_2.obs['tissue'])\n",
    "subsampled = []\n",
    "for tissue_type in tissue_types:\n",
    "    subset = mistr_data_d14_d21_gene_subset_2[mistr_data_d14_d21_gene_subset_2.obs['tissue'] == tissue_type, :]\n",
    "    if len(subset) >= 6223:\n",
    "        sc.pp.subsample(subset, n_obs=6223)    \n",
    "    subsampled.append(subset)\n",
    "    \n",
    "# Combine subsampled datasets into a single AnnData object\n",
    "subsampled_adata = subsampled[0].concatenate(subsampled[1:], join='outer')\n",
    "\n",
    "subsampled_adata"
   ]
  },
  {
   "cell_type": "code",
   "execution_count": 26,
   "metadata": {},
   "outputs": [],
   "source": [
    "# Create cluster gene expression matrix\n",
    "def create_expression_matrix(adata):\n",
    "    adata.obs['tissue'] = adata.obs['tissue'].astype('category')\n",
    "    cluster_expression = pd.DataFrame(columns=adata.var_names, index=adata.obs['tissue'].cat.categories)                                                                                                 \n",
    "\n",
    "    for clust in subsampled_adata.obs[\"tissue\"].cat.categories: \n",
    "        cluster_expression.loc[clust] = adata[adata.obs['tissue'].isin([clust]),:].X.mean(0)\n",
    "    return cluster_expression.transpose().sort_index()\n",
    "\n",
    "bonefigt_expression_matrix = create_expression_matrix(subsampled_adata)\n",
    "\n",
    "# Get value counts to dictionary and sort according the columns in cluster_expression dataframe\n",
    "cluster_counts_dict = subsampled_adata.obs[\"tissue\"].value_counts().to_dict()\n",
    "cluster_counts_dict = sorted(cluster_counts_dict.items(), key=lambda pair: list(bonefigt_expression_matrix.columns).index(pair[0]))\n",
    "\n",
    "# Volume_sc contains the cluster counts\n",
    "volume_sc = np.array(list(dict(cluster_counts_dict).values()))\n"
   ]
  },
  {
   "attachments": {},
   "cell_type": "markdown",
   "metadata": {},
   "source": [
    "# Bonefight"
   ]
  },
  {
   "cell_type": "code",
   "execution_count": 27,
   "metadata": {},
   "outputs": [
    {
     "name": "stderr",
     "output_type": "stream",
     "text": [
      "100%|██████████| 80/80 [00:42<00:00,  1.87it/s, loss=-1.1462272]\n"
     ]
    }
   ],
   "source": [
    "# Initialize bonefight and train the model\n",
    "a = bf.View(bonefigt_expression_matrix.T.to_numpy(), volume_sc)\n",
    "b = bf.View(count_df.to_numpy(), volume_sp)\n",
    "model = bf.BoneFight(a, b).fit(80, 0.1)\n"
   ]
  },
  {
   "cell_type": "code",
   "execution_count": null,
   "metadata": {},
   "outputs": [],
   "source": [
    "# Plot the training process to see that the model has reached convergence\n",
    "with plt.rc_context({\"figure.figsize\": [3.5, 3.5], \"figure.dpi\": 250}):\n",
    "    plt.figure()\n",
    "    plt.plot(model.losses)\n",
    "    plt.title('Convergence')\n",
    "    plt.xlabel('Epoch')\n",
    "    plt.ylabel('Losses')"
   ]
  },
  {
   "cell_type": "code",
   "execution_count": 29,
   "metadata": {},
   "outputs": [],
   "source": [
    "# Create an identity matrix, shape (n_clusters, n_clusters)\n",
    "labels = np.eye(len(bonefigt_expression_matrix.columns))\n",
    "# Transform it, and the result will be (x, y, n_clusters)\n",
    "y = model.transform(labels)\n",
    "\n",
    "#Put results in dataframe\n",
    "bonefight_df = pd.DataFrame(y, index=count_df.index, columns=bonefigt_expression_matrix.columns)"
   ]
  },
  {
   "cell_type": "code",
   "execution_count": 30,
   "metadata": {},
   "outputs": [
    {
     "data": {
      "text/plain": [
       "(1164, 7)"
      ]
     },
     "execution_count": 30,
     "metadata": {},
     "output_type": "execute_result"
    }
   ],
   "source": [
    "# Smooth results\n",
    "# This smoothing function is from the first-trimester developing human brain -publication \n",
    "# (https://www.biorxiv.org/content/10.1101/2022.10.24.513487v1.full)\n",
    "def _smooth(xy, data, k=28, weight=True):\n",
    "    \n",
    "    k += 1 #It will find itself but this is later removed\n",
    "    tree = KDTree(xy)\n",
    "    dist, kneigh = tree.query(xy, k=k)\n",
    "    data_np = data.to_numpy()\n",
    "    mean = data_np[kneigh[:, :]]\n",
    "    \n",
    "    if weight:\n",
    "        #Weigh by distance\n",
    "        dist_max = dist.max()\n",
    "        mean = mean * (dist_max - dist[:,:, np.newaxis])\n",
    "        \n",
    "    mean = mean.mean(axis=1)\n",
    "    \n",
    "    return mean\n",
    "\n",
    "smooth0_5w = _smooth(coordinates_to_keep, bonefight_df)\n",
    "\n",
    "bonefight_df_smooth = pd.DataFrame(data = smooth0_5w, index = bonefight_df.index, columns=bonefight_df.columns)\n",
    "bonefight_df_smooth.shape"
   ]
  },
  {
   "cell_type": "code",
   "execution_count": null,
   "metadata": {},
   "outputs": [],
   "source": [
    "# Bonefight returns a dataframe in where each cluster has its probability value to be in spatial spot j.\n",
    "# The values are stored in relative scale\n",
    "bonefight_df_smooth"
   ]
  },
  {
   "attachments": {},
   "cell_type": "markdown",
   "metadata": {},
   "source": [
    "# Prepare bonefight results for tangram functions"
   ]
  },
  {
   "cell_type": "code",
   "execution_count": 32,
   "metadata": {},
   "outputs": [],
   "source": [
    "# Tangram plotting function inverts the y axis, and there is no parameter to control this\n",
    "# Therefore this function can be used to invert the y axis before passing the data to tangram plotting functions\n",
    "# and when tangram inverts the axis again, the plot is displayed correctly\n",
    "\n",
    "def invert_y_axis_for_tangram(adata):\n",
    "    counter, inverted_coordinates = 0, []\n",
    "    # Looping over the coordinatas, and multiplying the y-axis coordinates by 1 and append the updated coordinates to list\n",
    "    for i in range(len(adata.obsm[\"spatial\"])):\n",
    "        inverted_coordinates.append((adata.obsm[\"spatial\"][i][0],adata.obsm[\"spatial\"][i][1]*-1))\n",
    "\n",
    "    # Store the updated coordinates in adata_spatial object\n",
    "    adata.obsm[\"spatial\"] = np.array(inverted_coordinates)\n",
    "    return adata"
   ]
  },
  {
   "cell_type": "code",
   "execution_count": null,
   "metadata": {},
   "outputs": [],
   "source": [
    "# Calling the function that invers y axis, both with the full and subsetted spatial data\n",
    "adata_spatial = invert_y_axis_for_tangram(adata_spatial)\n",
    "adata_spatial_full = invert_y_axis_for_tangram(adata_spatial_full)\n",
    "adata_spatial.obsm[\"spatial\"]"
   ]
  },
  {
   "cell_type": "code",
   "execution_count": 34,
   "metadata": {},
   "outputs": [],
   "source": [
    "# This code is edited version of tangrams plot_cell_annotation_sc function\n",
    "# The original function contained some shortcommings, therefore this custom version is used\n",
    "# Only small edits was made: allows saving the figure and some additional parameters\n",
    "import pylab as pl\n",
    "sc.set_figure_params(scanpy=True, fontsize=10)\n",
    "def construct_obs_plot(df_plot, adata, perc=0, suffix=None):\n",
    "    # clip\n",
    "    df_plot = df_plot.clip(df_plot.quantile(perc), df_plot.quantile(1 - perc), axis=1)\n",
    "\n",
    "    # normalize\n",
    "    df_plot = (df_plot - df_plot.min()) / (df_plot.max() - df_plot.min())\n",
    "\n",
    "    if suffix:\n",
    "        df_plot = df_plot.add_suffix(\" ({})\".format(suffix))\n",
    "    adata.obs = pd.concat([adata.obs, df_plot], axis=1)\n",
    "\n",
    "def plot_cell_annotation_custom(adata_sp, annotation_list, x=\"x\", y=\"y\", spot_size=None, scale_factor=None, perc=0,alpha_img=1.0,bw=False,ax=None, show=True, save=False, ncols=4):\n",
    "        \n",
    "    # remove previous df_plot in obs\n",
    "    adata_sp.obs.drop(annotation_list, inplace=True, errors=\"ignore\", axis=1)\n",
    "\n",
    "    # construct df_plot\n",
    "    df = adata_sp.obsm[\"tangram_ct_pred\"][annotation_list]\n",
    "    construct_obs_plot(df, adata_sp, perc=perc)\n",
    "    \n",
    "    #non visium data \n",
    "    if 'spatial' not in adata_sp.obsm.keys():\n",
    "        #add spatial coordinates to obsm of spatial data \n",
    "        coords = [[x,y] for x,y in zip(adata_sp.obs[x].values,adata_sp.obs[y].values)]\n",
    "        adata_sp.obsm['spatial'] = np.array(coords)\n",
    "    \n",
    "    if 'spatial' not in adata_sp.uns.keys() and spot_size == None and scale_factor == None:\n",
    "        raise ValueError(\"Spot Size and Scale Factor cannot be None when ad_sp.uns['spatial'] does not exist\")\n",
    "    \n",
    "    #REVIEW\n",
    "    if 'spatial' in adata_sp.uns.keys() and spot_size != None and scale_factor != None:\n",
    "        raise ValueError(\"Spot Size and Scale Factor should be None when ad_sp.uns['spatial'] exists\")\n",
    "    \n",
    "    sc.pl.spatial(\n",
    "        adata_sp, color=annotation_list, show=show, frameon=False, spot_size=spot_size,\n",
    "        scale_factor=scale_factor, alpha_img=alpha_img, bw=bw, ax=ax, ncols=ncols, save=save, colorbar_loc=None)\n",
    "\n",
    "\n",
    "    adata_sp.obs.drop(annotation_list, inplace=True, errors=\"ignore\", axis=1)"
   ]
  },
  {
   "cell_type": "code",
   "execution_count": null,
   "metadata": {},
   "outputs": [],
   "source": [
    "# In tangram tutorial they use project_cell_annotations function to move cell annotations onto space\n",
    "# However, as the output of project_cell_annotations function corresponds the bonefight's output dataframe,\n",
    "# we are not running the function in here\n",
    "# Storing smoothed bonefight output dataframe to adata_spatial and plot the tissue probabilities in space\n",
    "\n",
    "adata_spatial.obsm[\"tangram_ct_pred\"] = bonefight_df_smooth\n",
    "annotation_list = list(pd.unique(subsampled_adata.obs['tissue']))\n",
    "adata_spatial.obsm[\"tangram_adjusted\"] = adata_spatial.obsm[\"tangram_ct_pred\"]\n",
    "annotation_list\n",
    "for tissue in annotation_list:\n",
    "    plot_cell_annotation_custom(adata_spatial, [tissue],x=\"x\",y=\"y\", spot_size=50, scale_factor=0.1, perc=0.001, ncols=3, save=\"_tissue_probability_svg/\"+tissue[3:]+\"_probabilities.svg\", show=True)   \n",
    "    plot_cell_annotation_custom(adata_spatial, [tissue],x=\"x\",y=\"y\", spot_size=50, scale_factor=0.1, perc=0.001, ncols=3, save=\"_tissue_probability_png/\"+tissue[3:]+\"_probabilities.png\", show=False)   \n",
    "    "
   ]
  },
  {
   "cell_type": "code",
   "execution_count": null,
   "metadata": {},
   "outputs": [],
   "source": [
    "# The tissue with highest probability value is assigned for each spatial spot\n",
    "# The tissue with highest probability gets value 1, rest gets value 0\n",
    "\n",
    "adata_spatial.obsm[\"tangram_adjusted\"] = adata_spatial.obsm[\"tangram_adjusted\"].eq(adata_spatial.obsm[\"tangram_adjusted\"].where(adata_spatial.obsm[\"tangram_adjusted\"] != 0).max(1), axis=0).astype(int)\n",
    "adata_spatial.obsm[\"tangram_ct_pred\"] = adata_spatial.obsm[\"tangram_adjusted\"]\n",
    "# Plot the assigned tissues on space\n",
    "plot_cell_annotation_custom(adata_spatial, annotation_list,x='x', y='y',spot_size= 50, scale_factor=0.1, perc=0.001, ncols=3, save=False, show=True)\n"
   ]
  },
  {
   "cell_type": "code",
   "execution_count": null,
   "metadata": {},
   "outputs": [],
   "source": [
    "# Next we merge d14 and d21 clusters so that we have one cluster for each tissue\n",
    "\n",
    "# Merging the clusters \n",
    "adata_spatial.obs[\"predicted_tissue\"] = list(adata_spatial.obsm[\"tangram_adjusted\"].idxmax(axis=1).values)\n",
    "adata_spatial.obs['merged_pred_tissue'] = adata_spatial.obs['predicted_tissue'].replace({'R/C dorsal d 21': 'R/C dorsal', 'R/C dorsal d 14': 'R/C dorsal', \n",
    "                                'R/C ventral d 14': 'R/C ventral', 'R/C ventral d 21': 'R/C ventral',\n",
    "                                'D/V forebrain d 14': 'D/V forebrain', 'D/V forebrain d 21':'D/V forebrain',\n",
    "                                \"Hypothalamus\":\"Hypothalamus\"})\n",
    "\n",
    "# Color code the clusters\n",
    "adata_spatial.obs[\"tissue_color\"] = \"unknown\"\n",
    "adata_spatial.obs.loc[adata_spatial.obs['merged_pred_tissue'] == 'R/C dorsal', 'tissue_color'] = \"#6cb16d\"\n",
    "adata_spatial.obs.loc[adata_spatial.obs['merged_pred_tissue'] == 'R/C ventral', 'tissue_color'] = \"#f7c701\"\n",
    "adata_spatial.obs.loc[adata_spatial.obs['merged_pred_tissue'] == 'D/V forebrain', 'tissue_color'] = \"#cc6677\"\n",
    "adata_spatial.obs.loc[adata_spatial.obs['merged_pred_tissue'] == 'Hypothalamus d 16', 'tissue_color'] = \"#1F77B4\"\n",
    "\n",
    "# Plotting results\n",
    "with plt.rc_context({\"figure.figsize\": [3.5, 2.5],  \"figure.dpi\": 450}):\n",
    "    xs = adata_spatial.obs.x.values\n",
    "    #xs = [x * -1 for x in xs]\n",
    "    ys = adata_spatial.obs.y.values\n",
    "    plt.scatter(xs, ys, s=0.7, c=adata_spatial.obs['tissue_color'].values);\n",
    "    plt.axis('off')\n",
    "    dorsal_legend = mlines.Line2D([],[],color='#6cb16d', label='R/C dorsal d14/d21', marker=\"o\", markersize=6)\n",
    "    ventral_legend = mlines.Line2D([],[],color='#f7c701', label='R/C ventral d14/d21', marker=\"o\", markersize=6)\n",
    "    forebrain_legend = mlines.Line2D([],[],color='#cc6677', label='D/V forebrain d14/d21', marker=\"o\", markersize=6)\n",
    "    hypothalamus_legend = mlines.Line2D([],[],color='#1F77B4', label='Hypothalamus d 16', marker=\"o\", markersize=6)\n",
    "    \n",
    "    plt.legend(handles=[dorsal_legend,ventral_legend,forebrain_legend, hypothalamus_legend], loc=\"center left\",  bbox_to_anchor=(0.98, 0.45), frameon=False, prop={'size': 10})\n",
    "    plt.grid()\n",
    "    plt.savefig('figures/projected_tissues_hypothalamus.png', dpi=360, bbox_inches='tight')\n",
    "    #plt.savefig(\"figures/projected_tissues.png\", dpi=450, bbox_inches='tight')  \n",
    "    plt.show()"
   ]
  },
  {
   "attachments": {},
   "cell_type": "markdown",
   "metadata": {},
   "source": [
    "# Visualizing measured gene expression"
   ]
  },
  {
   "cell_type": "code",
   "execution_count": 23,
   "metadata": {},
   "outputs": [],
   "source": [
    "# This code is edited version of tangram plot_genes_sc function\n",
    "# The original function contained some shortcommings,\n",
    "# and therefore a customized version of it was used to plot mesured / projected genes on space\n",
    "# The original function allows plotting measured and projected expression side by side,\n",
    "# whereas this function plots either measured or projected genes\n",
    "# Other changes: possibility to save the figure and some additional parameters that serves better our purposes\n",
    "\n",
    "from scipy.sparse.csr import csr_matrix\n",
    "from scipy.sparse.csc import csc_matrix\n",
    "from matplotlib.gridspec import GridSpec\n",
    "sc.set_figure_params(dpi_save = 500)\n",
    "\n",
    "\n",
    "def convert_adata_array(adata):\n",
    "    if isinstance(adata.X, csc_matrix) or isinstance(adata.X, csr_matrix):\n",
    "        adata.X = adata.X.toarray()\n",
    "        \n",
    "def tangram_plot_genes_custom(adata, genes=[], x=\"x\",y = \"y\",spot_size=None, save=False,scale_factor=None, ncols=4, cmap=\"inferno\",\n",
    "                              perc=0,alpha_img=1.0,bw=False,return_figure=False, plot_measured_spatial=False, show=True):\n",
    "    # construct df_plot\n",
    "    data = []\n",
    "    \n",
    "    # remove df_plot in obs\n",
    "    if plot_measured_spatial == False:\n",
    "        adata.obs.drop([\"{} (projected gene expression)\".format(gene) for gene in genes], inplace=True, errors=\"ignore\", axis=1)\n",
    "        adata.var.index = [g.upper() for g in adata.var.index]\n",
    "        adata.obs.drop([\"{} (projected gene expression)\".format(gene) for gene in genes], inplace=True, errors=\"ignore\", axis=1)\n",
    "        \n",
    "        df = pd.DataFrame(data=np.array(adata[:, genes].X), columns=genes, index=adata.obs.index)\n",
    "        construct_obs_plot(df, adata, perc=perc, suffix=\"projected gene expression\")\n",
    "            \n",
    "    else:\n",
    "        adata.obs.drop([\"{} (measured gene expression)\".format(gene) for gene in genes], inplace=True, errors=\"ignore\", axis=1)\n",
    "        \n",
    "        # prepare adatas\n",
    "        convert_adata_array(adata)\n",
    "        adata.var.index = [g.upper() for g in adata.var.index]\n",
    "        adata.obs.drop([\"{} (measured gene expression)\".format(gene) for gene in genes],inplace=True,errors=\"ignore\",axis=1,)\n",
    "        for ix, gene in enumerate(genes):\n",
    "            if gene not in adata.var.index:\n",
    "                data.append(np.zeros_like(np.array(adata[:, 0].X).flatten()))\n",
    "            else:\n",
    "                data.append(np.array(adata[:, gene].X).flatten())\n",
    "\n",
    "        df = pd.DataFrame(\n",
    "            data=np.array(data).T, columns=genes, index=adata.obs.index,\n",
    "        )\n",
    "        construct_obs_plot(df, adata, suffix=\"measured gene expression\")\n",
    "\n",
    "    fig = plt.figure(figsize=(7, len(genes) * 3.5))\n",
    "    gs = GridSpec(len(genes), 2, figure=fig)\n",
    "    \n",
    "    #non visium data\n",
    "    if 'spatial' not in adata.obsm.keys():\n",
    "        #add spatial coordinates to obsm of spatial data \n",
    "        if plot_measured_spatial == True:\n",
    "            coords = [[x,y] for x,y in zip(adata.obs[x].values,adata.obs[y].values)]\n",
    "            adata.obsm['spatial'] = np.array(coords)\n",
    "        else:\n",
    "            coords = [[x,y] for x,y in zip(adata.obs[x].values,adata.obs[y].values)]\n",
    "            adata.obsm['spatial'] = np.array(coords)\n",
    "\n",
    "    if (\"spatial\" not in adata.uns.keys()) and (spot_size==None and scale_factor==None):\n",
    "        raise ValueError(\"Spot Size and Scale Factor cannot be None when ad_sp.uns['spatial'] does not exist\")\n",
    "        \n",
    "    gene_list=[]\n",
    "    for gene in genes:\n",
    "        if plot_measured_spatial==True:       \n",
    "            gene_list.append(\"{} (measured gene expression)\".format(gene))          \n",
    "        else:\n",
    "            gene_list.append(\"{} (projected gene expression)\".format(gene))\n",
    "        \n",
    "    if plot_measured_spatial == True:\n",
    "        sc.pl.spatial(adata, spot_size=spot_size, scale_factor=scale_factor, color=gene_list,\n",
    "            frameon=False, show=show, cmap=cmap, alpha_img=alpha_img, bw=bw, ncols=ncols, colorbar_loc=None, save=save, vmax=0.52)\n",
    "    else: \n",
    "        #key = dict_keys[i+j]\n",
    "        #sc.pl.spatial(adata, spot_size=spot_size, scale_factor=scale_factor, color=[\"{} (predicted)\".format(gene)],\n",
    "        sc.pl.spatial(adata, spot_size=spot_size, scale_factor=scale_factor, color=gene_list, \n",
    "            frameon=False, show=show, cmap=cmap, alpha_img=alpha_img, bw=bw, ncols=ncols, colorbar_loc=None,save=save )\n",
    "    \n",
    "    \"\"\"if show == True:\n",
    "        a = np.array([[0,1]])\n",
    "        pl.figure(figsize=(0.14, 4.5))\n",
    "        img = pl.imshow(a, cmap=\"YlGnBu\")\n",
    "        pl.gca().set_visible(False)\n",
    "        cax = pl.axes([0.1, 0.2, 0.8, 0.6])\n",
    "        pl.colorbar(orientation=\"vertical\", cax=cax)\n",
    "        pl.savefig(\"figures/YlGnBu_colorbar_1.png\", dpi=450, bbox_inches='tight')\n",
    "\n",
    "        a = np.array([[0,1]])\n",
    "        pl.figure(figsize=(0.14, 1.8))\n",
    "        img = pl.imshow(a, cmap=\"YlGnBu\")\n",
    "        pl.gca().set_visible(False)\n",
    "        cax = pl.axes([0.1, 0.2, 0.8, 0.6])\n",
    "        pl.colorbar(orientation=\"vertical\", cax=cax)\n",
    "        pl.savefig(\"figures/YlGnBu_colorbar_2.png\", dpi=450, bbox_inches='tight')\"\"\"\n",
    "    \n",
    "    # remove df_plot in obs\n",
    "    if plot_measured_spatial == True:\n",
    "        adata.obs.drop([\"{} (measured gene expression)\".format(gene) for gene in genes], inplace=True, errors=\"ignore\", axis=1)\n",
    "    else:\n",
    "        adata.obs.drop([\"{} (projected gene expression)\".format(gene) for gene in genes], inplace=True, errors=\"ignore\", axis=1)\n",
    "          \n",
    "    if return_figure==True:\n",
    "        return fig"
   ]
  },
  {
   "cell_type": "code",
   "execution_count": null,
   "metadata": {},
   "outputs": [],
   "source": [
    "with plt.rc_context({\"figure.figsize\": [3.5, 2.5],  \"figure.dpi\": 450}):\n",
    "\n",
    "    for gene in [\"NKX2-1\"]:\n",
    "        tangram_plot_genes_custom(adata_spatial_full, genes=[gene],spot_size=50,\n",
    "                              scale_factor=0.1, perc = 0.001, return_figure=False, cmap=\"viridis\", plot_measured_spatial=True, save=\"_measured_png/\"+gene+\"_measured_expression.png\", show=True)"
   ]
  },
  {
   "cell_type": "code",
   "execution_count": null,
   "metadata": {},
   "outputs": [],
   "source": []
  }
 ],
 "metadata": {
  "kernelspec": {
   "display_name": "Python [conda env:.conda-bonefight_env]",
   "language": "python",
   "name": "conda-env-.conda-bonefight_env-py"
  },
  "language_info": {
   "codemirror_mode": {
    "name": "ipython",
    "version": 3
   },
   "file_extension": ".py",
   "mimetype": "text/x-python",
   "name": "python",
   "nbconvert_exporter": "python",
   "pygments_lexer": "ipython3",
   "version": "3.7.16"
  }
 },
 "nbformat": 4,
 "nbformat_minor": 4
}
