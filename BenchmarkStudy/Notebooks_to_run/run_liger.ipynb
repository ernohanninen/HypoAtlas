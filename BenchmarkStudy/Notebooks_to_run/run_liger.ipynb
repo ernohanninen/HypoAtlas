{
 "cells": [
  {
   "cell_type": "code",
   "execution_count": 4,
   "id": "5f623cbb",
   "metadata": {
    "tags": [
     "injected-parameters",
     "input_data_path",
     "batch",
     "label"
    ],
    "vscode": {
     "languageId": "r"
    }
   },
   "outputs": [],
   "source": [
    "# Parameters\n",
    "input_data_path = \"\"\n",
    "batch = \"\"\n",
    "label = \"\""
   ]
  },
  {
   "cell_type": "markdown",
   "id": "66a9c9aa",
   "metadata": {
    "papermill": {},
    "tags": []
   },
   "source": [
    "Jupyter notebook for liger integration algoritm\n",
    "\n",
    "Author: Erno Hänninen\n",
    "\n",
    "Title: run_liger.ipynb\n",
    "\n",
    "Created: 2022-12-05"
   ]
  },
  {
   "cell_type": "code",
   "execution_count": 5,
   "id": "f3198895",
   "metadata": {
    "papermill": {},
    "tags": [],
    "vscode": {
     "languageId": "r"
    }
   },
   "outputs": [],
   "source": [
    "require(rliger)\n",
    "require(Seurat)"
   ]
  },
  {
   "cell_type": "code",
   "execution_count": null,
   "id": "845d63cc",
   "metadata": {
    "papermill": {},
    "tags": [],
    "vscode": {
     "languageId": "r"
    }
   },
   "outputs": [],
   "source": [
    "sobj = readRDS(input_data_path)\n",
    "sobj"
   ]
  },
  {
   "cell_type": "code",
   "execution_count": 7,
   "id": "07bb4fed",
   "metadata": {
    "papermill": {},
    "tags": [],
    "vscode": {
     "languageId": "r"
    }
   },
   "outputs": [],
   "source": [
    "# This function is from https://github.com/theislab/scib-pipeline/blob/0c7be53b1000864fcd31a7b7594f9a5071204233/scripts/integration/integration.R\n",
    "runLiger = function(sobj, batch, hvg, k=20, res=0.4, small.clust.thresh=20) {\n",
    "\n",
    " # Only counts is converted to liger object. To pass our own normalized data,\n",
    "  # store it in the \"counts\" slot\n",
    "  if (is.null(sobj@assays$RNA)) {\n",
    "    # Seurat v4\n",
    "    data <- GetAssayData(sobj, slot = \"data\")\n",
    "    SetAssayData(sobj, slot = \"counts\", new.data = as.matrix(data))\n",
    "  } else {\n",
    "    # Seurat v3\n",
    "    sobj@assays$RNA@counts = sobj@assays$RNA@data\n",
    "  }\n",
    "\n",
    "  # Create Liger object\n",
    "  lobj = seuratToLiger(\n",
    "    sobj,\n",
    "    raw.assay=\"originalexp\",\n",
    "    combined.seurat = T,\n",
    "    meta.var = batch,\n",
    "    renormalize = F,\n",
    "    remove.missing = F\n",
    "  )\n",
    "\n",
    "  # We only pass nomarlized data, so store it as such\n",
    "  lobj@norm.data <- lobj@raw.data\n",
    "\n",
    "  # Assign hvgs\n",
    "  lobj@var.genes <- hvg\n",
    "\n",
    "  lobj <- scaleNotCenter(lobj, remove.missing = F) # Can't do our own scaling atm\n",
    "\n",
    "  # Use tutorial coarse k suggests of 20.\n",
    "  lobj <- optimizeALS(lobj, k = k, thresh = 5e-5, nrep = 3)\n",
    "\n",
    "  lobj <- quantileAlignSNF(lobj, resolution = res, small.clust.thresh = small.clust.thresh)\n",
    "\n",
    "  # Store embedding in initial Seurat object\n",
    "  # Code taken from ligerToSeurat() function from LIGER\n",
    "  inmf.obj <- new(\n",
    "    Class = \"DimReduc\", feature.loadings = t(lobj@W),\n",
    "    cell.embeddings = lobj@H.norm, key = \"X_emb\"\n",
    "  )\n",
    "  sobj@reductions['X_emb'] <- inmf.obj\n",
    "\n",
    "  return(sobj)\n",
    "}\n"
   ]
  },
  {
   "cell_type": "code",
   "execution_count": null,
   "id": "ff92afe2",
   "metadata": {
    "papermill": {},
    "tags": [],
    "vscode": {
     "languageId": "r"
    }
   },
   "outputs": [],
   "source": [
    "\n",
    "if(file.exists(hvg)) {\n",
    "\thvg<-unlist(readRDS(hvg), use.names=FALSE)\n",
    "}else {\n",
    "\thvg <- rownames(sobj@assays$RNA)\n",
    "}\n",
    "\n",
    "liger_sobj = runLiger(sobj, batch, hvg)\n",
    "\n",
    "saveRDS(liger_sobj, file=\"../Integrated_adata/liger_output.rds\")"
   ]
  }
 ],
 "metadata": {
  "kernelspec": {
   "display_name": "R",
   "language": "R",
   "name": "ir"
  },
  "language_info": {
   "codemirror_mode": "r",
   "file_extension": ".r",
   "mimetype": "text/x-r-source",
   "name": "R",
   "pygments_lexer": "r",
   "version": "4.2.0"
  },
  "papermill": {
   "default_parameters": {},
   "environment_variables": {},
   "input_path": "../../../BenchmarkStudy/Notebooks_to_run/run_conos.ipynb",
   "output_path": "../../../BenchmarkStudy/Notebooks_to_run/run_conos.ipynb",
   "parameters": {
    "batch": "batch",
    "input_data_path": "/home/ernohanninen/master_project/work/dd/0dc61d019532d939e49d918aabc625/conos_seurat.rds",
    "label": "label"
   },
   "version": "2.4.0"
  },
  "vscode": {
   "interpreter": {
    "hash": "97cc609b13305c559618ec78a438abc56230b9381f827f22d070313b9a1f3777"
   }
  }
 },
 "nbformat": 4,
 "nbformat_minor": 5
}
