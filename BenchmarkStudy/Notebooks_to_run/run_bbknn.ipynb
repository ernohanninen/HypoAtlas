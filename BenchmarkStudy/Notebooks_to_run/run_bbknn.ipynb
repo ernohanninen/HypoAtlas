{
 "cells": [
  {
   "cell_type": "code",
   "execution_count": null,
   "metadata": {},
   "outputs": [],
   "source": [
    "input_data_path = ''  #Input non-normalizad data\n",
    "batch = ''\n",
    "label = ''"
   ]
  },
  {
   "cell_type": "markdown",
   "metadata": {},
   "source": [
    "Jupyter notebook for bbknn integration algorithm\n",
    "\n",
    "Author: Erno Hänninen\n",
    "\n",
    "Title: run_bbknn.ipynb\n",
    "\n",
    "Created: 2022-11-29"
   ]
  },
  {
   "cell_type": "code",
   "execution_count": null,
   "metadata": {},
   "outputs": [],
   "source": [
    "import sys\n",
    "sys.path.insert(0, \"../../../../Scripts\") #Adding a path to be able to import the jupyter_functions\n",
    "from jupyter_functions import *\n",
    "import scanpy as sc\n",
    "import scib\n"
   ]
  },
  {
   "cell_type": "code",
   "execution_count": null,
   "metadata": {},
   "outputs": [],
   "source": [
    "#Read the adata object and extract the variable genes to list\n",
    "adata = sc.read(input_data_path)\n",
    "hvgList = adata.var.index.tolist()\n",
    "print(len(hvgList))"
   ]
  },
  {
   "cell_type": "code",
   "execution_count": null,
   "metadata": {},
   "outputs": [],
   "source": [
    "#Run integration algorithm\n",
    "adata_bbknn = scib.integration.bbknn(adata, batch=batch, hvg=hvgList)\n",
    "print(adata_bbknn)"
   ]
  },
  {
   "cell_type": "code",
   "execution_count": null,
   "metadata": {},
   "outputs": [],
   "source": [
    "#Calling plot function from jupyter_functions.py file\n",
    "#The function initializes the adata  to be plotted\n",
    "adata_bbknn_final, basis = plot_results(adata_bbknn,\"bbknn\",\"full\")\n",
    "print(adata_bbknn_final)\n",
    "adata_bbknn_final.write(\"../Integrated_adata/bbknn_adata_final.h5ad\")\n",
    "\n"
   ]
  },
  {
   "cell_type": "code",
   "execution_count": null,
   "metadata": {},
   "outputs": [],
   "source": [
    "# Plot the results\n",
    "if batch in adata_bbknn_final.var_names or batch in adata_bbknn_final.obs.columns:\n",
    "    sc.pl.embedding(adata_bbknn_final, basis=basis, color=batch)\n",
    "    \n",
    "if label in adata_bbknn_final.var_names or label in adata_bbknn_final.obs.columns:\n",
    "    sc.pl.embedding(adata_bbknn_final, basis=basis, color=label)"
   ]
  },
  {
   "cell_type": "code",
   "execution_count": null,
   "metadata": {},
   "outputs": [],
   "source": [
    "#Call the compute metrics function which computes the integration metrics\n",
    "df = compute_metrics(\"bbknn\", adata, adata_bbknn_final, batch, label,\"X_pca\", \"full\")\n",
    "print(df)  "
   ]
  }
 ],
 "metadata": {
  "kernelspec": {
   "display_name": "Python 3.10.8 ('bbknn_env')",
   "language": "python",
   "name": "python3"
  },
  "language_info": {
   "name": "python"
  },
  "vscode": {
   "interpreter": {
    "hash": "b48f681b836cde25428f6779c36c8c8ce6500ee0938e79976a77ea5f8f68454f"
   }
  }
 },
 "nbformat": 4,
 "nbformat_minor": 2
}
