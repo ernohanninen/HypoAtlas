{
 "cells": [
  {
   "cell_type": "code",
   "execution_count": null,
   "metadata": {},
   "outputs": [],
   "source": [
    "input_data_path = '/home/ernohanninen/master_project/work/3c/9624ea1129b500b8af2d31f74caffc/scanvi_adata.h5ad'  #Input non-normalizad data\n",
    "batch = 'batch'\n",
    "labels = 'label'\n",
    "epochs = None"
   ]
  },
  {
   "cell_type": "code",
   "execution_count": null,
   "metadata": {},
   "outputs": [],
   "source": [
    "print(epochs)\n",
    "print(type(epochs))\n",
    "if epochs == \"None\":\n",
    "    epochs = None\n",
    "else:\n",
    "    epochs = int(epochs)\n",
    "    \n",
    "print(epochs)\n",
    "print(type(epochs))"
   ]
  },
  {
   "cell_type": "code",
   "execution_count": null,
   "metadata": {},
   "outputs": [],
   "source": [
    "import scanpy as sc\n",
    "import scib\n",
    "import pandas as pd\n",
    "import numpy as np\n",
    "from scvi.model.utils import mde\n",
    "import pymde"
   ]
  },
  {
   "cell_type": "code",
   "execution_count": null,
   "metadata": {},
   "outputs": [],
   "source": [
    "\n",
    "adata = sc.read(input_data_path)\n",
    "hvg  = adata.var.index\n",
    "print(adata)\n",
    "print(hvg)\n",
    "print(type(hvg))\n",
    "print(len(hvg))"
   ]
  },
  {
   "cell_type": "code",
   "execution_count": null,
   "metadata": {},
   "outputs": [],
   "source": [
    "#adata_scanvi = scIB.integration.scanvi(adata, batch_key=batch, hvg=hvgList,labels=labels, max_epochs=epochs)\n",
    "#adata_scanvi"
   ]
  },
  {
   "cell_type": "code",
   "execution_count": null,
   "metadata": {},
   "outputs": [],
   "source": [
    "#sc.pp.neighbors(adata_scanvi, use_rep=\"X_emb\") #adata.obsm[X_emb] contains the output of get_latent_representation -function\n",
    "#sc.tl.leiden(adata_scanvi)"
   ]
  },
  {
   "cell_type": "code",
   "execution_count": null,
   "metadata": {},
   "outputs": [],
   "source": [
    "#Visualize scVI's learned embeddings. Using pymnde package, an alternative to UMAP, that is GPU-accelerated.\n",
    "#adata_scanvi.obsm[\"X_mde\"] = mde(adata_scanvi.obsm[\"X_emb\"])"
   ]
  },
  {
   "cell_type": "code",
   "execution_count": null,
   "metadata": {},
   "outputs": [],
   "source": [
    "#sc.pl.embedding(adata_scanvi, basis=\"X_mde\", color=[\"batch\", \"leiden\"], frameon=False, ncols=1)"
   ]
  },
  {
   "cell_type": "code",
   "execution_count": null,
   "metadata": {},
   "outputs": [],
   "source": [
    "#sc.tl.umap(adata_scanvi)\n",
    "#sc.pl.umap(adata_scanvi, color=['batch', 'cell_type'], frameon=False, wspace=0.6)"
   ]
  }
 ],
 "metadata": {
  "kernelspec": {
   "display_name": "Python 3.10.4 64-bit",
   "language": "python",
   "name": "python3"
  },
  "language_info": {
   "name": "python",
   "version": "3.10.4"
  },
  "vscode": {
   "interpreter": {
    "hash": "97cc609b13305c559618ec78a438abc56230b9381f827f22d070313b9a1f3777"
   }
  }
 },
 "nbformat": 4,
 "nbformat_minor": 2
}
