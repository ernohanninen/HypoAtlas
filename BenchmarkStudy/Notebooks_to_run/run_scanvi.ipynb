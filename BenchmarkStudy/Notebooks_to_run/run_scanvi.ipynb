{
 "cells": [
  {
   "cell_type": "code",
   "execution_count": null,
   "metadata": {},
   "outputs": [],
   "source": [
    "input_data_path = ''  #Input non-normalizad data\n",
    "batch = ''\n",
    "label = ''\n",
    "epochs = 0"
   ]
  },
  {
   "cell_type": "markdown",
   "metadata": {},
   "source": [
    "Jupyter notebook for scanvi integration algorithm\n",
    "\n",
    "Author: Erno Hänninen\n",
    "\n",
    "Title: run_scanvi.ipynb\n",
    "\n",
    "Created: 2022-11-29"
   ]
  },
  {
   "cell_type": "code",
   "execution_count": null,
   "metadata": {},
   "outputs": [],
   "source": [
    "import sys\n",
    "sys.path.insert(0, \"../../../../Scripts\") #Adding a path to be able to import the jupyter_functions\n",
    "from jupyter_functions import *\n",
    "import scanpy as sc\n",
    "import scib"
   ]
  },
  {
   "cell_type": "code",
   "execution_count": null,
   "metadata": {},
   "outputs": [],
   "source": [
    "#Read the adata object and extract the variable genes to list\n",
    "adata = sc.read(input_data_path)\n",
    "hvgList = adata.var.index.tolist()\n",
    "print(len(hvgList))"
   ]
  },
  {
   "cell_type": "code",
   "execution_count": null,
   "metadata": {},
   "outputs": [],
   "source": [
    "#Run integration algorithm\n",
    "adata_scanvi, model = scib.integration.scanvi(adata, batch=batch, labels=label, hvg=hvgList, max_epochs=epochs)\n",
    "print(adata_scanvi)"
   ]
  },
  {
   "cell_type": "code",
   "execution_count": null,
   "metadata": {},
   "outputs": [],
   "source": [
    "train_elbo = model.history['elbo_train'][1:]\n",
    "train_elbo.plot()"
   ]
  },
  {
   "cell_type": "code",
   "execution_count": null,
   "metadata": {},
   "outputs": [],
   "source": [
    "#using pymde package to visualize the scVI's learned embeddings, like it was done in scvi-tools tutorial\n",
    "\n",
    "from scvi.model.utils import mde\n",
    "import pymde\n",
    "adata_scanvi.obsm[\"X_mde\"] = mde(adata_scanvi.obsm[\"X_emb\"])\n",
    "\n",
    "sc.pl.embedding(\n",
    "    adata_scanvi,\n",
    "    basis=\"X_mde\",\n",
    "    color=[batch, label],\n",
    "    frameon=False,\n",
    "    ncols=1,\n",
    ")"
   ]
  },
  {
   "cell_type": "code",
   "execution_count": null,
   "metadata": {},
   "outputs": [],
   "source": [
    "#Calling plot function from jupyter_functions.py file\n",
    "#The function initializes the adata  to be plotted\n",
    "adata_scanvi_final, basis = plot_results(adata_scanvi,\"scanvi\",\"full\")\n",
    "print(adata_scanvi_final)\n",
    "adata_scanvi_final.write(\"../Integrated_adata/scanvi_adata_final.h5ad\")"
   ]
  },
  {
   "cell_type": "code",
   "execution_count": null,
   "metadata": {},
   "outputs": [],
   "source": [
    "# Plot the results\n",
    "if batch in adata_scanvi_final.var_names or batch in adata_scanvi_final.obs.columns:\n",
    "    sc.pl.embedding(adata_scanvi_final, basis=basis, color=batch)\n",
    "    \n",
    "if label in adata_scanvi_final.var_names or label in adata_scanvi_final.obs.columns:\n",
    "    sc.pl.embedding(adata_scanvi_final, basis=basis, color=label)"
   ]
  },
  {
   "cell_type": "code",
   "execution_count": null,
   "metadata": {},
   "outputs": [],
   "source": [
    "#Call the compute metrics function which computes the integration metrics\n",
    "df = compute_metrics(\"scanvi\", adata, adata_scanvi_final, batch, label,\"X_pca\", \"full\")\n",
    "print(df)  "
   ]
  }
 ],
 "metadata": {
  "kernelspec": {
   "display_name": "Python 3.10.4 64-bit",
   "language": "python",
   "name": "python3"
  },
  "language_info": {
   "name": "python",
   "version": "3.10.4 (main, Mar 24 2022, 16:12:56) [GCC 9.4.0]"
  },
  "vscode": {
   "interpreter": {
    "hash": "97cc609b13305c559618ec78a438abc56230b9381f827f22d070313b9a1f3777"
   }
  }
 },
 "nbformat": 4,
 "nbformat_minor": 2
}
