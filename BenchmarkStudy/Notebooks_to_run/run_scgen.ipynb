{
 "cells": [
  {
   "cell_type": "code",
   "execution_count": null,
   "metadata": {},
   "outputs": [],
   "source": [
    "input_data_path = '/home/ernohanninen/master_project/work/63/2bf5d06d352a2e67af901c9a965379/scgen_seurat.rds'  #It is recommended to use normalized data for training\n",
    "batch = 'batch'\n",
    "labels = 'label2'\n",
    "hvgList = ''\n",
    "epochs = 100"
   ]
  },
  {
   "cell_type": "code",
   "execution_count": null,
   "metadata": {},
   "outputs": [],
   "source": [
    "print(epochs)\n",
    "print(type(epochs))\n",
    "\n",
    "\n",
    "    \n",
    "print(epochs)\n",
    "print(type(epochs))"
   ]
  },
  {
   "cell_type": "code",
   "execution_count": null,
   "metadata": {},
   "outputs": [],
   "source": [
    "import scanpy as sc\n",
    "import scib\n",
    "import pandas as pd\n",
    "import numpy as np"
   ]
  },
  {
   "cell_type": "code",
   "execution_count": null,
   "metadata": {},
   "outputs": [],
   "source": [
    "adata = sc.read(input_data_path)\n",
    "hvg  = adata.var.index\n",
    "print(adata)\n",
    "print(hvg)\n",
    "print(type(hvg))\n",
    "print(len(hvg))"
   ]
  },
  {
   "cell_type": "code",
   "execution_count": null,
   "metadata": {},
   "outputs": [],
   "source": [
    "#adata_scgen = scIB.integration.scgen(adata, batch_key=batch, labels_key=labels, epochs=epochs, hvg=hvgList)\n",
    "#adata_scgen"
   ]
  },
  {
   "cell_type": "code",
   "execution_count": null,
   "metadata": {},
   "outputs": [],
   "source": [
    "#sc.pp.neighbors(adata_scgen)\n",
    "#sc.tl.umap(adata_scgen)\n",
    "#sc.pl.umap(adata_scgen, color=[batch, labels], wspace=0.4, frameon=False)"
   ]
  }
 ],
 "metadata": {
  "kernelspec": {
   "display_name": "Python 3.10.4 64-bit",
   "language": "python",
   "name": "python3"
  },
  "language_info": {
   "name": "python",
   "version": "3.10.4"
  },
  "vscode": {
   "interpreter": {
    "hash": "97cc609b13305c559618ec78a438abc56230b9381f827f22d070313b9a1f3777"
   }
  }
 },
 "nbformat": 4,
 "nbformat_minor": 2
}
