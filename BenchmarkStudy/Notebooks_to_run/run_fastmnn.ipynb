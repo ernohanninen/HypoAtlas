{
 "cells": [
  {
   "cell_type": "code",
   "execution_count": 4,
   "id": "5f623cbb",
   "metadata": {
    "tags": [
     "injected-parameters",
     "input_data_path",
     "batch",
     "label"
    ],
    "vscode": {
     "languageId": "r"
    }
   },
   "outputs": [],
   "source": [
    "# Parameters\n",
    "input_data_path = \"\"\n",
    "batch = \"\"\n",
    "label = \"\""
   ]
  },
  {
   "cell_type": "markdown",
   "id": "66a9c9aa",
   "metadata": {
    "papermill": {},
    "tags": []
   },
   "source": [
    "Jupyter notebook for conos integration algoritm\n",
    "\n",
    "Author: Erno Hänninen\n",
    "\n",
    "Title: run_fastmnn.ipynb\n",
    "\n",
    "Created: 2022-11-30"
   ]
  },
  {
   "cell_type": "code",
   "execution_count": 5,
   "id": "f3198895",
   "metadata": {
    "papermill": {},
    "tags": [],
    "vscode": {
     "languageId": "r"
    }
   },
   "outputs": [],
   "source": [
    "require(batchelor)\n",
    "require(Seurat)"
   ]
  },
  {
   "cell_type": "code",
   "execution_count": null,
   "id": "845d63cc",
   "metadata": {
    "papermill": {},
    "tags": [],
    "vscode": {
     "languageId": "r"
    }
   },
   "outputs": [],
   "source": [
    "sobj = readRDS(input_data_path)\n",
    "sobj"
   ]
  },
  {
   "cell_type": "code",
   "execution_count": 7,
   "id": "07bb4fed",
   "metadata": {
    "papermill": {},
    "tags": [],
    "vscode": {
     "languageId": "r"
    }
   },
   "outputs": [],
   "source": [
    "# This function is from https://github.com/theislab/scib-pipeline/blob/0c7be53b1000864fcd31a7b7594f9a5071204233/scripts/integration/integration.R\n",
    "runFastMNN = function(sobj, batch) {\n",
    "  suppressPackageStartupMessages({\n",
    "    require(batchelor)\n",
    "  })\n",
    "\n",
    "  if (is.null(sobj@assays$RNA)) {\n",
    "    # Seurat v4\n",
    "    expr <- GetAssayData(sobj, slot = \"data\")\n",
    "  } else {\n",
    "    # Seurat v3\n",
    "    expr <- sobj@assays$RNA@data\n",
    "  }\n",
    "\n",
    "  sce <- fastMNN(expr, batch = sobj@meta.data[[batch]])\n",
    "  corrected_data <- assay(sce, \"reconstructed\")\n",
    "\n",
    "  if (is.null(sobj@assays$RNA)) {\n",
    "    # Seurat v4\n",
    "    sobj <- SetAssayData(sobj, slot = \"data\", new.data = as.matrix(corrected_data))\n",
    "    sobj@reductions['X_emb'] <- CreateDimReducObject(reducedDim(sce, \"corrected\"), key = 'fastmnn_')\n",
    "  } else {\n",
    "    # Seurat v3\n",
    "    sobj@assays$RNA <- CreateAssayObject(corrected_data)\n",
    "    sobj[['X_emb']] <- CreateDimReducObject(reducedDim(sce, \"corrected\"), key = 'fastmnn_')\n",
    "  }\n",
    "\n",
    "  return(sobj)\n",
    "}\n"
   ]
  },
  {
   "cell_type": "code",
   "execution_count": null,
   "id": "ff92afe2",
   "metadata": {
    "papermill": {},
    "tags": [],
    "vscode": {
     "languageId": "r"
    }
   },
   "outputs": [],
   "source": [
    "\n",
    "if(file.exists(hvg)) {\n",
    "\tprint(\"EXISTS\")\n",
    "\thvg<-unlist(readRDS(hvg), use.names=FALSE)\n",
    "\tprint(length(hvg))\n",
    "\tif(length(hvg) > 0){\n",
    "\t\tsobj <- subset(sobj, features=hvg)\n",
    "\t}\n",
    "} \n",
    "\n",
    "fastmnn_sobj=runFastMNN(sobj, batch)\n",
    "saveRDS(fastmnn_sobj, file=\"../Integrated_adata/fastmnn_output.rds\")"
   ]
  }
 ],
 "metadata": {
  "kernelspec": {
   "display_name": "R",
   "language": "R",
   "name": "ir"
  },
  "language_info": {
   "codemirror_mode": "r",
   "file_extension": ".r",
   "mimetype": "text/x-r-source",
   "name": "R",
   "pygments_lexer": "r",
   "version": "4.2.0"
  },
  "papermill": {
   "default_parameters": {},
   "environment_variables": {},
   "input_path": "../../../BenchmarkStudy/Notebooks_to_run/run_conos.ipynb",
   "output_path": "../../../BenchmarkStudy/Notebooks_to_run/run_conos.ipynb",
   "parameters": {
    "batch": "batch",
    "input_data_path": "/home/ernohanninen/master_project/work/dd/0dc61d019532d939e49d918aabc625/conos_seurat.rds",
    "label": "label"
   },
   "version": "2.4.0"
  },
  "vscode": {
   "interpreter": {
    "hash": "97cc609b13305c559618ec78a438abc56230b9381f827f22d070313b9a1f3777"
   }
  }
 },
 "nbformat": 4,
 "nbformat_minor": 5
}
