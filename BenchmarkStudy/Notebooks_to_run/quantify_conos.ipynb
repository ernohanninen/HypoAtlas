{
 "cells": [
  {
   "cell_type": "code",
   "execution_count": 1,
   "metadata": {
    "execution": {
     "iopub.execute_input": "2022-11-30T20:52:59.591642Z",
     "iopub.status.busy": "2022-11-30T20:52:59.590989Z",
     "iopub.status.idle": "2022-11-30T20:52:59.612923Z",
     "shell.execute_reply": "2022-11-30T20:52:59.610863Z"
    },
    "tags": [
     "injected-parameters",
     "batch",
     "label"
    ]
   },
   "outputs": [],
   "source": [
    "batch = \"\"\n",
    "label = \"\"\n",
    "original_data = \"\""
   ]
  },
  {
   "cell_type": "markdown",
   "metadata": {},
   "source": [
    "Jupyter notebook for plotting the results and getting the integration metrics of conos integration algoritm\n",
    "\n",
    "Author: Erno Hänninen\n",
    "\n",
    "Title: quantify_conos.ipynb\n",
    "\n",
    "Created: 2022-11-29"
   ]
  },
  {
   "cell_type": "code",
   "execution_count": 2,
   "metadata": {
    "execution": {
     "iopub.execute_input": "2022-11-30T20:52:59.621362Z",
     "iopub.status.busy": "2022-11-30T20:52:59.620869Z",
     "iopub.status.idle": "2022-11-30T20:53:02.536855Z",
     "shell.execute_reply": "2022-11-30T20:53:02.535696Z"
    }
   },
   "outputs": [],
   "source": [
    "import sys\n",
    "import os\n",
    "sys.path.insert(0, \"../../../../Scripts\") #Adding a path to be able to import the jupyter_functions\n",
    "from jupyter_functions import *\n",
    "import scanpy as sc\n",
    "import scib\n",
    "import pandas as pd\n",
    "import h5py\n",
    "import scipy.io\n",
    "from scipy.sparse import csr_matrix\n"
   ]
  },
  {
   "cell_type": "code",
   "execution_count": null,
   "metadata": {},
   "outputs": [],
   "source": [
    "original_adata = scib.pp.read_seurat(original_data)"
   ]
  },
  {
   "cell_type": "code",
   "execution_count": null,
   "metadata": {
    "execution": {
     "iopub.execute_input": "2022-11-30T20:53:02.541767Z",
     "iopub.status.busy": "2022-11-30T20:53:02.541490Z",
     "iopub.status.idle": "2022-11-30T20:53:02.721428Z",
     "shell.execute_reply": "2022-11-30T20:53:02.720785Z"
    }
   },
   "outputs": [],
   "source": [
    "\n",
    "#As the output of saveConosForScanPy wasn't directly readable to scanpy, reading the matrixes of conos_adata.h5 file independently and constructing the adata object from matrixes and dataframes\n",
    "dictionary = {}\n",
    "with h5py.File(\"../Integrated_adata/conos_adata.h5\", \"r\") as f: #Open file  \n",
    "    #Read the metadata and extract the cell id's\n",
    "    metadata = pd.DataFrame(f[\"metadata\"]['metadata.df'][:])\n",
    "    metadata.index = metadata.CellId\n",
    "    del metadata[\"CellId\"]\n",
    "    \n",
    "    #read genes, embedding and pseudopca matrices as pandas dataframe\n",
    "    gene_df = pd.DataFrame(f[\"genes\"][\"genes.df\"][:]) # Creates a df of the returned numpy array\n",
    "    embedding_df = pd.DataFrame(f[\"embedding\"][\"embedding.df\"][:])  \n",
    "    pseudopca_df = pd.DataFrame(f[\"pseudopca\"][\"pseudopca.df\"][:])\n",
    "\n",
    "    #Construct the graph connectivity matrix\n",
    "    shape = (f[\"graph_connectivities\"][\"shape\"][:][0],f[\"graph_connectivities\"][\"shape\"][:][1])\n",
    "    graph_conn_mtx = csr_matrix((f[\"graph_connectivities\"][\"data\"][:], f[\"graph_connectivities\"][\"indices\"][:], f[\"graph_connectivities\"][\"indptr\"][:]), shape=shape)\n",
    "    \n",
    "    #Construct the graph distance matrix\n",
    "    shape = (f[\"graph_distances\"][\"shape\"][:][0],f[\"graph_distances\"][\"shape\"][:][1])\n",
    "    graph_dist_mtx = csr_matrix((f[\"graph_distances\"][\"data\"][:], f[\"graph_distances\"][\"indices\"][:], f[\"graph_distances\"][\"indptr\"][:]), shape=shape)\n",
    "    \n",
    "    #Create the count matrix\n",
    "    shape = (f[\"raw_count_matrix\"][\"shape\"][:][0],f[\"raw_count_matrix\"][\"shape\"][:][1])\n",
    "    count_csr_matrix = csr_matrix((f[\"raw_count_matrix\"][\"data\"][:], f[\"raw_count_matrix\"][\"indices\"][:], f[\"raw_count_matrix\"][\"indptr\"][:])).transpose()\n",
    "    \n",
    "    #Store the count matrix to file and then read it and construct an adata object  \n",
    "    scipy.io.mmwrite(\"raw_count_matrix.mtx\", count_csr_matrix)\n",
    "    adata = sc.read_mtx(\"raw_count_matrix.mtx\")\n",
    "    os.remove(\"raw_count_matrix.mtx\") #Remove the created temp file\n",
    "    \n",
    "    #Initialize var and obs columns\n",
    "    adata.var_names = gene_df[\"gene\"].values\n",
    "    adata.obs_names = metadata.index.values\n",
    "    adata.obs = metadata.copy()\n",
    "    #Pca column\n",
    "    adata.X_pca = pseudopca_df.values\n",
    "    adata.obsm[\"X_pca\"] = pseudopca_df.values\n",
    "    #Umap column\n",
    "    adata.X_umap = embedding_df.values\n",
    "    adata.obsm[\"X_umap\"] = embedding_df.values\n",
    "    #Neighbors column\n",
    "    adata.uns[\"neighbors\"] = dict(\n",
    "        connectivities=graph_conn_mtx.tocsr(), distances=graph_dist_mtx.tocsr()\n",
    "    )\n",
    "    \n",
    "    #In the converison some of the columns are stored as byte objects, decoding the to UTF-8 format\n",
    "    adata.var.index = adata.var.index.str.decode(\"utf-8\")\n",
    "    adata.obs.index = adata.obs.index.str.decode(\"utf-8\")\n",
    "\n",
    "    #In the conversion some the categorical columns gets numeric value, therfore taking the categorical columns from the original adata to the integrated adata\n",
    "    for column in original_adata.obs.columns:\n",
    "        if original_adata.obs[column].dtypes == \"category\":\n",
    "            adata.obs[column] = original_adata.obs[column]\n",
    "\n",
    "\n"
   ]
  },
  {
   "cell_type": "code",
   "execution_count": null,
   "metadata": {
    "execution": {
     "iopub.execute_input": "2022-11-30T20:53:02.754275Z",
     "iopub.status.busy": "2022-11-30T20:53:02.754110Z",
     "iopub.status.idle": "2022-11-30T20:53:06.601815Z",
     "shell.execute_reply": "2022-11-30T20:53:06.601192Z"
    }
   },
   "outputs": [],
   "source": [
    "#Calling plot function from jupyter_functions.py file\n",
    "#The function initializes the adata  to be plotted\n",
    "adata_final, basis = plot_results(adata,\"conos\",\"full\")\n",
    "print(adata_final)\n",
    "adata_final.write(\"../Integrated_adata/conos_adata_final.h5ad\")\n"
   ]
  },
  {
   "cell_type": "code",
   "execution_count": 5,
   "metadata": {
    "execution": {
     "iopub.execute_input": "2022-11-30T20:53:06.604324Z",
     "iopub.status.busy": "2022-11-30T20:53:06.604189Z",
     "iopub.status.idle": "2022-11-30T20:53:06.607758Z",
     "shell.execute_reply": "2022-11-30T20:53:06.607224Z"
    }
   },
   "outputs": [],
   "source": [
    "# Plot the results\n",
    "if batch in adata_final.var_names or batch in adata_final.obs.columns:\n",
    "    sc.pl.embedding(adata_final, basis=basis, color=batch)\n",
    "    \n",
    "if label in adata_final.var_names or label in adata_final.obs.columns:\n",
    "    sc.pl.embedding(adata_final, basis=basis, color=label)"
   ]
  },
  {
   "cell_type": "code",
   "execution_count": null,
   "metadata": {},
   "outputs": [],
   "source": [
    "#Call the compute metrics function which computes the integration metrics\n",
    "df = compute_metrics(\"conos\", original_adata, adata_final, batch, label,\"X_pca\", \"full\")\n",
    "print(df)   "
   ]
  }
 ],
 "metadata": {
  "kernelspec": {
   "display_name": "Python 3.10.8 ('PYenv')",
   "language": "python",
   "name": "python3"
  },
  "language_info": {
   "codemirror_mode": {
    "name": "ipython",
    "version": 3
   },
   "file_extension": ".py",
   "mimetype": "text/x-python",
   "name": "python",
   "nbconvert_exporter": "python",
   "pygments_lexer": "ipython3",
   "version": "3.10.8"
  },
  "vscode": {
   "interpreter": {
    "hash": "52075f3cefd20bbd11fa6c470003ba3c614142822588e68321c491211cc6c611"
   }
  }
 },
 "nbformat": 4,
 "nbformat_minor": 2
}
