{
 "cells": [
  {
   "cell_type": "code",
   "execution_count": 4,
   "id": "5f623cbb",
   "metadata": {
    "tags": [
     "injected-parameters",
     "input_data_path",
     "hvg",
     "batch",
     "label"
    ],
    "vscode": {
     "languageId": "r"
    }
   },
   "outputs": [],
   "source": [
    "# Parameters\n",
    "input_data_path = \"\"\n",
    "hvg = \"\"\n",
    "batch = \"\"\n",
    "label = \"\"\n"
   ]
  },
  {
   "cell_type": "markdown",
   "id": "66a9c9aa",
   "metadata": {
    "papermill": {},
    "tags": []
   },
   "source": [
    "Jupyter notebook for conos integration algoritm\n",
    "\n",
    "Author: Erno Hänninen\n",
    "\n",
    "Title: run_conos.ipynb\n",
    "\n",
    "Created: 2022-11-29"
   ]
  },
  {
   "cell_type": "code",
   "execution_count": 5,
   "id": "f3198895",
   "metadata": {
    "papermill": {},
    "tags": [],
    "vscode": {
     "languageId": "r"
    }
   },
   "outputs": [],
   "source": [
    "require(conos)\n",
    "require(Seurat)\n",
    "require(rhdf5)"
   ]
  },
  {
   "cell_type": "code",
   "execution_count": null,
   "id": "845d63cc",
   "metadata": {
    "papermill": {},
    "tags": [],
    "vscode": {
     "languageId": "r"
    }
   },
   "outputs": [],
   "source": [
    "sobj = readRDS(input_data_path)\n",
    "sobj"
   ]
  },
  {
   "cell_type": "code",
   "execution_count": 7,
   "id": "07bb4fed",
   "metadata": {
    "papermill": {},
    "tags": [],
    "vscode": {
     "languageId": "r"
    }
   },
   "outputs": [],
   "source": [
    "#This function is from https://github.com/theislab/scib-pipeline/blob/0c7be53b1000864fcd31a7b7594f9a5071204233/scripts/integration/integration.R\n",
    "preP <- function(so, vars.to.regress=NULL, verbose=TRUE, n.pcs=100) {\n",
    "  if (verbose) {\n",
    "    message(\"Running Seurat v3 workflow\")\n",
    "  }\n",
    "  so <- Seurat::FindVariableFeatures(object = so, verbose = verbose)\n",
    "  so <- Seurat::ScaleData(object = so, verbose = verbose)\n",
    "  so <- Seurat::RunPCA(object = so, npcs = n.pcs, verbose = verbose)\n",
    "  return(so)\n",
    "}\n"
   ]
  },
  {
   "cell_type": "code",
   "execution_count": null,
   "id": "ff92afe2",
   "metadata": {
    "papermill": {},
    "tags": [],
    "vscode": {
     "languageId": "r"
    }
   },
   "outputs": [],
   "source": [
    "#This function is from https://github.com/theislab/scib-pipeline/blob/0c7be53b1000864fcd31a7b7594f9a5071204233/scripts/integration/integration.R\n",
    "runConos = function(sobj, batch) {\n",
    "    batch_list <- SplitObject(sobj, split.by=batch)\n",
    "    pp <- lapply(batch_list, preP)\n",
    "    con <- Conos$new(pp)\n",
    "    con$buildGraph(space=\"genes\")\n",
    "    con$findCommunities()\n",
    "    con$embedGraph(method=\"UMAP\")\n",
    "    \n",
    "    return(con)\n",
    "}\n"
   ]
  },
  {
   "cell_type": "code",
   "execution_count": null,
   "id": "7edeac45",
   "metadata": {
    "vscode": {
     "languageId": "r"
    }
   },
   "outputs": [],
   "source": [
    "if(file.exists(hvg)) {\n",
    "\tprint(\"EXISTS\")\n",
    "\thvg<-unlist(readRDS(hvg), use.names=FALSE)\n",
    "\tprint(length(hvg))\n",
    "\tif(length(hvg) > 0){\n",
    "\t\tsobj <- subset(sobj, features=hvg)\n",
    "\t}\n",
    "} \n",
    "\n",
    "con=runConos(sobj, batch)"
   ]
  },
  {
   "cell_type": "code",
   "execution_count": null,
   "id": "a3b6ab63",
   "metadata": {
    "papermill": {},
    "tags": [],
    "vscode": {
     "languageId": "r"
    }
   },
   "outputs": [],
   "source": [
    "if (file.exists(\"../Integrated_adata/conos_adata.h5\")) {\n",
    "  #Delete file if it exists\n",
    "  file.remove(\"../Integrated_adata/conos_adata.h5\")\n",
    "}\n",
    "meta <- function(sobj) {return(sobj@meta.data)}\n",
    "metalist <- lapply(con$samples, meta)\n",
    "metaM <- do.call(rbind,unname(metalist))\n",
    "saveConosForScanPy(con, output.path=\"../Integrated_adata/\", hdf5_filename=\"conos_adata.h5\", pseudo.pca=TRUE, pca=TRUE, verbose=TRUE, metadata.df=metaM)"
   ]
  }
 ],
 "metadata": {
  "kernelspec": {
   "display_name": "R",
   "language": "R",
   "name": "ir"
  },
  "language_info": {
   "codemirror_mode": "r",
   "file_extension": ".r",
   "mimetype": "text/x-r-source",
   "name": "R",
   "pygments_lexer": "r",
   "version": "3.10.8"
  },
  "papermill": {
   "default_parameters": {},
   "environment_variables": {},
   "input_path": "../../../BenchmarkStudy/Notebooks_to_run/run_conos.ipynb",
   "output_path": "../../../BenchmarkStudy/Notebooks_to_run/run_conos.ipynb",
   "parameters": {
    "batch": "batch",
    "input_data_path": "/home/ernohanninen/master_project/work/dd/0dc61d019532d939e49d918aabc625/conos_seurat.rds",
    "label": "label"
   },
   "version": "2.4.0"
  },
  "vscode": {
   "interpreter": {
    "hash": "52075f3cefd20bbd11fa6c470003ba3c614142822588e68321c491211cc6c611"
   }
  }
 },
 "nbformat": 4,
 "nbformat_minor": 5
}
