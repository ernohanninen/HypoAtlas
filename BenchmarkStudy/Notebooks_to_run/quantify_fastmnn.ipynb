{
 "cells": [
  {
   "cell_type": "code",
   "execution_count": 1,
   "metadata": {
    "execution": {
     "iopub.execute_input": "2022-12-01T07:19:24.030928Z",
     "iopub.status.busy": "2022-12-01T07:19:24.030343Z",
     "iopub.status.idle": "2022-12-01T07:19:24.050133Z",
     "shell.execute_reply": "2022-12-01T07:19:24.048011Z"
    },
    "tags": [
     "injected-parameters",
     "batch",
     "label"
    ]
   },
   "outputs": [],
   "source": [
    "batch = \"\"\n",
    "label = \"\"\n",
    "original_data = \"\""
   ]
  },
  {
   "cell_type": "markdown",
   "metadata": {},
   "source": [
    "Jupyter notebook for plotting the results and getting the integration metrics of conos integration algoritm\n",
    "\n",
    "Author: Erno Hänninen\n",
    "\n",
    "Title: quantify_fastmnn.ipynb\n",
    "\n",
    "Created: 2022-11-30"
   ]
  },
  {
   "cell_type": "code",
   "execution_count": 2,
   "metadata": {
    "execution": {
     "iopub.execute_input": "2022-12-01T07:19:24.058533Z",
     "iopub.status.busy": "2022-12-01T07:19:24.058062Z",
     "iopub.status.idle": "2022-12-01T07:19:27.947455Z",
     "shell.execute_reply": "2022-12-01T07:19:27.945625Z"
    }
   },
   "outputs": [],
   "source": [
    "import sys\n",
    "import os\n",
    "sys.path.insert(0, \"../../../../Scripts\") #Adding a path to be able to import the jupyter_functions\n",
    "from jupyter_functions import *\n",
    "import scanpy as sc\n",
    "import scib\n",
    "import pandas as pd\n",
    "import h5py\n",
    "import scipy.io\n",
    "from scipy.sparse import csr_matrix\n"
   ]
  },
  {
   "cell_type": "code",
   "execution_count": null,
   "metadata": {
    "execution": {
     "iopub.execute_input": "2022-12-01T07:19:27.953930Z",
     "iopub.status.busy": "2022-12-01T07:19:27.953516Z",
     "iopub.status.idle": "2022-12-01T07:19:39.770949Z",
     "shell.execute_reply": "2022-12-01T07:19:39.770221Z"
    }
   },
   "outputs": [],
   "source": [
    "\n",
    "adata = scib.pp.read_seurat(\"../Integrated_adata/fastmnn_output.rds\")\n",
    "original_adata = scib.pp.read_seurat(original_data)"
   ]
  },
  {
   "cell_type": "code",
   "execution_count": null,
   "metadata": {
    "execution": {
     "iopub.execute_input": "2022-12-01T07:19:39.778137Z",
     "iopub.status.busy": "2022-12-01T07:19:39.777770Z",
     "iopub.status.idle": "2022-12-01T07:20:24.191956Z",
     "shell.execute_reply": "2022-12-01T07:20:24.188575Z"
    }
   },
   "outputs": [],
   "source": [
    "#Calling plot function from jupyter_functions.py file\n",
    "#The function initializes the adata  to be plotted\n",
    "adata_final, basis = plot_results(adata,\"fastmnn\",\"full\")\n",
    "print(adata_final)\n",
    "adata_final.write(\"../Integrated_adata/fastmnn_adata_final.h5ad\")"
   ]
  },
  {
   "cell_type": "code",
   "execution_count": 5,
   "metadata": {
    "execution": {
     "iopub.execute_input": "2022-12-01T07:20:24.210030Z",
     "iopub.status.busy": "2022-12-01T07:20:24.207307Z",
     "iopub.status.idle": "2022-12-01T07:20:24.254526Z",
     "shell.execute_reply": "2022-12-01T07:20:24.252893Z"
    }
   },
   "outputs": [],
   "source": [
    "# Plot the results\n",
    "if batch in adata_final.var_names or batch in adata_final.obs.columns:\n",
    "    sc.pl.embedding(adata_final, basis=basis, color=batch)\n",
    "    \n",
    "if label in adata_final.var_names or label in adata_final.obs.columns:\n",
    "    sc.pl.embedding(adata_final, basis=basis, color=label)"
   ]
  },
  {
   "cell_type": "code",
   "execution_count": null,
   "metadata": {},
   "outputs": [],
   "source": [
    "#Call the compute metrics function which computes the integration metrics\n",
    "df = compute_metrics(\"fastmnn\", original_adata, adata_final, batch, label,\"X_pca\", \"full\")\n",
    "print(df)  "
   ]
  }
 ],
 "metadata": {
  "kernelspec": {
   "display_name": "Python 3.10.8 ('PYenv')",
   "language": "python",
   "name": "python3"
  },
  "language_info": {
   "codemirror_mode": {
    "name": "ipython",
    "version": 3
   },
   "file_extension": ".py",
   "mimetype": "text/x-python",
   "name": "python",
   "nbconvert_exporter": "python",
   "pygments_lexer": "ipython3",
   "version": "3.10.8"
  },
  "vscode": {
   "interpreter": {
    "hash": "52075f3cefd20bbd11fa6c470003ba3c614142822588e68321c491211cc6c611"
   }
  }
 },
 "nbformat": 4,
 "nbformat_minor": 2
}
