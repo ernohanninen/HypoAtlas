{
 "cells": [
  {
   "cell_type": "code",
   "execution_count": 4,
   "id": "5f623cbb",
   "metadata": {
    "tags": [
     "injected-parameters",
     "input_data_path",
     "batch",
     "label"
    ],
    "vscode": {
     "languageId": "r"
    }
   },
   "outputs": [],
   "source": [
    "# Parameters\n",
    "input_data_path = \"\"\n",
    "batch = \"\"\n",
    "label = \"\""
   ]
  },
  {
   "cell_type": "markdown",
   "id": "66a9c9aa",
   "metadata": {
    "papermill": {},
    "tags": []
   },
   "source": [
    "Jupyter notebook for seurat cca integration algoritm\n",
    "\n",
    "Author: Erno Hänninen\n",
    "\n",
    "Title: run_seurat_cca.ipynb\n",
    "\n",
    "Created: 2022-12-06"
   ]
  },
  {
   "cell_type": "code",
   "execution_count": 5,
   "id": "f3198895",
   "metadata": {
    "papermill": {},
    "tags": [],
    "vscode": {
     "languageId": "r"
    }
   },
   "outputs": [],
   "source": [
    "require(Seurat)"
   ]
  },
  {
   "cell_type": "code",
   "execution_count": null,
   "id": "845d63cc",
   "metadata": {
    "papermill": {},
    "tags": [],
    "vscode": {
     "languageId": "r"
    }
   },
   "outputs": [],
   "source": [
    "sobj = readRDS(input_data_path)\n",
    "sobj"
   ]
  },
  {
   "cell_type": "code",
   "execution_count": 7,
   "id": "07bb4fed",
   "metadata": {
    "papermill": {},
    "tags": [],
    "vscode": {
     "languageId": "r"
    }
   },
   "outputs": [],
   "source": [
    "# This function is from https://github.com/theislab/scib-pipeline/blob/0c7be53b1000864fcd31a7b7594f9a5071204233/scripts/integration/integration.R\n",
    "#runSeuratRPCA = function(data, batch, hvg=2000) {\n",
    "runSeuratRPCA = function(data, batch, hvg=500) {\n",
    "\n",
    "\n",
    "\t  require(Seurat)\n",
    "\t  batch_list = SplitObject(data, split.by = batch)\n",
    "\n",
    "          #features <- SelectIntegrationFeatures(batch_list)\n",
    "          batch_list <- lapply(X = batch_list, FUN = function(x) {\n",
    "\t\t  x  <- ScaleData(x, features = hvg)\n",
    "\t\t  x <- RunPCA(x, features = hvg)\n",
    "\t\t  return(x)\n",
    "\t  })\n",
    "\n",
    "\t  anchors = FindIntegrationAnchors(\n",
    "\t          object.list = batch_list,\n",
    "\t          anchor.features = hvg,\n",
    " \t\t  scale = T,\n",
    "\t\t  l2.norm = T,\n",
    "\t\t  dims = 1:30,\n",
    "        \t  k.anchor = 5,\n",
    "        \t  k.filter = 200,\n",
    "        \t  k.score = 30,\n",
    "\t\t  reduction = \"rpca\",\n",
    "        \t  max.features = 200,\n",
    "        \t  eps = 0)\n",
    "\t  integrated = IntegrateData(\n",
    "        \t   anchorset = anchors,\n",
    "\t\t   new.assay.name = \"integrated\",\n",
    "        \t   features = NULL,\n",
    "        \t   features.to.integrate = NULL,\n",
    "        \t   dims = 1:30,\n",
    "        \t   k.weight = 100,\n",
    "        \t   weight.reduction = NULL,\n",
    "        \t   sd.weight = 1,\n",
    "        \t   sample.tree = NULL,\n",
    "        \t   preserve.order = F,\n",
    "        \t   eps = 0,\n",
    "        \t   verbose = T)\n",
    "\t  return(integrated)\n",
    "}\n"
   ]
  },
  {
   "cell_type": "code",
   "execution_count": null,
   "id": "ff92afe2",
   "metadata": {
    "papermill": {},
    "tags": [],
    "vscode": {
     "languageId": "r"
    }
   },
   "outputs": [],
   "source": [
    "if(file.exists(hvg)) {\n",
    "\thvg<-unlist(readRDS(hvg), use.names=FALSE)\n",
    "}else {\n",
    "\thvg <- rownames(sobj@assays$RNA)\n",
    "}\n",
    "\n",
    "out = runSeuratRPCA(sobj, batch, hvg)\n",
    "saveRDS(out, file=\"../Integrated_adata/seurat_rpca_output.rds\")"
   ]
  }
 ],
 "metadata": {
  "kernelspec": {
   "display_name": "R",
   "language": "R",
   "name": "ir"
  },
  "language_info": {
   "codemirror_mode": "r",
   "file_extension": ".r",
   "mimetype": "text/x-r-source",
   "name": "R",
   "pygments_lexer": "r",
   "version": "4.2.0"
  },
  "papermill": {
   "default_parameters": {},
   "environment_variables": {},
   "input_path": "../../../BenchmarkStudy/Notebooks_to_run/run_conos.ipynb",
   "output_path": "../../../BenchmarkStudy/Notebooks_to_run/run_conos.ipynb",
   "parameters": {
    "batch": "batch",
    "input_data_path": "/home/ernohanninen/master_project/work/dd/0dc61d019532d939e49d918aabc625/conos_seurat.rds",
    "label": "label"
   },
   "version": "2.4.0"
  },
  "vscode": {
   "interpreter": {
    "hash": "97cc609b13305c559618ec78a438abc56230b9381f827f22d070313b9a1f3777"
   }
  }
 },
 "nbformat": 4,
 "nbformat_minor": 5
}
