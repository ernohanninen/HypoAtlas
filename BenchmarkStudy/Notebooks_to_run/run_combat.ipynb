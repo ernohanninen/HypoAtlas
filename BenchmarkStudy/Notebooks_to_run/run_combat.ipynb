{
 "cells": [
  {
   "cell_type": "code",
   "execution_count": null,
   "metadata": {},
   "outputs": [],
   "source": [
    "input_data_path = ''  #Input non-normalizad data\n",
    "batch = ''\n",
    "label = ''"
   ]
  },
  {
   "cell_type": "markdown",
   "metadata": {},
   "source": [
    "Jupyter notebook for ComBat integration algoritm \n",
    "\n",
    "\n",
    "Author: Erno Hänninen\n",
    "\n",
    "Title: run_combat.ipynb\n",
    "\n",
    "Created: 2022-11-28"
   ]
  },
  {
   "cell_type": "code",
   "execution_count": null,
   "metadata": {},
   "outputs": [],
   "source": [
    "import sys\n",
    "sys.path.insert(0, \"../../../../Scripts\") #Adding a path to be able to import the jupyter_functions\n",
    "from jupyter_functions import *\n",
    "import scanpy as sc\n",
    "import scib\n"
   ]
  },
  {
   "cell_type": "code",
   "execution_count": null,
   "metadata": {},
   "outputs": [],
   "source": [
    "#Read the adata object and extract the variable genes to list\n",
    "adata = sc.read(input_data_path)"
   ]
  },
  {
   "cell_type": "code",
   "execution_count": null,
   "metadata": {},
   "outputs": [],
   "source": [
    "#Run integration algorithm\n",
    "adata_combat = scib.integration.combat(adata, batch=batch)\n",
    "print(adata_combat)"
   ]
  },
  {
   "cell_type": "code",
   "execution_count": null,
   "metadata": {},
   "outputs": [],
   "source": [
    "#Calling plot function from jupyter_functions.py file\n",
    "#The function initializes the adata  to be plotted\n",
    "adata_combat_final, basis = plot_results(adata_combat,\"combat\",\"full\")\n",
    "print(adata_combat_final)\n",
    "adata_combat_final.write(\"../Integrated_adata/combat_adata_final.h5ad\")\n",
    "\n"
   ]
  },
  {
   "cell_type": "code",
   "execution_count": null,
   "metadata": {},
   "outputs": [],
   "source": [
    "# Plot the results\n",
    "if batch in adata_combat_final.var_names or batch in adata_combat_final.obs.columns:\n",
    "    sc.pl.embedding(adata_combat_final, basis=basis, color=batch)\n",
    "    \n",
    "if label in adata_combat_final.var_names or label in adata_combat_final.obs.columns:\n",
    "    sc.pl.embedding(adata_combat_final, basis=basis, color=label)"
   ]
  },
  {
   "cell_type": "code",
   "execution_count": null,
   "metadata": {},
   "outputs": [],
   "source": [
    "#Call the compute metrics function which computes the integration metrics\n",
    "df = compute_metrics(\"combat\", adata, adata_combat_final, batch, label,\"X_pca\", \"full\")\n",
    "print(df)  "
   ]
  }
 ],
 "metadata": {
  "kernelspec": {
   "display_name": "Python 3.10.4 64-bit",
   "language": "python",
   "name": "python3"
  },
  "language_info": {
   "name": "python",
   "version": "3.10.4"
  },
  "vscode": {
   "interpreter": {
    "hash": "97cc609b13305c559618ec78a438abc56230b9381f827f22d070313b9a1f3777"
   }
  }
 },
 "nbformat": 4,
 "nbformat_minor": 2
}
