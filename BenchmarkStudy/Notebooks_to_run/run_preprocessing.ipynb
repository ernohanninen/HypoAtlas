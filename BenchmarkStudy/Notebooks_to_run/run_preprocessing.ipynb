{
 "cells": [
  {
   "cell_type": "code",
   "execution_count": 6,
   "metadata": {},
   "outputs": [],
   "source": [
    "method = 'saucie'  #integration tool the data is prepared for\n",
    "file = '/home/ernohanninen/master_project/work/fd/08f607611b29d63b58046588ada622/test.h5ad'  #adata\n",
    "batch = 'batch'\n",
    "out = '/home/ernohanninen/master_project/work/fd/08f607611b29d63b58046588ada622'\n",
    "hvg = 501\n",
    "rout = False\n",
    "seurat = False\n",
    "scale = True"
   ]
  },
  {
   "cell_type": "code",
   "execution_count": 7,
   "metadata": {},
   "outputs": [
    {
     "name": "stdout",
     "output_type": "stream",
     "text": [
      "True\n",
      "<class 'bool'>\n",
      "True\n",
      "<class 'bool'>\n",
      "False\n",
      "<class 'bool'>\n"
     ]
    }
   ],
   "source": [
    "print(rout)\n",
    "print(type(rout))\n",
    "print(seurat)\n",
    "print(type(seurat))\n",
    "print(scale)\n",
    "print(type(scale))\n"
   ]
  },
  {
   "cell_type": "code",
   "execution_count": 8,
   "metadata": {},
   "outputs": [],
   "source": [
    "import scanpy as sc\n",
    "import scib\n",
    "import warnings\n",
    "import os\n"
   ]
  },
  {
   "cell_type": "code",
   "execution_count": 10,
   "metadata": {},
   "outputs": [
    {
     "name": "stdout",
     "output_type": "stream",
     "text": [
      "AnnData object with n_obs × n_vars = 904 × 15148\n",
      "    obs: 'dataset', 'location', 'nGene', 'nUMI', 'patientGroup', 'percent.mito', 'protocol', 'sanger_type', 'size_factors', 'sampling_method', 'batch', 'cell_type', 'donor'\n",
      "    layers: 'counts'\n",
      "Save as RDS\n"
     ]
    },
    {
     "name": "stderr",
     "output_type": "stream",
     "text": [
      "/home/ernohanninen/miniconda3/envs/PYenv/lib/python3.9/site-packages/scib/_package_tools.py:15: DeprecationWarning: Mixed case function naming is deprecated for 'saveSeurat'. Please use 'save_seurat' instead.\n",
      "  warnings.warn(\n",
      "/home/ernohanninen/miniconda3/envs/PYenv/lib/python3.9/site-packages/rpy2/robjects/pandas2ri.py:351: DeprecationWarning: The global conversion available with activate() is deprecated and will be removed in the next major release. Use a local converter.\n",
      "  warnings.warn('The global conversion available with activate() '\n",
      "/home/ernohanninen/miniconda3/envs/PYenv/lib/python3.9/site-packages/rpy2/robjects/numpy2ri.py:226: DeprecationWarning: The global conversion available with activate() is deprecated and will be removed in the next major release. Use a local converter.\n",
      "  warnings.warn('The global conversion available with activate() '\n",
      "/home/ernohanninen/miniconda3/envs/PYenv/lib/python3.9/site-packages/rpy2/robjects/conversion.py:28: DeprecationWarning: The use of converter in module rpy2.robjects.conversion is deprecated. Use rpy2.robjects.conversion.get_conversion() instead of rpy2.robjects.conversion.converter.\n",
      "  warnings.warn(\n"
     ]
    }
   ],
   "source": [
    "#Source of the function: https://github.com/theislab/scib-pipeline/blob/main/scripts/preprocessing/runPP.py\n",
    "\n",
    "def runPP(method, inPath, outPath, hvg, batch, rout, scale, seurat):\n",
    "    \"\"\"\n",
    "    params:\n",
    "        inPath: path of the anndata object\n",
    "        outPath: path of the preprocessed file to be written\n",
    "        hvg: number of highly variable genes to use\n",
    "        rout: set to true to save a Seurat object\n",
    "        scale: set to true to activate scaling\n",
    "        seurat: set to true to produce hvg list\n",
    "    \"\"\"\n",
    "\n",
    "    adata = sc.read(inPath)\n",
    "    hvgs = adata.var.index\n",
    "\n",
    "    # remove HVG if already precomputed\n",
    "    if 'highly_variable' in adata.var:\n",
    "        del adata.var['highly_variable']\n",
    "\n",
    "    if hvg > 500:\n",
    "        print(\"Computing HVGs ...\")\n",
    "        if seurat == True:\n",
    "            hvgs = scib.preprocessing.hvg_batch(\n",
    "                adata,\n",
    "                batch_key=batch,\n",
    "                target_genes=hvg,\n",
    "                adataOut=False\n",
    "            )\n",
    "        else:\n",
    "            adata = scib.preprocessing.hvg_batch(\n",
    "                adata,\n",
    "                batch_key=batch,\n",
    "                target_genes=hvg,\n",
    "                adataOut=True\n",
    "            )\n",
    "    if scale == True:\n",
    "        print(\"Scaling data ...\")\n",
    "        adata = scib.preprocessing.scale_batch(adata, batch)\n",
    "   \n",
    "    if rout == True:\n",
    "        print(\"Save as RDS\")\n",
    "        scib.preprocessing.saveSeurat(adata, outPath + \"/\"+ method + \"_seurat.rds\", batch, hvgs)\n",
    "\n",
    "    else:\n",
    "        print(\"Save as HDF5\")\n",
    "        adata.write(outPath + \"/\"+ method + \"_adata.h5ad\")\n",
    "    print(adata)\n",
    "\n",
    "runPP(method, file, out, hvg, batch, rout, scale, seurat)"
   ]
  }
 ],
 "metadata": {
  "kernelspec": {
   "display_name": "Python 3.9.15 ('PYenv')",
   "language": "python",
   "name": "python3"
  },
  "language_info": {
   "codemirror_mode": {
    "name": "ipython",
    "version": 3
   },
   "file_extension": ".py",
   "mimetype": "text/x-python",
   "name": "python",
   "nbconvert_exporter": "python",
   "pygments_lexer": "ipython3",
   "version": "3.10.8"
  },
  "vscode": {
   "interpreter": {
    "hash": "52075f3cefd20bbd11fa6c470003ba3c614142822588e68321c491211cc6c611"
   }
  }
 },
 "nbformat": 4,
 "nbformat_minor": 2
}
