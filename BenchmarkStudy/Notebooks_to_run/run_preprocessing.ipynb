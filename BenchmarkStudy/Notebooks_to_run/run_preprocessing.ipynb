{
 "cells": [
  {
   "cell_type": "code",
   "execution_count": 2,
   "metadata": {},
   "outputs": [],
   "source": [
    "method = 'scanorama'  #integration tool the data is prepared for\n",
    "file = '/home/ernohanninen/master_project/Data/lungatlas.h5ad'  #adata\n",
    "batch = 'batch'\n",
    "out = '/home/ernohanninen/master_project/work/c4/b3998141028ae54f4d6196f64520ba'\n",
    "hvg = 600\n",
    "rout = False\n",
    "seurat = False\n",
    "scale = False"
   ]
  },
  {
   "cell_type": "code",
   "execution_count": null,
   "metadata": {},
   "outputs": [],
   "source": [
    "print(rout)\n",
    "print(type(rout))\n",
    "print(seurat)\n",
    "print(type(seurat))\n",
    "print(scale)\n",
    "print(type(scale))\n"
   ]
  },
  {
   "cell_type": "code",
   "execution_count": 3,
   "metadata": {},
   "outputs": [],
   "source": [
    "import scanpy as sc\n",
    "import scib\n",
    "import warnings\n",
    "import os"
   ]
  },
  {
   "cell_type": "code",
   "execution_count": null,
   "metadata": {},
   "outputs": [],
   "source": [
    "#Source of the function: https://github.com/theislab/scib-pipeline/blob/main/scripts/preprocessing/runPP.py\n",
    "\n",
    "def runPP(method, inPath, outPath, hvg, batch, rout, scale, seurat):\n",
    "    \"\"\"\n",
    "    params:\n",
    "        inPath: path of the anndata object\n",
    "        outPath: path of the preprocessed file to be written\n",
    "        hvg: number of highly variable genes to use\n",
    "        rout: set to true to save a Seurat object\n",
    "        scale: set to true to activate scaling\n",
    "        seurat: set to true to produce hvg list\n",
    "    \"\"\"\n",
    "\n",
    "    adata = sc.read(inPath)\n",
    "    print(adata)\n",
    "    hvgs = adata.var.index\n",
    "\n",
    "    # remove HVG if already precomputed\n",
    "    if 'highly_variable' in adata.var:\n",
    "        del adata.var['highly_variable']\n",
    "\n",
    "    if hvg > 500:\n",
    "        print(\"Computing HVGs ...\")\n",
    "        if seurat == True:\n",
    "            hvgs = scib.preprocessing.hvg_batch(\n",
    "                adata,\n",
    "                batch_key=batch,\n",
    "                target_genes=hvg,\n",
    "                adataOut=False\n",
    "            )\n",
    "        else:\n",
    "            adata = scib.preprocessing.hvg_batch(\n",
    "                adata,\n",
    "                batch_key=batch,\n",
    "                target_genes=hvg,\n",
    "                adataOut=True\n",
    "            )\n",
    "    if scale == True:\n",
    "        print(\"Scaling data ...\")\n",
    "        adata = scib.preprocessing.scale_batch(adata, batch)\n",
    "   \n",
    "    if rout == True:\n",
    "        print(\"Save as RDS\")\n",
    "        scib.preprocessing.saveSeurat(adata, outPath + \"/\"+ method + \"_seurat.rds\", batch, hvgs)\n",
    "\n",
    "    else:\n",
    "        print(\"Save as HDF5\")\n",
    "        adata.write(outPath + \"/\"+ method + \"_adata.h5ad\")\n",
    "\n",
    "runPP(method, file, out, hvg, batch, rout, scale, seurat)"
   ]
  }
 ],
 "metadata": {
  "kernelspec": {
   "display_name": "Python 3.10.4 64-bit",
   "language": "python",
   "name": "python3"
  },
  "language_info": {
   "codemirror_mode": {
    "name": "ipython",
    "version": 3
   },
   "file_extension": ".py",
   "mimetype": "text/x-python",
   "name": "python",
   "nbconvert_exporter": "python",
   "pygments_lexer": "ipython3",
   "version": "3.10.4"
  },
  "vscode": {
   "interpreter": {
    "hash": "97cc609b13305c559618ec78a438abc56230b9381f827f22d070313b9a1f3777"
   }
  }
 },
 "nbformat": 4,
 "nbformat_minor": 2
}
