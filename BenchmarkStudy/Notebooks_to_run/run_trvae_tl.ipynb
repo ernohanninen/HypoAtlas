{
 "cells": [
  {
   "cell_type": "code",
   "execution_count": 1,
   "metadata": {},
   "outputs": [],
   "source": [
    "input_data_path = ''\n",
    "batch = ''\n",
    "label = ''"
   ]
  },
  {
   "attachments": {},
   "cell_type": "markdown",
   "metadata": {},
   "source": [
    "Jupyter notebook for trvae integration algoritm\n",
    "\n",
    "Author: Erno Hänninen\n",
    "\n",
    "Title: run_trvae.ipynb\n",
    "\n",
    "Created: 2022-12-16"
   ]
  },
  {
   "cell_type": "code",
   "execution_count": null,
   "metadata": {},
   "outputs": [],
   "source": [
    "import sys\n",
    "sys.path.insert(0, \"../../../../Scripts\") #Adding a path to be able to import the jupyter_functions\n",
    "from jupyter_functions import *\n",
    "import scib\n",
    "import scanpy as sc\n",
    "import torch\n",
    "import scarches as sca\n",
    "from scarches.dataset.trvae.data_handling import remove_sparsity\n",
    "import matplotlib.pyplot as plt\n",
    "import numpy as np\n",
    "import gdown\n",
    "import pandas"
   ]
  },
  {
   "cell_type": "code",
   "execution_count": null,
   "metadata": {},
   "outputs": [],
   "source": [
    "#Read the adata object and extract the variable genes to list\n",
    "adata = sc.read(input_data_path)\n",
    "hvgList = adata.var.index.tolist()\n",
    "print(len(hvgList))"
   ]
  },
  {
   "attachments": {},
   "cell_type": "markdown",
   "metadata": {},
   "source": [
    "trVAE algorithm requires randomized batches of data and condition as input for training\n",
    "\n",
    "In prediction the batches from source condition are transformed to target condtion"
   ]
  },
  {
   "cell_type": "code",
   "execution_count": null,
   "metadata": {},
   "outputs": [],
   "source": [
    "#Get target condition (the dominant batch covariate)\n",
    "target_condition = list(adata.obs[batch].value_counts().idxmax())"
   ]
  },
  {
   "cell_type": "code",
   "execution_count": null,
   "metadata": {},
   "outputs": [],
   "source": [
    "trvae_epochs = 50\n",
    "surgery_epochs = 50\n",
    "\n",
    "early_stopping_kwargs = {\n",
    "    \"early_stopping_metric\": \"val_unweighted_loss\",\n",
    "    \"threshold\": 0,\n",
    "    \"patience\": 20,\n",
    "    \"reduce_lr\": True,\n",
    "    \"lr_patience\": 13,\n",
    "    \"lr_factor\": 0.1,\n",
    "}"
   ]
  },
  {
   "cell_type": "code",
   "execution_count": null,
   "metadata": {},
   "outputs": [],
   "source": [
    "#Split the dataset int reference and query dataset\n",
    "\n",
    "#Process the data for trVAE\n",
    "#adata = adata.raw.to_adata()\n",
    "adata = remove_sparsity(adata) #if adata.X is sparse matrix -> converts it in to normal matrix\n",
    "\n",
    "source_adata = adata[~adata.obs[batch].isin(target_condition)]\n",
    "target_adata = adata[adata.obs[batch].isin(target_condition)]\n",
    "\n",
    "#Get source conditions (all batches of the data)\n",
    "source_conditions = source_adata.obs[batch].unique().tolist()"
   ]
  },
  {
   "cell_type": "code",
   "execution_count": null,
   "metadata": {},
   "outputs": [],
   "source": [
    "source_adata"
   ]
  },
  {
   "cell_type": "code",
   "execution_count": null,
   "metadata": {},
   "outputs": [],
   "source": [
    "target_adata"
   ]
  },
  {
   "cell_type": "code",
   "execution_count": null,
   "metadata": {},
   "outputs": [],
   "source": [
    "print(source_conditions)\n",
    "print(target_condition)"
   ]
  },
  {
   "cell_type": "code",
   "execution_count": null,
   "metadata": {},
   "outputs": [],
   "source": [
    "#Create the TRVAE model\n",
    "trvae = sca.models.TRVAE(\n",
    "    source_adata,\n",
    "    condition_key=batch,\n",
    "    conditions=source_conditions,\n",
    "    hidden_layer_sizes=[128, 128],\n",
    ")"
   ]
  },
  {
   "cell_type": "code",
   "execution_count": null,
   "metadata": {},
   "outputs": [],
   "source": [
    "#Training trVAE with the reference dataset (source_adata)\n",
    "trvae.train(\n",
    "    n_epochs=trvae_epochs,  \n",
    "    alpha_epoch_anneal=200,\n",
    "    early_stopping_kwargs=early_stopping_kwargs,\n",
    "    seed = 42\n",
    ")"
   ]
  },
  {
   "cell_type": "code",
   "execution_count": null,
   "metadata": {},
   "outputs": [],
   "source": [
    "adata_latent = sc.AnnData(trvae.get_latent())\n",
    "adata_latent.obs[label] = source_adata.obs[label].tolist()\n",
    "adata_latent.obs[batch] = source_adata.obs[batch].tolist()"
   ]
  },
  {
   "cell_type": "code",
   "execution_count": null,
   "metadata": {},
   "outputs": [],
   "source": [
    "sc.pp.neighbors(adata_latent, n_neighbors=8)\n",
    "#sc.tl.leiden(adata_latent)\n",
    "sc.tl.umap(adata_latent)\n",
    "sc.pl.umap(adata_latent,\n",
    "           color=[batch, label],\n",
    "           frameon=False,\n",
    "           wspace=0.6,\n",
    "           )"
   ]
  },
  {
   "cell_type": "code",
   "execution_count": null,
   "metadata": {},
   "outputs": [],
   "source": [
    "adata_latent"
   ]
  },
  {
   "cell_type": "code",
   "execution_count": null,
   "metadata": {},
   "outputs": [],
   "source": [
    "#Fine tune te reference model with query data\n",
    "new_trvae = sca.models.TRVAE.load_query_data(adata=target_adata, reference_model=trvae)"
   ]
  },
  {
   "cell_type": "code",
   "execution_count": null,
   "metadata": {},
   "outputs": [],
   "source": [
    "new_trvae.train(\n",
    "    n_epochs=surgery_epochs,\n",
    "    alpha_epoch_anneal=200,\n",
    "    early_stopping_kwargs=early_stopping_kwargs,\n",
    "    weight_decay=0, \n",
    "    seed = 42\n",
    "    \n",
    ")"
   ]
  },
  {
   "cell_type": "code",
   "execution_count": null,
   "metadata": {},
   "outputs": [],
   "source": [
    "adata_latent = sc.AnnData(new_trvae.get_latent())\n",
    "adata_latent.obs[label] = target_adata.obs[label].tolist()\n",
    "adata_latent.obs[batch] = target_adata.obs[batch].tolist()"
   ]
  },
  {
   "cell_type": "code",
   "execution_count": null,
   "metadata": {},
   "outputs": [],
   "source": [
    "adata_latent"
   ]
  },
  {
   "cell_type": "code",
   "execution_count": null,
   "metadata": {},
   "outputs": [],
   "source": [
    "sc.pp.neighbors(adata_latent, n_neighbors=8)\n",
    "#sc.tl.leiden(adata_latent)\n",
    "sc.tl.umap(adata_latent)\n",
    "sc.pl.umap(adata_latent,\n",
    "           color=[batch, label],\n",
    "           frameon=False,\n",
    "           wspace=0.6,\n",
    "           )"
   ]
  },
  {
   "cell_type": "code",
   "execution_count": null,
   "metadata": {},
   "outputs": [],
   "source": [
    "# Get latent representation of reference + query dataset and compute UMAP\n",
    "full_latent = sc.AnnData(new_trvae.get_latent(adata.X, adata.obs[batch]))\n",
    "full_latent.obs[label] = adata.obs[label].tolist()\n",
    "full_latent.obs[batch] = adata.obs[batch].tolist()"
   ]
  },
  {
   "cell_type": "code",
   "execution_count": null,
   "metadata": {},
   "outputs": [],
   "source": [
    "sc.tl.pca(full_latent)\n",
    "sc.pp.neighbors(full_latent, n_neighbors=8)\n",
    "#sc.tl.leiden(full_latent)\n",
    "sc.tl.umap(full_latent)\n",
    "sc.pl.umap(full_latent,\n",
    "           color=[batch, label],\n",
    "           frameon=False,\n",
    "           wspace=0.6,\n",
    "           )"
   ]
  },
  {
   "cell_type": "code",
   "execution_count": null,
   "metadata": {},
   "outputs": [],
   "source": [
    "full_latent"
   ]
  },
  {
   "cell_type": "code",
   "execution_count": null,
   "metadata": {},
   "outputs": [],
   "source": [
    "full_latent.write(\"../Integrated_adata/trvae_tl_adata_final.h5ad\")\n"
   ]
  },
  {
   "cell_type": "code",
   "execution_count": null,
   "metadata": {},
   "outputs": [],
   "source": [
    "#Call the compute metrics function which computes the integration metrics\n",
    "df = compute_metrics(\"trvae_tl\", adata, full_latent, batch, label ,\"X_pca\", \"full\")\n",
    "\n",
    "print(df)  "
   ]
  }
 ],
 "metadata": {
  "kernelspec": {
   "display_name": "PYenv",
   "language": "python",
   "name": "python3"
  },
  "language_info": {
   "codemirror_mode": {
    "name": "ipython",
    "version": 3
   },
   "file_extension": ".py",
   "mimetype": "text/x-python",
   "name": "python",
   "nbconvert_exporter": "python",
   "pygments_lexer": "ipython3",
   "version": "3.10.8 (main, Nov 24 2022, 14:13:03) [GCC 11.2.0]"
  },
  "vscode": {
   "interpreter": {
    "hash": "52075f3cefd20bbd11fa6c470003ba3c614142822588e68321c491211cc6c611"
   }
  }
 },
 "nbformat": 4,
 "nbformat_minor": 2
}
