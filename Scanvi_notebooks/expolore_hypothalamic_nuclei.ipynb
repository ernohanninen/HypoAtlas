{
 "cells": [
  {
   "cell_type": "markdown",
   "metadata": {},
   "source": [
    "Author: Erno Hänninen\n",
    "\n",
    "Created: 19.02.2023\n",
    "\n",
    "Title: explore_hypothalamic_nuclei.ipynb\n",
    "\n",
    "Description: \n",
    "- The information of hypothalamic nuclei are available only for Herb dataset -> identify and annotate those also from Zhou dataset\n",
    "- Annotating clusters based on marker gene expression requires some manual work, therefore this notebook contains a lot of plotting\n",
    "- In addition that the marker genes were explored the nuclei identification was guided using the hypothalamic nuclei which are annotated in Herb data\n",
    "- Based on the observations for each identified nuclei a list was created containing the cells which are re-annotated as their respective nuclei. \n",
    "\n",
    "Procedure\n",
    "- Read scvi integrated data\n",
    "- subset all neurons and zhou neurons from the integrated data\n",
    "- reclustering the neurons from zhou data\n",
    "- explore marker gene expression and the nuclei annotated in herb data by visualizing the data\n",
    "- Based on the observation for each identified nuclei create list where the corresponding cell identifiers are stored\n",
    "- Based on these lists re-name the cells in the anndata object\n",
    "- In herb data there were some nuclei that we couldn't identify from zhou data. If nuclei was not identified from zhou the cells of the nuclei were annotated as neurons in herb\n",
    "- Save the cell type updated data for later use\n",
    "\n",
    "List of non-standard modules:\n",
    "- scanpy, matplotlib, pandas\n",
    "\n",
    "Conda environment used:\n",
    "- PYenv\n",
    "\n",
    "Usage:\n",
    "- The script was executed using Jupyter Notebook web interface. All the dependencies required by Jupyter are installed to PYenv Conda environment. See README file for further details"
   ]
  },
  {
   "cell_type": "code",
   "execution_count": 1,
   "metadata": {},
   "outputs": [],
   "source": [
    "# Python packages\n",
    "import scanpy as sc\n",
    "import matplotlib.pyplot as plt\n",
    "import pandas as pd\n",
    "from matplotlib.pyplot import rc_context"
   ]
  },
  {
   "cell_type": "code",
   "execution_count": null,
   "metadata": {},
   "outputs": [],
   "source": [
    "# Import scvi integrated data\n",
    "scvi_adata = sc.read(\"Data/scvi_adata.h5ad\")\n",
    "scvi_adata"
   ]
  },
  {
   "cell_type": "code",
   "execution_count": 7,
   "metadata": {},
   "outputs": [],
   "source": [
    "# Subsetting the neurons\n",
    "adata_neurons = adata[adata.obs[\"Cell_types_4\"].isin([ \"Neuron\"])]\n",
    "adata_neurons_zhou = adata_neurons[adata_neurons.obs[\"source\"].isin([ \"Zhou\"])]"
   ]
  },
  {
   "cell_type": "code",
   "execution_count": null,
   "metadata": {},
   "outputs": [],
   "source": [
    "# Plotting the subtyes from herb on top of zhou data\n",
    "ax = sc.pl.umap(adata_neurons,frameon=False,show=False,size=15)\n",
    "sc.pl.umap(neurons_herb,color=[\"Cell_subpopulations\"],frameon=False,ax=ax,size=15,show=False,)"
   ]
  },
  {
   "cell_type": "code",
   "execution_count": 10,
   "metadata": {},
   "outputs": [],
   "source": [
    "# Reclustering subsetted data (new clusters are needed so we can annotate those)\n",
    "sc.tl.pca(adata_neurons_zhou)\n",
    "sc.pp.neighbors(adata_neurons_zhou)\n",
    "sc.tl.leiden(adata_neurons_zhou, resolution=2.5)\n",
    "sc.pl.umap(adata_neurons_zhou, color=[\"leiden\"], wspace=0.45, legend_loc=\"on data\", legend_fontsize=\"xx-small\", legend_fontweight=\"normal\")\n"
   ]
  },
  {
   "cell_type": "code",
   "execution_count": 18,
   "metadata": {},
   "outputs": [],
   "source": [
    "# Leiden algorithm contains some randomness -> save the clustered adata to file for later use\n",
    "adata_neurons.write(\"adata_scvi_neurons.h5ad\")\n",
    "adata_neurons_zhou.write(\"adata_neurons_zhou.h5ad\")\n"
   ]
  },
  {
   "cell_type": "code",
   "execution_count": 2,
   "metadata": {},
   "outputs": [],
   "source": [
    "# Read the data\n",
    "#adata_neurons = sc.read(\"Data/adata_scvi_neurons.h5ad\")\n",
    "#adata_neurons_zhou = sc.read(\"Data/adata_neurons_zhou.h5ad\")\n",
    "#neurons_herb = adata_neurons[adata_neurons.obs[\"source\"].isin([\"Herb\"])]\n"
   ]
  },
  {
   "cell_type": "markdown",
   "metadata": {},
   "source": [
    "## PVH / PVN"
   ]
  },
  {
   "cell_type": "markdown",
   "metadata": {},
   "source": [
    "## These markers helped me to locate PVN"
   ]
  },
  {
   "cell_type": "code",
   "execution_count": null,
   "metadata": {},
   "outputs": [],
   "source": [
    "# POU3F2 is from herb dotplot, others are from dropbox\n",
    "sc.pl.umap(adata_neurons_zhou, color=[\"AVP\", \"OXT\", \"POU3F2\", \"SIM1\", \"OTP\", \"CRH\", \"TRH\"])"
   ]
  },
  {
   "cell_type": "code",
   "execution_count": null,
   "metadata": {},
   "outputs": [],
   "source": [
    "# Plotting PVH on herb data\n",
    "ax = sc.pl.umap(adata_neurons,frameon=False,show=False,size=15)\n",
    "sc.pl.umap(neurons_herb[neurons_herb.obs[\"Cell_subpopulations\"].isin([\"PVH\"])],color=[\"Cell_subpopulations\"],\n",
    "    frameon=False,ax=ax,size=15,show=False)\n",
    "\n",
    "# Plotting clusters 18 and 30 from reclustered Zhou data that overlaps the PVH cluster\n",
    "ax = sc.pl.umap(adata_neurons, frameon=False, show=False, size=15)\n",
    "sc.pl.umap( adata_neurons_zhou[adata_neurons_zhou.obs[\"leiden\"].isin([\"18\", \"30\"])],color=[\"leiden\"],\n",
    "    frameon=False,ax=ax,size=15,show=False)\n",
    "\n",
    "# We have an overlapping clusters (18 and 30)"
   ]
  },
  {
   "cell_type": "markdown",
   "metadata": {},
   "source": [
    "## Plotting PVN markers on clusters 18 "
   ]
  },
  {
   "cell_type": "code",
   "execution_count": null,
   "metadata": {},
   "outputs": [],
   "source": [
    "sc.pl.umap(adata_neurons_zhou[adata_neurons_zhou.obs[\"leiden\"].isin([\"18\"])], color=[\"AVP\", \"OXT\", \"POU3F2\", \"SIM1\", \"OTP\", \"CRH\", \"TRH\"], ncols=3)"
   ]
  },
  {
   "cell_type": "markdown",
   "metadata": {},
   "source": [
    "## Plotting PVN markers on top of cluster 30"
   ]
  },
  {
   "cell_type": "code",
   "execution_count": null,
   "metadata": {},
   "outputs": [],
   "source": [
    "sc.pl.umap(adata_neurons_zhou[adata_neurons_zhou.obs[\"leiden\"].isin([\"30\"])], color=[\"AVP\", \"OXT\", \"POU3F2\", \"SIM1\", \"OTP\", \"CRH\", \"TRH\", \"SIM2\", \"PITX2\"], ncols=3)"
   ]
  },
  {
   "cell_type": "code",
   "execution_count": null,
   "metadata": {},
   "outputs": [],
   "source": [
    "# PVN is OTP+, therefore reclustering cluster 18\n",
    "pvn_cluster = adata_neurons_zhou[adata_neurons_zhou.obs[\"leiden\"].isin([\"18\"])]\n",
    "sc.tl.pca(pvn_cluster)\n",
    "sc.pp.neighbors(pvn_cluster)\n",
    "sc.tl.leiden(pvn_cluster, resolution=0.15)\n",
    "sc.pl.umap(pvn_cluster, color=[\"leiden\", \"OTP\"])"
   ]
  },
  {
   "cell_type": "code",
   "execution_count": 11,
   "metadata": {},
   "outputs": [
    {
     "name": "stdout",
     "output_type": "stream",
     "text": [
      "1385\n"
     ]
    }
   ],
   "source": [
    "# recluster cluster 0 is OTP+ -> store these cells to list\n",
    "# Store the entire cluster 30 to list\n",
    "pvn_cells = [list(pvn_cluster[pvn_cluster.obs[\"leiden\"].isin([\"0\"])].obs.index), adata_neurons_zhou[adata_neurons_zhou.obs[\"leiden\"].isin([\"30\"])].obs.index]\n",
    "pvn_cells = [item for sublist in pvn_cells for item in sublist]\n",
    "print(len(pvn_cells))"
   ]
  },
  {
   "cell_type": "markdown",
   "metadata": {},
   "source": [
    "## VMH"
   ]
  },
  {
   "cell_type": "code",
   "execution_count": null,
   "metadata": {},
   "outputs": [],
   "source": [
    "# Locate VMH by plotting its markers\n",
    "sc.pl.umap(adata_neurons_zhou, color=[\"ARPP21\", \"NR5A1\", \"SLIT3\", \"NPTX2\", \"SOX14\", \"SIX3\", \"FEZF1\"])"
   ]
  },
  {
   "cell_type": "code",
   "execution_count": null,
   "metadata": {},
   "outputs": [],
   "source": [
    "# Plotting VMH from herb data\n",
    "ax = sc.pl.umap(adata_neurons,frameon=False,show=False,size=15)\n",
    "sc.pl.umap(neurons_herb[neurons_herb.obs[\"Cell_subpopulations\"].isin([\"VMH\"])],color=[\"Cell_subpopulations\"],\n",
    "    frameon=False,ax=ax,size=15,show=False,)\n",
    "\n",
    "# Cluster 7 from reclustered zhou data overlaps vmh\n",
    "ax = sc.pl.umap(adata_neurons,frameon=False,show=False,size=15)\n",
    "sc.pl.umap(adata_neurons_zhou[adata_neurons_zhou.obs[\"leiden\"].isin([\"7\"])],color=[\"leiden\"],\n",
    "    frameon=False, ax=ax, size=15,show=False)"
   ]
  },
  {
   "cell_type": "markdown",
   "metadata": {},
   "source": [
    "## Plotting VMH markers on cluster 7"
   ]
  },
  {
   "cell_type": "code",
   "execution_count": null,
   "metadata": {},
   "outputs": [],
   "source": [
    "print(\"cluster 31\")\n",
    "sc.pl.umap(adata_neurons_zhou[adata_neurons_zhou.obs[\"leiden\"].isin([\"7\"])], color=[\"ARPP21\", \"NR5A1\", \"SLIT3\", \"NPTX2\", \"SOX14\", \"SIX3\", \"FEZF1\", \"POMC\"],ncols=3, use_raw=True)"
   ]
  },
  {
   "cell_type": "code",
   "execution_count": null,
   "metadata": {},
   "outputs": [],
   "source": [
    "# POMC is shouldn't be highly expressed in VMH, therefore recluster the cluster 7\n",
    "vmh_cluster = adata_neurons_zhou[adata_neurons_zhou.obs[\"leiden\"].isin([\"7\"])]\n",
    "sc.tl.pca(vmh_cluster)\n",
    "sc.pp.neighbors(vmh_cluster)\n",
    "sc.tl.leiden(vmh_cluster, resolution=0.67)\n",
    "sc.pl.umap(vmh_cluster, color=\"leiden\")"
   ]
  },
  {
   "cell_type": "code",
   "execution_count": null,
   "metadata": {},
   "outputs": [],
   "source": [
    "# All but cluster 5 from the re-clustered data can be annotated as VMH\n",
    "# Store the vmh cell id to list\n",
    "vmh_cells = vmh_cluster[~vmh_cluster.obs[\"leiden\"].isin([\"5\"])].obs[\"leiden\"].index\n",
    "len(vmh_cells)"
   ]
  },
  {
   "cell_type": "markdown",
   "metadata": {},
   "source": [
    "# ARC"
   ]
  },
  {
   "cell_type": "code",
   "execution_count": null,
   "metadata": {},
   "outputs": [],
   "source": [
    "# Markers used to locate ARC\n",
    "sc.pl.umap(adata_neurons_zhou, color=[ \"NPY\", \"POMC\", \"TBX3\", \"OTP\", \"KISS1\", \"AGRP\", \"PRDM12\",\"GHRH\"], ncols=3)"
   ]
  },
  {
   "cell_type": "code",
   "execution_count": null,
   "metadata": {},
   "outputs": [],
   "source": [
    "# PLotting ARC neurons from Herb data\n",
    "ax = sc.pl.umap(adata_neurons,frameon=False,show=False,size=15)\n",
    "sc.pl.umap(neurons_herb[neurons_herb.obs[\"Cell_subpopulations\"].isin([\"ARC\"])],\n",
    "    color=[\"Cell_subpopulations\"],frameon=False,ax=ax,size=15,show=False,)"
   ]
  },
  {
   "cell_type": "markdown",
   "metadata": {},
   "source": [
    "## Clusters 10, 4, 5 from reclustered Zhou data overlaps Herb's ARC population "
   ]
  },
  {
   "cell_type": "markdown",
   "metadata": {},
   "source": [
    "## Neuronal cluster 10"
   ]
  },
  {
   "cell_type": "code",
   "execution_count": null,
   "metadata": {},
   "outputs": [],
   "source": [
    "print(\"ARC markers : \")\n",
    "sc.pl.umap(adata_neurons_zhou[adata_neurons_zhou.obs[\"leiden\"].isin([\"10\"])], color=[\"NPY\", \"POMC\", \"TBX3\", \"OTP\", \"KISS1\", \"AGRP\", \"PRDM12\", \"GHRH\"], ncols=3)\n",
    "#print(\"Additional ARC markers from dropbox and from Herb dotplot:\")\n",
    "#sc.pl.umap(adata_neurons_zhou[adata_neurons_zhou.obs[\"leiden\"].isin([\"10\"])], color=[ \"SIX3\", \"SIX6\", \"NR5A2\", \"GAL\", \"HMX2\", \"RAX\", \"ISL1\"], ncols=3)"
   ]
  },
  {
   "cell_type": "markdown",
   "metadata": {},
   "source": [
    "## Neuronal cluster 4"
   ]
  },
  {
   "cell_type": "code",
   "execution_count": null,
   "metadata": {},
   "outputs": [],
   "source": [
    "print(\"ARC markers : \")\n",
    "sc.pl.umap(adata_neurons_zhou[adata_neurons_zhou.obs[\"leiden\"].isin([\"4\"])], color=[\"NPY\", \"POMC\", \"TBX3\", \"OTP\", \"KISS1\", \"AGRP\", \"PRDM12\", \"GHRH\"], ncols=3)\n",
    "#print(\"Additional ARC markers from dropbox and from Herb dotplot:\")\n",
    "#sc.pl.umap(adata_neurons_zhou[adata_neurons_zhou.obs[\"leiden\"].isin([\"4\"])], color=[ \"SIX3\", \"SIX6\", \"NR5A2\", \"GAL\", \"HMX2\", \"RAX\", \"ISL1\"], ncols=3)"
   ]
  },
  {
   "cell_type": "markdown",
   "metadata": {},
   "source": [
    "## Neuronal cluster 5"
   ]
  },
  {
   "cell_type": "code",
   "execution_count": null,
   "metadata": {},
   "outputs": [],
   "source": [
    "print(\"ARC markers : \")\n",
    "sc.pl.umap(adata_neurons_zhou[adata_neurons_zhou.obs[\"leiden\"].isin([\"5\"])], color=[\"NPY\", \"POMC\", \"TBX3\", \"OTP\", \"KISS1\", \"AGRP\", \"PRDM12\", \"GHRH\"], ncols=3)\n",
    "#print(\"Additional ARC markers from dropbox and from Herb dotplot:\")\n",
    "#sc.pl.umap(adata_neurons_zhou[adata_neurons_zhou.obs[\"leiden\"].isin([\"5\"])], color=[ \"SIX3\", \"SIX6\", \"NR5A2\", \"GAL\", \"HMX2\", \"RAX\", \"ISL1\"], ncols=3)\n",
    "\n",
    "\n"
   ]
  },
  {
   "cell_type": "code",
   "execution_count": 26,
   "metadata": {},
   "outputs": [
    {
     "data": {
      "text/plain": [
       "5033"
      ]
     },
     "execution_count": 26,
     "metadata": {},
     "output_type": "execute_result"
    }
   ],
   "source": [
    "# Cluster 10, 4, and 5 are all arc. Note we didn't distinguish the ARC progenitors in here\n",
    "arc_cluster_10 = list(adata_neurons_zhou[adata_neurons_zhou.obs[\"leiden\"].isin([\"10\"])].obs.index)\n",
    "arc_cluster_4 = list(adata_neurons_zhou[adata_neurons_zhou.obs[\"leiden\"].isin([\"4\"])].obs.index)\n",
    "arc_cluster_5 = list(adata_neurons_zhou[adata_neurons_zhou.obs[\"leiden\"].isin([\"5\"])].obs.index)\n",
    "\n",
    "# Store the items to list of lists and flatten the list\n",
    "arc_cells = [arc_cluster_10, arc_cluster_4, arc_cluster_5]\n",
    "arc_cells = [item for sublist in arc_cells for item in sublist]\n",
    "len(arc_cells)"
   ]
  },
  {
   "cell_type": "markdown",
   "metadata": {},
   "source": [
    "# LHA"
   ]
  },
  {
   "cell_type": "code",
   "execution_count": null,
   "metadata": {},
   "outputs": [],
   "source": [
    "# Locate LHA by plotting its markers\n",
    "sc.pl.umap(adata_neurons_zhou,color=[\"LHX9\",\"HCRT\", \"PDYN\", \"PCSK1\",\"NPTX2\", \"RFX4\",\"NEK7\", \"PLAGL1\", \"SCG2\", \"CBLN1\", \"VGF\"])"
   ]
  },
  {
   "cell_type": "code",
   "execution_count": null,
   "metadata": {},
   "outputs": [],
   "source": [
    "# Plot LH cluster from Herb data\n",
    "ax = sc.pl.umap(adata_neurons,frameon=False, show=False, size=15)\n",
    "sc.pl.umap(neurons_herb[neurons_herb.obs[\"Cell_subpopulations\"].isin([\"LH\"])],color=[\"Cell_subpopulations\"],\n",
    "    frameon=False,ax=ax,size=15,show=False)\n",
    "\n",
    "# In zhou data there is no cluster fully overlapping LH from Herb data\n",
    "# But clusters 1 and 37, which surrounds the LH cluster, express LH marker genes\n",
    "ax = sc.pl.umap(adata_neurons,frameon=False,show=False,size=15)\n",
    "sc.pl.umap(adata_neurons_zhou[adata_neurons_zhou.obs[\"leiden\"].isin([\"1\", \"37\"])],\n",
    "    color=[\"leiden\"],frameon=False,ax=ax,size=15,show=False)"
   ]
  },
  {
   "cell_type": "markdown",
   "metadata": {},
   "source": [
    "## Plotting LH markers on Zhou clusters 1 and 37"
   ]
  },
  {
   "cell_type": "code",
   "execution_count": null,
   "metadata": {},
   "outputs": [],
   "source": [
    "sc.pl.umap(adata_neurons_zhou[adata_neurons_zhou.obs[\"leiden\"].isin([\"1\", \"37\"])], color=[\"leiden\",\"LHX9\",\"HCRT\", \"PDYN\", \"PCSK1\",\"NPTX2\", \"RFX4\",\"NEK7\", \"PLAGL1\", \"SCG2\", \"CBLN1\", \"VGF\"], legend_loc=\"on data\", use_raw=True, legend_fontsize=\"xx-small\", legend_fontweight=\"normal\", ncols=3)\n",
    "\n"
   ]
  },
  {
   "cell_type": "code",
   "execution_count": null,
   "metadata": {},
   "outputs": [],
   "source": [
    "# Cluster 37 is LHA, and most likely also cluster 1 contains LHA cells -> recluster cluster 1\n",
    "lha_cluster = adata_neurons_zhou[adata_neurons_zhou.obs[\"leiden\"].isin([\"1\"])]\n",
    "sc.tl.pca(lha_cluster)\n",
    "sc.pp.neighbors(lha_cluster)\n",
    "sc.tl.leiden(lha_cluster, resolution=0.52)\n",
    "sc.pl.umap(lha_cluster, color=\"leiden\", size=5)"
   ]
  },
  {
   "cell_type": "code",
   "execution_count": null,
   "metadata": {},
   "outputs": [],
   "source": [
    "sc.pl.umap(lha_cluster[lha_cluster.obs[\"leiden\"].isin([\"0\"])],color=[\"HCRT\", \"PDYN\", \"PCSK1\"],frameon=False,size=25)\n",
    "#sc.pl.umap(lha_cluster[lha_cluster.obs[\"leiden\"].isin([\"1\"])],color=[\"HCRT\", \"PDYN\", \"PCSK1\"],frameon=False,size=25)"
   ]
  },
  {
   "cell_type": "code",
   "execution_count": 37,
   "metadata": {},
   "outputs": [
    {
     "data": {
      "text/plain": [
       "2569"
      ]
     },
     "execution_count": 37,
     "metadata": {},
     "output_type": "execute_result"
    }
   ],
   "source": [
    "# In the re-clustered data cluster 0 seems to be LHA as well -> store cells from original cluster 37 and cluster 0 from the reclustered data to list\n",
    "lha_recluster_0 = lha_cluster[lha_cluster.obs[\"leiden\"].isin([\"0\"])].obs.index\n",
    "lha_cluster_37 = adata_neurons_zhou[adata_neurons_zhou.obs[\"leiden\"].isin([\"37\"])].obs.index\n",
    "# Store the items to list of lists and flatten the list\n",
    "lha_cells = [lha_recluster_0, lha_cluster_37]\n",
    "lha_cells = [item for sublist in lha_cells for item in sublist]\n",
    "len(lha_cells)"
   ]
  },
  {
   "cell_type": "markdown",
   "metadata": {},
   "source": [
    "## TM nucleus (Tuberomammillary Terminal )"
   ]
  },
  {
   "cell_type": "code",
   "execution_count": null,
   "metadata": {},
   "outputs": [],
   "source": [
    "ax = sc.pl.umap(adata_neurons,frameon=False,show=False,size=15)\n",
    "sc.pl.umap(neurons_herb[neurons_herb.obs[\"Cell_subpopulations\"].isin([\"TM\"])],color=[\"LEPR\"],\n",
    "    frameon=False,ax=ax,size=15,show=False,title=\"TM on Herb neurons\")\n",
    "\n",
    "ax = sc.pl.umap(adata_neurons,frameon=False,show=False,size=15)\n",
    "sc.pl.umap(adata_neurons_zhou[adata_neurons_zhou.obs[\"leiden\"].isin([\"14\"])],color=[\"HDC\"],\n",
    "    title=[\"Plotting HDC expression on Zhou cluster 14\"],frameon=False,ax=ax,size=10,show=False)\n",
    "\n",
    "sc.pl.umap(adata_neurons_zhou, color=[\"HDC\", \"TBX3\", \"LEPR\"])"
   ]
  },
  {
   "cell_type": "code",
   "execution_count": 40,
   "metadata": {},
   "outputs": [
    {
     "name": "stdout",
     "output_type": "stream",
     "text": [
      "1022\n"
     ]
    }
   ],
   "source": [
    "# Cluster 14 is TM\n",
    "#sc.pl.umap(adata_neurons_zhou[adata_neurons_zhou.obs[\"leiden\"].isin([\"14\"])],color=[\"HDC\"])\n",
    "tm_cells = list(adata_neurons_zhou[adata_neurons_zhou.obs[\"leiden\"].isin([\"14\"])].obs.index)\n",
    "print(len(tm_cells))"
   ]
  },
  {
   "cell_type": "markdown",
   "metadata": {},
   "source": [
    "# SMN and MN nuclei ( Supramammillary Nucleus, Mammillary Nucleus)"
   ]
  },
  {
   "cell_type": "code",
   "execution_count": null,
   "metadata": {},
   "outputs": [],
   "source": [
    "# MN is also included as SMN doesn't have many markers that are positive for SMN but negative for MN\n",
    "ax = sc.pl.umap( adata_neurons, frameon=False, show=False, size=15)\n",
    "sc.pl.umap( neurons_herb[neurons_herb.obs[\"Cell_subpopulations\"].isin([\"SMN\", \"MN\"])],\n",
    "    color=[\"Cell_subpopulations\"], frameon=False,ax=ax, size=15,show=False)"
   ]
  },
  {
   "cell_type": "markdown",
   "metadata": {},
   "source": [
    "## Plotting SMN and MN markers on Zhou neurons"
   ]
  },
  {
   "cell_type": "code",
   "execution_count": null,
   "metadata": {},
   "outputs": [],
   "source": [
    "# \"FOXB1\", \"LHX1\" are markers for MN\n",
    "# PITX2 is marker for bot\n",
    "\n",
    "sc.pl.umap(\n",
    "    adata_neurons_zhou,\n",
    "    color=[\"LMX1A\", \"BARHL1\",\"IRX3\",\"FOXA1\", \"PITX2\",\"FOXB1\", \"LHX1\"],\n",
    "    frameon=False,\n",
    "    size=20,\n",
    "   legend_loc=\"on data\", legend_fontsize=\"xx-small\", legend_fontweight=\"normal\", ncols=4\n",
    "    \n",
    ")"
   ]
  },
  {
   "cell_type": "code",
   "execution_count": null,
   "metadata": {},
   "outputs": [],
   "source": [
    "# It seems that cluster 20 contains both smn and mn -> reclustering\n",
    "smn_mn_cluster = adata_neurons_zhou[adata_neurons_zhou.obs[\"leiden\"].isin([\"20\"])]\n",
    "sc.tl.pca(smn_mn_cluster)\n",
    "sc.pp.neighbors(smn_mn_cluster)\n",
    "sc.tl.leiden(smn_mn_cluster, resolution=0.15)\n",
    "sc.pl.umap(smn_mn_cluster, color=\"leiden\", size=25)"
   ]
  },
  {
   "cell_type": "code",
   "execution_count": null,
   "metadata": {},
   "outputs": [],
   "source": [
    "# Based on LMX1A, BARHL1, IRX3 and FOXA1 expression we are able to discriminate SMN \n",
    "sc.pl.umap(smn_mn_cluster, color=[\"LMX1A\", \"BARHL1\", \"IRX3\", \"FOXA1\"], size=25)\n",
    "\n",
    "# MN can be identified based on LHX1 and FOXB1\n",
    "sc.pl.umap(smn_mn_cluster, color=[\"LHX1\", \"FOXB1\"], size=40)\n"
   ]
  },
  {
   "cell_type": "code",
   "execution_count": null,
   "metadata": {},
   "outputs": [],
   "source": [
    "# Store MN and SMN cells to list\n",
    "mn_cells = list(smn_mn_cluster[smn_mn_cluster.obs[\"leiden\"].isin([\"0\"])].obs.index)\n",
    "smn_cells = list(smn_mn_cluster[smn_mn_cluster.obs[\"leiden\"].isin([\"1\"])].obs.index)"
   ]
  },
  {
   "cell_type": "code",
   "execution_count": 71,
   "metadata": {},
   "outputs": [],
   "source": [
    "# Update subtypes to adata\n",
    "scvi_adata.obs[\"Cell_subpopulations_updated\"] = scvi_adata.obs[\"Cell_subpopulations\"]\n",
    "zhou_subtypes = [pvn_cells, vmh_cells, arc_cells, lha_cells, tm_cells, mn_cells, smn_cells]\n",
    "subtypes = [\"PVH\", \"VMH\", \"ARC\", \"LH\", \"TM\", \"MN\", \"SMN\"]\n",
    "for i in range(len(zhou_subtypes)):\n",
    "    scvi_adata.obs.loc[zhou_subtypes[i], \"Cell_subpopulations_updated\"] = subtypes[i]\n",
    "    \n",
    "# All subtypes from Herb data which was not identified (ZI, ID, SCN, NA, Intermediates) are renamed as neurons\n",
    "# renam PVH to PVN and LH to LHA\n",
    "scvi_adata.obs['Cell_subpopulations_updated'] = scvi_adata.obs['Cell_subpopulations_updated'].replace({'ZI': 'Neuron', 'ID': 'Neuron', \n",
    "                                'SCN': 'Neuron', 'NA': 'Neuron', 'Intermediates': 'Neuron', \"PVH\": \"PVN\", \"LH\":\"LHA\"})"
   ]
  },
  {
   "cell_type": "code",
   "execution_count": null,
   "metadata": {},
   "outputs": [],
   "source": [
    "scvi_adata.obs[\"Cell_subpopulations_updated\"].value_counts()"
   ]
  },
  {
   "cell_type": "code",
   "execution_count": null,
   "metadata": {},
   "outputs": [],
   "source": [
    "# Plotting\n",
    "sc.pl.umap(scvi_adata[scvi_adata.obs[\"Cell_types_4\"].isin([ \"Neuron\"])], color=\"Cell_subpopulations_updated\")\n",
    "temp_neurons = scvi_adata[scvi_adata.obs[\"Cell_types_4\"].isin([ \"Neuron\"])]\n",
    "sc.pl.umap(temp_neurons[~temp_neurons.obs[\"Cell_subpopulations_updated\"].isin([\"Neuron\"])], color=[\"Cell_subpopulations_updated\", \"source\", \"PITX2\", \"LMX1A\", \"HDC\", \"HCRT\", \"SIM1\", \"FEZF1\", \"NR5A1\", \"TBX3\", \"GHRH\"], size=5)\n",
    "temp_neurons_2 = temp_neurons[~temp_neurons.obs[\"Cell_subpopulations_updated\"].isin([\"Neuron\"])]\n",
    "sc.pl.umap(temp_neurons_2[temp_neurons_2.obs[\"source\"].isin([\"Herb\"])], color=[\"Cell_subpopulations_updated\"])\n",
    "sc.pl.umap(temp_neurons_2[temp_neurons_2.obs[\"source\"].isin([\"Zhou\"])], color=[\"Cell_subpopulations_updated\"], size=7)\n",
    "\n"
   ]
  },
  {
   "cell_type": "code",
   "execution_count": 81,
   "metadata": {},
   "outputs": [],
   "source": [
    "# Save adata for later use\n",
    "scvi_adata.write(\"Data/scvi_subtypes.h5ad\")"
   ]
  },
  {
   "cell_type": "code",
   "execution_count": null,
   "metadata": {},
   "outputs": [],
   "source": []
  }
 ],
 "metadata": {
  "kernelspec": {
   "display_name": "Python [conda env:.conda-scvi_env]",
   "language": "python",
   "name": "conda-env-.conda-scvi_env-py"
  },
  "language_info": {
   "codemirror_mode": {
    "name": "ipython",
    "version": 3
   },
   "file_extension": ".py",
   "mimetype": "text/x-python",
   "name": "python",
   "nbconvert_exporter": "python",
   "pygments_lexer": "ipython3",
   "version": "3.10.10"
  }
 },
 "nbformat": 4,
 "nbformat_minor": 5
}
