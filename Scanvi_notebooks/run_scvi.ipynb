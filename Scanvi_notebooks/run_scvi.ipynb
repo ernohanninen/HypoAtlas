{
 "cells": [
  {
   "attachments": {},
   "cell_type": "markdown",
   "metadata": {},
   "source": [
    "Author: Erno Hänninen\n",
    "\n",
    "Created: 16.02.2023\n",
    "\n",
    "Title: run_scvi.ipynb\n",
    "\n",
    "Description: \n",
    "- BAtch correction using scVI\n",
    "- scVI-tools recommend correcting batch effect using scVI and then fine-tuning the integration with scANVI\n",
    "- Therefore, even scANVI was the best-performing method in our benchmarking we need to initialize it pretrained using scVI model\n",
    "\n",
    "Procedure\n",
    "- Read data to be integrated\n",
    "- Train scVI model\n",
    "- Annotate tanycyte and radial glia populations based on marker gene expressin. THese populations were missannotated in Zhou dataset\n",
    "\n",
    "List of non-standard modules:\n",
    "- scanpy, scvi, scib, matplotlib, pandas\n",
    "\n",
    "Conda environment used:\n",
    "- PYenv\n",
    "\n",
    "Usage:\n",
    "- The script was executed using Jupyter Notebook web interface. All the dependencies required by Jupyter are installed to PYenv Conda environment. See README file for further details"
   ]
  },
  {
   "cell_type": "code",
   "execution_count": 1,
   "metadata": {},
   "outputs": [
    {
     "name": "stderr",
     "output_type": "stream",
     "text": [
      "[rank: 0] Global seed set to 0\n"
     ]
    }
   ],
   "source": [
    "import scanpy as sc\n",
    "import scvi\n",
    "import scib\n",
    "import matplotlib.pyplot as plt\n",
    "import pandas as pd"
   ]
  },
  {
   "cell_type": "code",
   "execution_count": 16,
   "metadata": {},
   "outputs": [],
   "source": [
    "# Read the data\n",
    "adata = sc.read(\"Data/adata_ready_for_scvi.h5ad\")\n",
    "adata"
   ]
  },
  {
   "attachments": {},
   "cell_type": "markdown",
   "metadata": {},
   "source": [
    "# scVI"
   ]
  },
  {
   "cell_type": "code",
   "execution_count": 20,
   "metadata": {},
   "outputs": [],
   "source": [
    "# Setup data for scvi and initialize model \n",
    "scvi.model.SCVI.setup_anndata(adata, layer=\"counts\", batch_key=\"sample\")\n",
    "vae = scvi.model.SCVI(adata, n_layers=2, n_latent=30,n_hidden=256,dispersion=\"gene-cell\", gene_likelihood=\"zinb\")\n",
    "# Train the model\n",
    "vae.train(early_stopping=True, max_epochs=120, train_size=0.75)"
   ]
  },
  {
   "cell_type": "code",
   "execution_count": null,
   "metadata": {},
   "outputs": [],
   "source": [
    "# Plot convergence to ensure the model doesn't overfit\n",
    "train_elbo = vae.history['elbo_train'][1:]\n",
    "test_elbo = vae.history['elbo_validation']\n",
    "ax = train_elbo.plot()\n",
    "test_elbo.plot(ax=ax)"
   ]
  },
  {
   "cell_type": "code",
   "execution_count": 24,
   "metadata": {},
   "outputs": [],
   "source": [
    "# Use the embedding from scvi to compute neighbors and umap\n",
    "adata.obsm[\"X_scVI\"] = vae.get_latent_representation()\n",
    "sc.pp.neighbors(adata, use_rep=\"X_scVI\")\n",
    "sc.tl.umap(adata)"
   ]
  },
  {
   "cell_type": "code",
   "execution_count": null,
   "metadata": {},
   "outputs": [],
   "source": [
    "# Plot integration results and tanycyte marker (CRYM)\n",
    "sc.pl.umap(adata,color=[\"sample\", \"Cell_types_3\", \"CRYM\"],\n",
    "           frameon=False,ncols=1)"
   ]
  },
  {
   "attachments": {},
   "cell_type": "markdown",
   "metadata": {},
   "source": [
    "# Annotate tanycytes from zhou data"
   ]
  },
  {
   "cell_type": "code",
   "execution_count": null,
   "metadata": {},
   "outputs": [],
   "source": [
    "# The CRYM (tanycyte marker) expression revails that tanycytes are missanotated as neural progenitros in Zhou dataset\n",
    "adata_subset = adata[adata.obs[\"Cell_types_3\"].isin([\"Astrocyte\", \"Tanycytes\", \"RadialGlia\", \"NP\"])].copy()\n",
    "sc.pl.umap(adata_subset, color=[\"Cell_types_3\", \"CRYM\"])"
   ]
  },
  {
   "cell_type": "code",
   "execution_count": 69,
   "metadata": {},
   "outputs": [],
   "source": [
    "# Reclustering subsetted data\n",
    "sc.tl.pca(adata_subset)\n",
    "sc.pp.neighbors(adata_subset)\n",
    "sc.tl.leiden(adata_subset, resolution=2.5)\n"
   ]
  },
  {
   "cell_type": "code",
   "execution_count": null,
   "metadata": {},
   "outputs": [],
   "source": [
    "# Plot cyrm expression and leiden cluster, to identify the cluster which needs to be reannotated\n",
    "sc.pl.umap(adata_subset, color=[\"leiden\", \"CRYM\"], wspace=0.45, legend_loc=\"on data\", legend_fontsize=\"xx-small\")"
   ]
  },
  {
   "cell_type": "code",
   "execution_count": null,
   "metadata": {},
   "outputs": [],
   "source": [
    "# In the original dataset cluster 23 is annotated as NP. However as they are CRYM+ and RAX+ (tanycyte markers),\n",
    "# and as NP should be APOE- (tanycyte marker) -> we annotate this cluster as tanycytes\n",
    "sc.pl.umap(adata_subset[adata_subset.obs[\"leiden\"].isin([\"23\"])], color=[\"CRYM\",\"RAX\",\"APOE\",\"Cell_types_3\",\"leiden\"], wspace=0.4)"
   ]
  },
  {
   "cell_type": "code",
   "execution_count": 137,
   "metadata": {},
   "outputs": [],
   "source": [
    "# rename cells from cluster 23 as tanycytes\n",
    "adata.obs[\"Cell_types_4\"] = adata.obs[\"Cell_types_3\"]\n",
    "tanycyte_cells = pd.Series(list(adata_subset[adata_subset.obs[\"leiden\"].isin([\"23\"])].obs.index), dtype=\"category\")\n",
    "#Updates the cell types in Cell_types_4 and Cell_subpopulations column \n",
    "adata.obs[\"Cell_types_4\"].loc[tanycyte_cells] = \"Tanycytes\"\n",
    "adata.obs[\"Cell_subpopulations\"].loc[tanycyte_cells] = \"Tanycytes\"\n",
    "\n",
    "#Write the tanycyte population to file, for reproducibility\n",
    "with open('tanycytes.txt', 'w') as f:\n",
    "    for cells in list(tanycyte_cells):\n",
    "        f.write(f\"{cells}\\n\")"
   ]
  },
  {
   "attachments": {},
   "cell_type": "markdown",
   "metadata": {},
   "source": [
    "# Annotate Radial glia from Zhou data"
   ]
  },
  {
   "cell_type": "code",
   "execution_count": 235,
   "metadata": {},
   "outputs": [],
   "source": [
    "# Radial glia is missing in Zhou dataset -> annotating it\n",
    "# According to Herb et al 2022, HOPX+ is radial glia and HOPX- is astrocyte, in Zhou dataset HOPX+ cells have \n",
    "# been annotated as Radial glia. \n",
    "# The dotplot in Herb et al 2022 Fig1 indicates that in addition to HOPX, also EGRF and OLIG1 genes are expressed\n",
    "# in radial glia but not in astrocytes"
   ]
  },
  {
   "cell_type": "code",
   "execution_count": null,
   "metadata": {},
   "outputs": [],
   "source": [
    "# plotting radial glia and astrocytes from Herb dataset and the markers listed above\n",
    "adata_subset_herb = adata[adata.obs[\"source\"].isin([\"Herb\"])].copy()\n",
    "sc.pl.umap(adata_subset_herb[adata_subset_herb.obs[\"Cell_types_4\"].isin([ \"Astrocyte\", \"RadialGlia\"])], color=[\"Cell_types_4\",\"HOPX\",\"EGFR\",\"OLIG1\"], legend_loc=\"on data\", legend_fontsize=\"xx-small\")"
   ]
  },
  {
   "cell_type": "code",
   "execution_count": null,
   "metadata": {},
   "outputs": [],
   "source": [
    "# Then plotting radial glia (missing) and astrocytes from Zhou dataset and the markers listed above\n",
    "adata_subset_zhou = adata[adata.obs[\"source\"].isin([\"Zhou\"])].copy()\n",
    "sc.pl.umap(adata_subset_zhou[adata_subset_zhou.obs[\"Cell_types_4\"].isin([ \"Astrocyte\", \"RadialGlia\"])], color=[\"Cell_types_4\",\"HOPX\", \"EGFR\",\"OLIG1\"], wspace=0.4)"
   ]
  },
  {
   "cell_type": "code",
   "execution_count": 239,
   "metadata": {},
   "outputs": [],
   "source": [
    "# From the umap were Herb data is plotted we can see that these markers overlap the radial glia population\n",
    "# Additionally from the ZHou population we can see that the expression of these markers aren't consistent with the \n",
    "# astrocyte population \n",
    "# THerfore we can assume that that some of the astrocyte cells are Radial glia\n",
    "\n",
    "# Extract the astrocyte population from Zhou data\n",
    "adata_zhou_astrocytes = adata_subset_zhou[adata_subset_zhou.obs[\"Cell_types_4\"].isin([ \"Astrocyte\"])]\n",
    "# Reclustering data\n",
    "sc.tl.pca(adata_zhou_astrocytes)\n",
    "sc.pp.neighbors(adata_zhou_astrocytes)\n",
    "sc.tl.leiden(adata_zhou_astrocytes, resolution=0.4)"
   ]
  },
  {
   "cell_type": "code",
   "execution_count": null,
   "metadata": {},
   "outputs": [],
   "source": [
    "# Plot radial glia markers to see the which leiden cluster needs to be re-annotated\n",
    "sc.pl.umap(adata_zhou_astrocytes, color=[\"leiden\",\"HOPX\", \"EGFR\",\"OLIG1\"], legend_loc=\"on data\", legend_fontsize=\"xx-small\")"
   ]
  },
  {
   "cell_type": "code",
   "execution_count": 241,
   "metadata": {},
   "outputs": [],
   "source": [
    "# Based on plots above we can annotate zhou's astrocyte clusters 0, 2, 5 as radial glia\n",
    "astrocytes = pd.Series(list(adata_zhou_astrocytes[adata_zhou_astrocytes.obs[\"leiden\"].isin([\"0\", \"2\", \"5\"])].obs.index), dtype=\"category\")\n",
    "#Updates the cell types in Cell_types_4 column\n",
    "adata.obs[\"Cell_types_4\"].loc[astrocytes] = \"RadialGlia\"\n",
    "adata.obs[\"Cell_subpopulations\"].loc[astrocytes] = \"RadialGlia\"\n",
    "\n",
    "#Write the radialglia population to file, for reproducibility\n",
    "with open('radialglia.txt', 'w') as f:\n",
    "    for cells in list(astrocytes):\n",
    "        f.write(f\"{cells}\\n\")"
   ]
  },
  {
   "cell_type": "code",
   "execution_count": 243,
   "metadata": {},
   "outputs": [],
   "source": [
    "# Saving scVI integrated data containing updated cell type and scVI model to file\n",
    "vae.save(\"scvi_model\", overwrite=True)\n",
    "adata.write(\"Data/scvi_adata.h5ad\")"
   ]
  }
 ],
 "metadata": {
  "kernelspec": {
   "display_name": "Python 3",
   "language": "python",
   "name": "python3"
  },
  "language_info": {
   "codemirror_mode": {
    "name": "ipython",
    "version": 3
   },
   "file_extension": ".py",
   "mimetype": "text/x-python",
   "name": "python",
   "nbconvert_exporter": "python",
   "pygments_lexer": "ipython3",
   "version": "3.7.11"
  }
 },
 "nbformat": 4,
 "nbformat_minor": 5
}
