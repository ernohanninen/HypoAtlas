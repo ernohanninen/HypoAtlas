{
 "cells": [
  {
   "attachments": {},
   "cell_type": "markdown",
   "metadata": {},
   "source": [
    "Author: Erno Hänninen\n",
    "\n",
    "Created: 03.02.2023\n",
    "\n",
    "Title: d16_prediction.ipynb\n",
    "\n",
    "Description: \n",
    "- Predict cell types of data sequenced from our in-house hypothalamic differentiation protocols at day 16\n",
    "\n",
    "Procedure\n",
    "- Read the day 16 data\n",
    "- Perform additional filtering\n",
    "- Re-train the scANVI reference model using day 16 query data\n",
    "- Predict the cell types from day 16 data\n",
    "- Assign cell type with highest probability and annotate cell with prediction score less than 0.6 as unknown\n",
    "- Plot result and marker gene expression on umap\n",
    "\n",
    "\n",
    "List of non-standard modules:\n",
    "- scanpy, scvi, matplotlib, pandas, seaborn\n",
    "\n",
    "Conda environment used:\n",
    "- PYenv\n",
    "\n",
    "Usage:\n",
    "- The script was executed using Jupyter Notebook web interface. All the dependencies required by Jupyter are installed to PYenv Conda environment. See README file for further details"
   ]
  },
  {
   "cell_type": "code",
   "execution_count": 13,
   "metadata": {},
   "outputs": [],
   "source": [
    "# Python packages\n",
    "import scanpy as sc\n",
    "import scvi\n",
    "import matplotlib.pyplot as plt\n",
    "import pandas as pd\n",
    "import seaborn as sns\n",
    "\n",
    "import os\n",
    "os.environ[\"MKL_NUM_THREADS\"] = \"30\"\n",
    "os.environ[\"NUMEXPR_NUM_THREADS\"] = \"30\"\n",
    "os.environ[\"OMP_NUM_THREADS\"] = \"30\""
   ]
  },
  {
   "attachments": {},
   "cell_type": "markdown",
   "metadata": {},
   "source": [
    "# Reading d16 data and quality filtering"
   ]
  },
  {
   "cell_type": "code",
   "execution_count": 14,
   "metadata": {},
   "outputs": [],
   "source": [
    "adata_d16 = sc.read(\"Data/d16.h5ad\")"
   ]
  },
  {
   "cell_type": "code",
   "execution_count": 15,
   "metadata": {},
   "outputs": [],
   "source": [
    "# Compute qc metrix\n",
    "adata_d16.var['mt'] = adata_d16.var_names.str.startswith('MT-')  # annotate the group of mitochondrial genes as 'mt'\n",
    "sc.pp.calculate_qc_metrics(adata_d16, qc_vars=['mt'], percent_top=None, log1p=False, inplace=True)\n",
    "fig, (ax1, ax2, ax3, ax4, ax5) = plt.subplots(1, 5,  figsize=(20,4), gridspec_kw={'wspace':0.9})\n",
    "ax1_dict = sc.pl.violin(adata_d16,['n_genes_by_counts'], jitter=0.4, show=False, ax = ax1, stripplot=False) \n",
    "ax2_dict = sc.pl.violin(adata_d16,['total_counts'], jitter=0.4, show=False, ax = ax2, stripplot=False)\n",
    "ax3_dict = sns.histplot(adata_d16.obs[\"n_genes_by_counts\"],  ax = ax3)\n",
    "ax4_dict = sns.histplot(adata_d16.obs[\"total_counts\"], ax = ax4)\n",
    "ax5_dict = sc.pl.scatter(adata_d16, x='total_counts', y='n_genes_by_counts', show=False, ax=ax5)"
   ]
  },
  {
   "cell_type": "code",
   "execution_count": 16,
   "metadata": {},
   "outputs": [],
   "source": [
    "# perform fitering\n",
    "sc.pp.filter_cells(adata_d16, min_counts=100)\n",
    "sc.pp.filter_cells(adata_d16, max_counts=35000)\n",
    "sc.pp.filter_cells(adata_d16, min_genes=1450)"
   ]
  },
  {
   "cell_type": "code",
   "execution_count": 17,
   "metadata": {},
   "outputs": [],
   "source": [
    "# Recompute qc metrics to see the filtering was enough\n",
    "adata_d16.var['mt'] = adata_d16.var_names.str.startswith('MT-')  # annotate the group of mitochondrial genes as 'mt'\n",
    "sc.pp.calculate_qc_metrics(adata_d16, qc_vars=['mt'], percent_top=None, log1p=False, inplace=True)\n",
    "# Plot to see that the data quality is okay\n",
    "fig, (ax1, ax2, ax3, ax4, ax5) = plt.subplots(1, 5,  figsize=(20,4), gridspec_kw={'wspace':0.9})\n",
    "ax1_dict = sc.pl.violin(adata_d16,['n_genes_by_counts'], jitter=0.4, show=False, ax = ax1, stripplot=False) \n",
    "ax2_dict = sc.pl.violin(adata_d16,['total_counts'], jitter=0.4, show=False, ax = ax2, stripplot=False)\n",
    "ax3_dict = sns.histplot(adata_d16.obs[\"n_genes_by_counts\"],  ax = ax3)\n",
    "ax4_dict = sns.histplot(adata_d16.obs[\"total_counts\"], ax = ax4)\n",
    "ax5_dict = sc.pl.scatter(adata_d16, x='total_counts', y='n_genes_by_counts', show=False, ax=ax5)"
   ]
  },
  {
   "cell_type": "code",
   "execution_count": 18,
   "metadata": {},
   "outputs": [],
   "source": [
    "# Prepare data for scANVI and plotting\n",
    "adata_d16.var = adata_d16.var.set_index('_index')\n",
    "adata_d16.obs[\"sample\"] = \"d16\"\n",
    "adata_d16.layers[\"counts\"] = adata_d16.X # Raw counts stored in count layer\n",
    "\n",
    "# Normalize the adata.X\n",
    "sc.pp.normalize_total(adata_d16, target_sum=1e4)\n",
    "sc.pp.log1p(adata_d16)\n",
    "adata_d16_original = adata_d16.copy()"
   ]
  },
  {
   "attachments": {},
   "cell_type": "markdown",
   "metadata": {},
   "source": [
    "# Query mapping"
   ]
  },
  {
   "cell_type": "code",
   "execution_count": null,
   "metadata": {},
   "outputs": [],
   "source": [
    "# Using a pretrained scanvi model\n",
    "scvi.model.SCANVI.prepare_query_anndata(adata_d16, \"scanvi_model\")\n",
    "# Initialize model\n",
    "vae_q = scvi.model.SCANVI.load_query_data(adata_d16,\"scanvi_model\")\n",
    "vae_q"
   ]
  },
  {
   "cell_type": "code",
   "execution_count": null,
   "metadata": {},
   "outputs": [],
   "source": [
    "# Train scANVI model\n",
    "vae_q.train(max_epochs=60,plan_kwargs=dict(weight_decay=0.0), early_stopping=True, train_size=0.7, batch_size=502, early_stopping_monitor='elbo_train')"
   ]
  },
  {
   "attachments": {},
   "cell_type": "markdown",
   "metadata": {},
   "source": [
    "# Predicting d16 data and visualization"
   ]
  },
  {
   "cell_type": "code",
   "execution_count": null,
   "metadata": {},
   "outputs": [],
   "source": [
    "# Run prediction\n",
    "df = vae_q.predict(soft=True) # Returns a dataframe\n",
    "# Predict function returns a dataframe\n",
    "# From row get the cell type with the highest probability and the probability value\n",
    "data = {\"Cell_type\":list(df.idxmax(axis=1)), \"Probability\":list(df.max(axis=\"columns\"))}\n",
    "# Create a dataframe from this data, cells with prediction score less than 0.6 are filtered away\n",
    "cell_prob = pd.DataFrame(data) \n",
    "adata_d16.obs[\"Predictions\"] = \"Unknown\"\n",
    "cell_prob.loc[cell_prob.Probability < 0.6, ['Cell_type']] = 'Unknown'\n",
    "adata_d16.obs.loc[adata_d16.obs[\"Predictions\"] == \"Unknown\", \"Predictions\"] = list(cell_prob[\"Cell_type\"])\n",
    "adata_d16.raw = adata_d16_original.copy()\n",
    "adata_d16.obs[\"Predictions\"].value_counts()"
   ]
  },
  {
   "cell_type": "code",
   "execution_count": 23,
   "metadata": {},
   "outputs": [],
   "source": [
    "# Removing astrocyte, opc and mural cells from day 16 as there were only one cell each\n",
    "adata_d16 = adata_d16[adata_d16.obs[\"Predictions\"].isin([\"NP\", \"Neuron\",\"Unknown\", \"ARC\"])]"
   ]
  },
  {
   "cell_type": "code",
   "execution_count": null,
   "metadata": {},
   "outputs": [],
   "source": [
    "# plotting prediction results\n",
    "with plt.rc_context({\"figure.dpi\": (400)}):\n",
    "    sc.pl.umap(adata_d16, color=[\"Predictions\"], legend_fontsize=\"large\", frameon=False, save=\"_d16_pred.png\")\n",
    "\n",
    "# Plotting marker gene expresssion    \n",
    "title_list = [\"STMN2 - Neuron\",\"SOX2 - NP\", \"POMC - ARC\"]\n",
    "gene_list = [\"STMN2\",\"SOX2\", \"POMC\"]\n",
    "for i, gene in enumerate(gene_list):\n",
    "    if gene != \"POMC\":\n",
    "        with plt.rc_context({\"figure.dpi\": (400)}):\n",
    "            sc.pl.umap(adata_d16, color=gene, legend_fontsize=\"small\", frameon=False, use_raw=True,  save=\"_d16_\"+gene+\".png\", colorbar_loc=None, title = title_list[i])\n",
    "    else:\n",
    "        with plt.rc_context({\"figure.dpi\": (400)}):\n",
    "            sc.pl.umap(adata_d16[adata_d16.obs[\"Predictions\"].isin([\"ARC\", \"Neuron\"])], color=gene, legend_fontsize=\"small\", frameon=False, use_raw=True,  save=\"_d16_\"+gene+\".png\", colorbar_loc=None, title = title_list[i])\n",
    "        \n"
   ]
  },
  {
   "cell_type": "code",
   "execution_count": 25,
   "metadata": {},
   "outputs": [],
   "source": [
    "# Store resulting adata for later use\n",
    "if \"mt\" in adata_d16.var.columns:\n",
    "    del adata_d16.var[\"mt\"]\n",
    "adata_d16.write(\"Data/d16_predicted.h5ad\")"
   ]
  }
 ],
 "metadata": {
  "kernelspec": {
   "display_name": "Python [conda env:.conda-scvi_env]",
   "language": "python",
   "name": "conda-env-.conda-scvi_env-py"
  },
  "language_info": {
   "codemirror_mode": {
    "name": "ipython",
    "version": 3
   },
   "file_extension": ".py",
   "mimetype": "text/x-python",
   "name": "python",
   "nbconvert_exporter": "python",
   "pygments_lexer": "ipython3",
   "version": "3.10.10"
  }
 },
 "nbformat": 4,
 "nbformat_minor": 5
}
