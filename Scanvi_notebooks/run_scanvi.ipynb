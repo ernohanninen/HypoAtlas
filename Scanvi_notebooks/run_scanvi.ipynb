{
 "cells": [
  {
   "attachments": {},
   "cell_type": "markdown",
   "metadata": {},
   "source": [
    "Author: Erno Hänninen\n",
    "\n",
    "Created: 25.02.2023\n",
    "\n",
    "Title: run_scanvi.ipynb\n",
    "\n",
    "Description: \n",
    "- Run scANVI and evaluate the reference dataset and model\n",
    "\n",
    "Procedure\n",
    "- Take scVI integrated data and model as input\n",
    "- train scANVI model\n",
    "- Evaluating scANVI model by predicting the cell types of reference and plot the result using scatter plot and sankey plot\n",
    "- Evaluating scANVI integrated by visualizing it on force-directed graph drawing plot (initialized using PAGA graph)\n",
    "- Explore marker gene expression of reference using feature plots and dotplots\n",
    "\n",
    "List of non-standard modules:\n",
    "- scanpy, scvi, matplotlib, pandas, seaborn, numpy, sankey\n",
    "\n",
    "Conda environment used:\n",
    "- PYenv\n",
    "\n",
    "Usage:\n",
    "- The script was executed using Jupyter Notebook web interface. All the dependencies required by Jupyter are installed to PYenv Conda environment. See README file for further details"
   ]
  },
  {
   "cell_type": "code",
   "execution_count": 1,
   "metadata": {},
   "outputs": [
    {
     "name": "stderr",
     "output_type": "stream",
     "text": [
      "Global seed set to 0\n",
      "/home/bns631/.conda/envs/scvi_env/lib/python3.10/site-packages/tqdm/auto.py:21: TqdmWarning: IProgress not found. Please update jupyter and ipywidgets. See https://ipywidgets.readthedocs.io/en/stable/user_install.html\n",
      "  from .autonotebook import tqdm as notebook_tqdm\n"
     ]
    }
   ],
   "source": [
    "# Import packages\n",
    "import scanpy as sc\n",
    "import scvi\n",
    "import pandas as pd\n",
    "import seaborn as sns\n",
    "import numpy as np\n",
    "import matplotlib.colorbar as colorbar\n",
    "import matplotlib.colors as clr\n",
    "import matplotlib.pyplot as plt\n",
    "\n",
    "from pySankey import sankey\n",
    "import os\n",
    "os.environ[\"MKL_NUM_THREADS\"] = \"20\"\n",
    "os.environ[\"NUMEXPR_NUM_THREADS\"] = \"20\"\n",
    "os.environ[\"OMP_NUM_THREADS\"] = \"20\""
   ]
  },
  {
   "cell_type": "code",
   "execution_count": null,
   "metadata": {},
   "outputs": [],
   "source": [
    "# read scvi integrated data containing hypothalamic nuclei, and scvi model\n",
    "adata=sc.read(\"Data/scvi_subtypes.h5ad\")\n",
    "vae = scvi.model.SCVI.load(\"scvi_model\",adata)"
   ]
  },
  {
   "attachments": {},
   "cell_type": "markdown",
   "metadata": {},
   "source": [
    "## run scANVI"
   ]
  },
  {
   "cell_type": "code",
   "execution_count": null,
   "metadata": {},
   "outputs": [],
   "source": [
    "# Initialize SCANVI model with pretrained scvi model\n",
    "lvae = scvi.model.SCANVI.from_scvi_model(\n",
    "    vae,\n",
    "    adata=adata,\n",
    "    labels_key=\"Cell_subpopulations_updated\",\n",
    "    unlabeled_category=\"Unknown\",\n",
    ")\n",
    "lvae"
   ]
  },
  {
   "cell_type": "code",
   "execution_count": null,
   "metadata": {},
   "outputs": [],
   "source": [
    "# Training model\n",
    "lvae.train(max_epochs=60, early_stopping=True, train_size=0.72, batch_size=502, early_stopping_monitor='elbo_train')"
   ]
  },
  {
   "cell_type": "code",
   "execution_count": null,
   "metadata": {},
   "outputs": [],
   "source": [
    "# Plot convergence\n",
    "train_elbo = lvae.history['elbo_train'][1:]\n",
    "test_elbo = lvae.history['elbo_validation']\n",
    "ax = train_elbo.plot()\n",
    "test_elbo.plot(ax=ax)"
   ]
  },
  {
   "cell_type": "code",
   "execution_count": 26,
   "metadata": {},
   "outputs": [],
   "source": [
    "# Save model and data for later use\n",
    "lvae.save(\"scanvi_model\", overwrite=True)\n",
    "adata.write(\"Data/scanvi_adata.h5ad\")"
   ]
  },
  {
   "cell_type": "code",
   "execution_count": 3,
   "metadata": {},
   "outputs": [
    {
     "name": "stdout",
     "output_type": "stream",
     "text": [
      "\u001b[34mINFO    \u001b[0m File scanvi_model/model.pt already downloaded                                                             \n"
     ]
    },
    {
     "name": "stderr",
     "output_type": "stream",
     "text": [
      "No GPU/TPU found, falling back to CPU. (Set TF_CPP_MIN_LOG_LEVEL=0 and rerun for more info.)\n"
     ]
    }
   ],
   "source": [
    "#adata=sc.read(\"Data/scanvi_adata.h5ad\")\n",
    "#lvae = scvi.model.SCANVI.load(\"scanvi_model\",adata)"
   ]
  },
  {
   "attachments": {},
   "cell_type": "markdown",
   "metadata": {},
   "source": [
    "## Evaluating scANVI model by predicting the cell types of reference"
   ]
  },
  {
   "cell_type": "code",
   "execution_count": 4,
   "metadata": {},
   "outputs": [],
   "source": [
    "# Let's see how well this model predicts the cell types from the dataset it was trained with\n",
    "# Run prediction\n",
    "df = lvae.predict(adata, soft=True) \n",
    "# Predict function returns a dataframe\n",
    "# From row get the cell type with the highest probability and the probability value\n",
    "data = {\"Cell_type\":list(df.idxmax(axis=1)), \"Probability\":list(df.max(axis=\"columns\"))}\n",
    "# Create a dataframe from this data, cells with prediction probability less than 0.6 are labelled as unknown \n",
    "cell_prob = pd.DataFrame(data) \n",
    "adata.obs[\"Predictions\"] = \"Unknown\"\n",
    "cell_prob.loc[cell_prob.Probability < 0.6, ['Cell_type']] = 'Unknown'\n",
    "adata.obs.loc[adata.obs[\"Predictions\"] == \"Unknown\", \"Predictions\"] = list(cell_prob[\"Cell_type\"])"
   ]
  },
  {
   "cell_type": "code",
   "execution_count": 6,
   "metadata": {},
   "outputs": [],
   "source": [
    "# Create a cell type X cell type prediction probability dataframe.\n",
    "res_dict = {}\n",
    "\n",
    "# Get cell types to list from adata and loop over the list\n",
    "cells = list(adata.obs[\"Cell_subpopulations_updated\"].cat.categories)\n",
    "for cell in cells:\n",
    "    # Get the prediction probability values for the cell type\n",
    "    cell_subset = list(adata.obs[adata.obs[\"Cell_subpopulations_updated\"] == cell].index)\n",
    "    temp_dict = adata[cell_subset,:].obs[\"Predictions\"].value_counts().to_dict()\n",
    "    percentage_dict = {}\n",
    "    \n",
    "    # Round the value\n",
    "    for key,value in temp_dict.items():\n",
    "        value = round((value / len(cell_subset)*100),2)\n",
    "        if value > 1: percentage_dict.update({key: value })\n",
    "    \n",
    "    # Store results to dictionarry\n",
    "    res_dict.update({cell:percentage_dict})\n",
    "\n",
    "# Create dataframe from the dict\n",
    "prediction_df = pd.DataFrame.from_dict(res_dict, orient='index')\n",
    "prediction_df = prediction_df.fillna(0)\n",
    "prediction_df = prediction_df.reindex(prediction_df.max(1).sort_values(ascending=True).index)"
   ]
  },
  {
   "cell_type": "code",
   "execution_count": 8,
   "metadata": {},
   "outputs": [],
   "source": [
    "# Creates a dataframe which for each cell type contains percentage describing the ratio of correct predictions\n",
    "difference = [x for x in prediction_df.index if x not in prediction_df.columns]\n",
    "correct_dict = {}\n",
    "for item in difference:\n",
    "    prediction_df[item] = 0\n",
    "\n",
    "# Get the ratio of correct predictions, and update the value to dict\n",
    "for index in prediction_df.index:\n",
    "    for column in prediction_df.columns:\n",
    "        if index == column:\n",
    "            correct_dict.update({index:prediction_df[column][index]})\n",
    "\n",
    "# Create e dict which contains the amount of cells for each cell type\n",
    "num_cells_dict = {}\n",
    "cells = list(adata.obs[\"Cell_subpopulations_updated\"].cat.categories)\n",
    "for cell in cells:\n",
    "    cell_subset = list(adata.obs[adata.obs[\"Cell_subpopulations_updated\"] == cell].index)\n",
    "    num_cells_dict.update({cell: len(cell_subset)})\n",
    "    \n",
    "# Create df from two dict \n",
    "correct_prediction_df = pd.concat([pd.Series(d) for d in [correct_dict, num_cells_dict]], axis=1).fillna(0)\n",
    "correct_prediction_df = correct_prediction_df.rename(index={0: \"correct_predictions\", 1: \"num_cells\"})\n",
    "correct_prediction_df.columns = ['correct_predictions', 'num_cells']\n",
    "correct_prediction_df[\"cell_type\"] = correct_prediction_df.index\n",
    "correct_prediction_df['cell_group'] = correct_prediction_df['cell_type'].replace(['Tanycytes', 'TM',\"PVN\", \"SMN\", \"VMH\", \"LHA\", \"MN\", \"ARC\", \"NP\", \"Astrocyte\", \"RadialGlia\", \"OPC\", \"Oligo\", \"Ependy\", \"Neuron\", \"Mural\", \"Endoth\", \"Microglia\", \"VLMC\"], [\"Neuronal lineage\", \"Neurons\", \"Neurons\", \"Neurons\", \n",
    "\"Neurons\", \"Neurons\", \"Neurons\", \"Neurons\", \"Neuronal lineage\", \"Neuronal lineage\", \"Neuronal lineage\", \"Neuronal lineage\", \"Neuronal lineage\", \"Neuronal lineage\", \"Neurons\", \"Non-neuronal lineage\", \"Non-neuronal lineage\", \"Non-neuronal lineage\", \"Non-neuronal lineage\"])\n",
    "correct_prediction_df = correct_prediction_df.sort_values(by=\"correct_predictions\", ascending=True)"
   ]
  },
  {
   "cell_type": "code",
   "execution_count": null,
   "metadata": {},
   "outputs": [],
   "source": [
    "# Plotting the scatterplot where x axis contains the correct prediction proportion and y axis the number of cells in that cell type. The cells are divided to groups and colored accordingly\n",
    "# Allows us to see whether the number of cells have an impact to the prediction accuracy\n",
    "\n",
    "# TO make the plot more interpretable some of the spots in scatterplot will be annotated. Some of the spots are not that interesting, we create another df containing only the spots that will be annotated\n",
    "filtered_df = correct_prediction_df.drop([\"TM\", \"PVN\", \"SMN\", \"VMH\", \"MN\", \"Mural\", \"Endoth\", \"Microglia\", \"VLMC\"])\n",
    "with plt.rc_context({\"figure.dpi\": (600)}):\n",
    "    # Create the scatterplot\n",
    "    fig, ax = plt.subplots()\n",
    "    ax = sns.scatterplot(data=correct_prediction_df, x=\"correct_predictions\", y=\"num_cells\", hue=\"cell_group\", s=12)\n",
    "    plt.legend( loc='upper left', borderaxespad=0.2, )\n",
    "    plt.xlabel(\"Correct prediction proportion (%)\")\n",
    "    plt.ylabel(\"Number of cells\")\n",
    "    \n",
    "    # Annotate the spots\n",
    "    for i, txt in enumerate(filtered_df[\"cell_type\"]):\n",
    "        # Adjust radial glia text location\n",
    "        if txt == \"RadialGlia\":\n",
    "            ax.annotate(\" \" + txt, (filtered_df[\"correct_predictions\"][i]-4.8, filtered_df[\"num_cells\"][i]+400), fontsize=10, horizontalalignment=\"center\")\n",
    "        # Adds an array to tanycytes\n",
    "        elif txt == \"Tanycytes\" or txt == \"Astrocyte\":\n",
    "            ax.annotate(\"              \" + txt, (filtered_df[\"correct_predictions\"][i], filtered_df[\"num_cells\"][i]), fontsize=10, arrowprops=dict(arrowstyle='->',lw=0.3, fc=\"k\"))\n",
    "        elif txt == \"Ependy\":\n",
    "            ax.annotate(\"           \" + txt, (filtered_df[\"correct_predictions\"][i], filtered_df[\"num_cells\"][i]), fontsize=10, arrowprops=dict(arrowstyle='->',lw=0.3))\n",
    "        elif txt == \"Neuron\" or txt == \"NP\" or txt==\"ARC\" or txt == \"Oligo\":\n",
    "            ax.annotate(\" \" + txt, (filtered_df[\"correct_predictions\"][i], filtered_df[\"num_cells\"][i]+400), fontsize=10, horizontalalignment=\"center\")\n",
    "        # Otherwise use default settings\n",
    "        else:\n",
    "            ax.annotate(\"\" + txt, (filtered_df[\"correct_predictions\"][i]+1, filtered_df[\"num_cells\"][i]), fontsize=10)\n",
    "    plt.savefig(\"figures/prediction_scatter.png\", dpi=600, bbox_inches='tight')\n",
    "plt.show()"
   ]
  },
  {
   "cell_type": "code",
   "execution_count": null,
   "metadata": {},
   "outputs": [],
   "source": [
    "# Sankey plot\n",
    "\n",
    "# Define color space\n",
    "colorDict = {'ARC':'#EDCABE','LHA':'#6cb16d','VMH':'#f7c701',\"PVN\":'#EBB8DD',\"Tanycytes\":'#56c596',\"TM\":'#cc6677',\"MN\":'#723d46',\"SMN\":'#5c9090',\"Neuron\":\"#FF7F0E\" , \"Microglia\":\"#279E68\",\"Unknown\":\"#279E68\",\n",
    "    \"NP\":\"#1F77B4\",\"Astrocyte\":\"#1F77B4\",\"OPC\":\"#1F77B4\",\"RadialGlia\":\"#1F77B4\",\"Oligo\":\"#1F77B4\",\"Ependy\":\"#1F77B4\",\"Endoth\":\"#279E68\"}\n",
    "\n",
    "# Plotting the true cell types and predicted cell types\n",
    "# Using only cell types which the model had difficulties to predict\n",
    "adata_sankey = adata[~adata.obs[\"Cell_subpopulations_updated\"].isin([\"Mural\", \"Endoth\", \"Microglia\", \"VLMC\", \"Ependy\", \"Neuron\", \"NP\", \"Oligo\", \"RadialGlia\", \"OPC\", \"Astrocyte\"])]\n",
    "with plt.rc_context({\"figure.dpi\": (300)}):\n",
    "    sankey.sankey(left=adata_sankey.obs['Cell_subpopulations_updated'], right=adata_sankey.obs['Predictions'],fontsize=12, colorDict=colorDict, rightColor=False, leftLabels=[\"PVN\", \"LHA\", \"VMH\", \"MN\", \"SMN\", \"TM\", \"ARC\", \"Tanycytes\"],\n",
    "                  rightLabels=['Neuron','ARC','NP','Astrocyte','OPC','RadialGlia','Oligo','Ependy','Microglia','Unknown','Endoth'])\n",
    "    # Save figure to file\n",
    "    fig = plt.gcf()\n",
    "    fig.set_facecolor(\"w\")\n",
    "    fig.savefig(\"figures/predictions_nuclei.png\", bbox_inches=\"tight\", dpi=400)"
   ]
  },
  {
   "attachments": {},
   "cell_type": "markdown",
   "metadata": {},
   "source": [
    "# Plotting the batch corrected embedding"
   ]
  },
  {
   "cell_type": "code",
   "execution_count": 18,
   "metadata": {},
   "outputs": [],
   "source": [
    "# Store scanvi latent representation \n",
    "adata.obsm[\"X_scANVI\"] = lvae.get_latent_representation() # Store the adata output\n",
    "sc.pp.neighbors(adata, use_rep=\"X_scANVI\")"
   ]
  },
  {
   "cell_type": "code",
   "execution_count": null,
   "metadata": {},
   "outputs": [],
   "source": [
    "## Compute PAGA graph and plot results\n",
    "sc.tl.paga(adata, groups='Cell_subpopulations_updated')\n",
    "with plt.rc_context({\"figure.figsize\": [9, 9], \"figure.dpi\": (400)}):\n",
    "    sc.pl.paga(adata, threshold=0.086,node_size_scale=3, edge_width_scale=0.8, frameon=False, save=\"hypo.png\")"
   ]
  },
  {
   "cell_type": "code",
   "execution_count": null,
   "metadata": {},
   "outputs": [],
   "source": [
    "# COmpute and plot force-directed graph drawing\n",
    "sc.tl.draw_graph(adata, init_pos='paga', random_state=2)\n",
    "with plt.rc_context({\"figure.dpi\": (400)}):\n",
    "    sc.pl.draw_graph(adata, color=[\"Cell_types_4\"],legend_loc=\"on data\", legend_fontsize=\"x-small\",legend_fontweight=\"semibold\", save=\"_Cell_types\"+\".png\", frameon=False, title=\"\")\n"
   ]
  },
  {
   "cell_type": "code",
   "execution_count": null,
   "metadata": {},
   "outputs": [],
   "source": [
    "# Plotting markers used to identify radialglia and tanycytes\n",
    "with plt.rc_context({\"figure.dpi\": (400)}):\n",
    "    sc.pl.draw_graph(adata, use_raw=True, color=[\"HOPX\",\"EGFR\",\"CRYM\",\"RAX\"],frameon=False, ncols=2, title=[\"HOPX - RadialGlia\",\"EGRF - RadialGlia\", \"CRYM - Tanycytes\",\"RAX - Tanycytes\"],\n",
    "                     colorbar_loc=None, save=\"_rg_tan_ex_.png\")"
   ]
  },
  {
   "cell_type": "code",
   "execution_count": null,
   "metadata": {},
   "outputs": [],
   "source": [
    "# Plot integration colored by dataset source\n",
    "with plt.rc_context({\"figure.dpi\": (400)}):\n",
    "    sc.pl.draw_graph(adata, color=[\"source\"], legend_fontsize=\"x-small\",legend_fontweight=\"semibold\", save=\"_source.png\", frameon=False, title=\"\")\n"
   ]
  },
  {
   "cell_type": "code",
   "execution_count": null,
   "metadata": {},
   "outputs": [],
   "source": [
    "# Plot marker gene expression on dotplot\n",
    "markers = {\"Astrocyte\":[\"GFAP\",\"AQP4\"],\"RadialGlia\":[\"HOPX\",\"EGFR\"], \"OPC\":[\"OLIG1\",\"OLIG2\"],\"Oligo\":[\"PLP1\",\"MBP\"],\"Neuron\":[\"STMN2\",\"SYT1\"],\"Tanycytes\":[\"CRYM\",\"RAX\"], \"NP\":[\"NES\",\"MKI67\"], \"Ependy\":\"CCDC153\", \"VLMC\":\"COL1A1\", \"Microglia\":\"AIF1\", \"Endoth\":\"CLDN5\", \"Mural\":\"NDUFA4L2\"}\n",
    "with plt.rc_context({\"figure.dpi\": (400), 'font.size': '15'}):\n",
    "    sc.pl.dotplot(adata, markers, groupby=\"Cell_types_4\", dot_min=0.12, save=\"_reference_dotplot.png\")"
   ]
  },
  {
   "attachments": {},
   "cell_type": "markdown",
   "metadata": {},
   "source": [
    "# Plot hypothalamic nuclei markers\n",
    "\n",
    "\n",
    "\n",
    "\n",
    "\n",
    "\n",
    "\n",
    "\n"
   ]
  },
  {
   "cell_type": "code",
   "execution_count": null,
   "metadata": {},
   "outputs": [],
   "source": [
    "# Subset nuclei and neurons\n",
    "adata_neurons = adata[adata.obs[\"Cell_subpopulations_updated\"].isin([\"VMH\", \"ARC\",\"LHA\", \"MN\", \"PVN\", \"SMN\", \"TM\", \"Neuron\"])]\n",
    "with plt.rc_context({\"figure.dpi\": (400)}):\n",
    "    sc.pl.draw_graph(adata_neurons, color=[\"Cell_subpopulations_updated\"], legend_fontsize=\"small\", frameon=False,  save=\"_neuronal_populations_2\"+\".png\",title=\"Hypothalamic nuclei\")\n",
    "    \n",
    "# Subset only nuclei\n",
    "adata_neurons = adata[adata.obs[\"Cell_subpopulations_updated\"].isin([\"VMH\", \"ARC\",\"LHA\", \"MN\", \"PVN\", \"SMN\", \"TM\"])]\n",
    "\n",
    "# Plotting genes\n",
    "title_list = [\"PITX2 - SMN/MN\", \"LMX1A - SMN\", \"HDC - TM\", \"HCRT - LHA\", \"SIM1 - PVN\", \"AVP - PVN\",\"FEZF1 - VMH\", \"NR5A1 - VMH\", \"TBX3 - ARC\",  \"GHRH - ARC\", \"FOXB1 - MN\", \"FOXA1 - SMN\", \"LHX1 - MN\"]\n",
    "gene_list = [\"PITX2\", \"LMX1A\", \"HDC\", \"HCRT\", \"SIM1\", \"AVP\",\"FEZF1\", \"NR5A1\", \"TBX3\", \"GHRH\", \"FOXB1\", \"FOXA1\", \"LHX1\"]\n",
    "for i, gene in enumerate(gene_list):\n",
    "    with plt.rc_context({\"figure.dpi\": (400)}):\n",
    "        sc.pl.draw_graph(adata_neurons, color=gene, legend_fontsize=\"small\", frameon=False, use_raw=True, save=\"_\"+gene+\".png\", colorbar_loc=None, title = title_list[i])\n",
    "\n",
    "# Plot colorbar        \n",
    "fig = plt.figure()\n",
    "ax = fig.add_axes([0.3,0.05, 0.03, 0.3])\n",
    "cb = colorbar.ColorbarBase(ax, orientation='vertical', cmap=\"viridis\")\n",
    "cb.set_ticks(range(2))\n",
    "cb.ax.set_yticklabels([\"Low\", \"High\"])\n",
    "plt.savefig(\"figures/viridis_colorbar.png\", dpi=450, bbox_inches='tight')"
   ]
  },
  {
   "cell_type": "code",
   "execution_count": null,
   "metadata": {},
   "outputs": [],
   "source": [
    "# Store scanvi integrated  data where draw-graph is computed\n",
    "adata.write(\"Data/adata_draw_graph.h5ad\")"
   ]
  }
 ],
 "metadata": {
  "kernelspec": {
   "display_name": "Python [conda env:.conda-scvi_env]",
   "language": "python",
   "name": "conda-env-.conda-scvi_env-py"
  },
  "language_info": {
   "codemirror_mode": {
    "name": "ipython",
    "version": 3
   },
   "file_extension": ".py",
   "mimetype": "text/x-python",
   "name": "python",
   "nbconvert_exporter": "python",
   "pygments_lexer": "ipython3",
   "version": "3.10.10"
  }
 },
 "nbformat": 4,
 "nbformat_minor": 5
}
