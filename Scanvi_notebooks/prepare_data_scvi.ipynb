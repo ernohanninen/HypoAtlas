{
 "cells": [
  {
   "attachments": {},
   "cell_type": "markdown",
   "metadata": {},
   "source": [
    "Author: Erno Hänninen\n",
    "\n",
    "Created: 11.02.2023\n",
    "\n",
    "Title: prepare_data_scvi.ipynb\n",
    "\n",
    "Description:\n",
    "\n",
    "- The benchmarking study revealed inconsistent clustering of some cell types, here the data is prepared to the best-performing integration method\n",
    "- Additionally the scripts makes adjustments to the cell type names to ensure the naming pattern is consistent among the datasets\n",
    "- Add the hypothalamic nuclei to the dataset (available only for Herb dataset, later these are annotated from Zhou as well)\n",
    "\n",
    "Procedure:\n",
    "- Read unintegrated data\n",
    "- Harmonize cell type naming between the two publication\n",
    "- Remove the cell types which caused inconsistent clustering (NE, Blood, Dividing, Fibroblasts)\n",
    "- The hypothalamic nuclei are available for Herb dataset, therefore add those to the unintegrated dataset\n",
    "- Save resulting adata object for further use\n",
    "\n",
    "List of non-standard modules:\n",
    "- scanpy, matplotlib, pandas, seaborn\n",
    "\n",
    "Conda environment used:\n",
    "- PYenv\n",
    "\n",
    "Usage:\n",
    "- The script was executed using Jupyter Notebook web interface. All the dependencies required by Jupyter are installed to PYenv Conda environment. See README file for further details"
   ]
  },
  {
   "cell_type": "code",
   "execution_count": 1,
   "metadata": {},
   "outputs": [],
   "source": [
    "import scanpy as sc\n",
    "import matplotlib.pyplot as plt\n",
    "import pandas as pd\n",
    "import seaborn as sns"
   ]
  },
  {
   "cell_type": "code",
   "execution_count": null,
   "metadata": {},
   "outputs": [],
   "source": [
    "# Read unintegrated data and hypohtalamic nuclei which are available for herb dataset\n",
    "adata = sc.read(\"../DataProcessing_pipeline/Data/Processed/merged_zhou_herb.h5ad\")\n",
    "EmbryoAdultNuclei = sc.read(\"Data/EmbryoAdultNuclei.h5ad\")\n",
    "EmbryoAdultNuclei.obs.head(5)"
   ]
  },
  {
   "cell_type": "code",
   "execution_count": null,
   "metadata": {},
   "outputs": [],
   "source": [
    "# adata.X contains log-normalized data and adata.layers[\"counts\"] contains raw counts\n",
    "adata"
   ]
  },
  {
   "cell_type": "code",
   "execution_count": 6,
   "metadata": {},
   "outputs": [],
   "source": [
    "# After our data integration benchmarking we noted that some cell names among publications didn't make sense -> harmonize the names again\n",
    "# Create new cell type column\n",
    "adata.obs['Cell_types_3'] = (\n",
    "    adata.obs[\"Cell_types\"]\n",
    "    .map(lambda x: {\"Oligodendrocyte Progenitors_1\": \"OPC\", \"Oligodendrocyte Progenitors_2\": \"OPC\",\"Oligodendrocytes [Immature]\": \"OPC\", \"Oligodendrocytes [Dividing]\":\"OPC\", \"Oligodendrocytes [Maturing]\":\"Oligo\", \"Oligodendrocytes [Mature]\":\"Oligo\",\"OL\": \"Oligo\", \"vSMC\":\"Mural\", \"Ependymal\":\"Ependy\",\n",
    "                    \"Neural Progenitors_1\":\"NP\", \"Neural Progenitors_2\":\"NP\", \"Neurons\":\"Neuron\", \"Dividing\":\"Dividing\", \"Astrocyte Progenitors\":\"Astrocyte\", \"Astrocytes\":\"Astrocyte\", \"Endothelial [Venous]\":\"Endoth\", \"Endothelial [Arterial_2]\": \"Endoth\", \"Endothelial [Arterial_1]\":\"Endoth\", \"Pericytes_1\":\"VLMC\", \"Pericytes_2\":\"Mural\"}.get(x, x))\n",
    "    .astype(\"category\")\n",
    ")"
   ]
  },
  {
   "cell_type": "code",
   "execution_count": 7,
   "metadata": {},
   "outputs": [],
   "source": [
    "# Add source column to data, from batch name we can see where it originates\n",
    "source = {'CS13': 'Herb','CS14': 'Herb','CS15': 'Herb','CS22_2_hypo': 'Herb','CS22_hypo': \"Herb\",'GW16_hypo': 'Herb','GW18_hypo': 'Herb','GW19_hypo': 'Herb','GW20_34_hypo': 'Herb','GW22T_hypo1': 'Herb','GW25_3V_hypo': 'Herb',\n",
    "     'GW7-lane1': 'Zhou','GW7-lane2': 'Zhou','GW8-1': 'Zhou','GW8-2': 'Zhou','GW10': \"Zhou\",'GW12_01': 'Zhou','GW12_02': 'Zhou','GW15-A': 'Zhou','GW15-M': 'Zhou','GW15-P': 'Zhou','GW18-01-A': 'Zhou','GW18-01-M': \"Zhou\",\n",
    "     'GW18-01-P': 'Zhou','GW18-02-lane1': 'Zhou','GW18-02-lane2': 'Zhou','GW18-02-lane3': 'Zhou','GW20-A': 'Zhou','GW20-M': 'Zhou','GW20-P': 'Zhou'}\n",
    "\n",
    "adata.obs['source'] = adata.obs['sample'].map(source).astype('category')"
   ]
  },
  {
   "cell_type": "code",
   "execution_count": 8,
   "metadata": {},
   "outputs": [],
   "source": [
    "# Filtering Fibroblast and NE cells away\n",
    "adata = adata[(adata.obs[\"Cell_types_3\"] != \"Fibroblasts\") & (adata.obs[\"Cell_types_3\"] != \"NE\") & (adata.obs[\"Cell_types_3\"] != \"Blood\") & (adata.obs[\"Cell_types_3\"] != \"Dividing\"), :]"
   ]
  },
  {
   "cell_type": "code",
   "execution_count": 10,
   "metadata": {},
   "outputs": [],
   "source": [
    "# add the hypothalamic nuclei to the data, these are available only for Herb dataset\n",
    "\n",
    "# Subset the samples from EmbryoAdultNuclei that we have in our reference dataset (we have only embryo samples)\n",
    "EmbryoAdultNuclei_subset = EmbryoAdultNuclei[EmbryoAdultNuclei.obs[\"sample\"].isin([\"GW16_hypo\", \"GW18_hypo\", \"CS22_hypo\", \"GW25_3V_hypo\",\"GW19_hypo\",\"GW20_34_hypo\",  \"CS22_2_hypo\" , \"GW22T_hypo1\"])].copy()\n",
    "# Use same cell name pattering in EmbryoAdultNuclei_subset than we have in our reference andata\n",
    "new_cell_names = [id + \"-1\" if id !='' else id for id in EmbryoAdultNuclei_subset.obs_names]\n",
    "EmbryoAdultNuclei_subset.obs_names = new_cell_names\n",
    "\n",
    "# Join the column from EmbryoAdultNuclei_subset that contains the neuronal subtypes with our reference data\n",
    "adata.obs = adata.obs.join(EmbryoAdultNuclei_subset.obs[[\"EmbryoAdultNuclei\"]])\n",
    "\n",
    "# Rename the EmbryoAdultNuclei column\n",
    "adata.obs[\"Cell_subpopulations\"] = adata.obs[\"EmbryoAdultNuclei\"]\n",
    "del adata.obs[\"EmbryoAdultNuclei\"]\n",
    "\n",
    "# Use the values from Cell_types_3 to replace NA values\n",
    "adata.obs['Cell_subpopulations'] = adata.obs['Cell_subpopulations'].fillna(adata.obs['Cell_types_3'])\n"
   ]
  },
  {
   "cell_type": "code",
   "execution_count": null,
   "metadata": {},
   "outputs": [],
   "source": [
    "# Ensure we have the nuclei in data\n",
    "adata.obs['Cell_subpopulations'].value_counts()"
   ]
  },
  {
   "cell_type": "code",
   "execution_count": 12,
   "metadata": {},
   "outputs": [],
   "source": [
    "# Prepare data for scvi by running hvg selection and save the result to file\n",
    "\n",
    "adata.uns['log1p'][\"base\"] = None\n",
    "adata.raw = adata  # keep full dimension safe\n",
    "\n",
    "# Computing highly variable genes using batch aware function\n",
    "sc.pp.highly_variable_genes(adata,flavor=\"seurat_v3\",n_top_genes=2000,\n",
    "    layer=\"counts\",batch_key=\"sample\",subset=True)\n",
    "\n",
    "adata.write(\"Data/adata_ready_for_scvi.h5ad\")"
   ]
  }
 ],
 "metadata": {
  "kernelspec": {
   "display_name": "Python 3",
   "language": "python",
   "name": "python3"
  },
  "language_info": {
   "codemirror_mode": {
    "name": "ipython",
    "version": 3
   },
   "file_extension": ".py",
   "mimetype": "text/x-python",
   "name": "python",
   "nbconvert_exporter": "python",
   "pygments_lexer": "ipython3",
   "version": "3.7.11"
  }
 },
 "nbformat": 4,
 "nbformat_minor": 5
}
