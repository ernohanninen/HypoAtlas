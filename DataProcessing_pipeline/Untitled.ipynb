{
 "cells": [
  {
   "cell_type": "code",
   "execution_count": 83,
   "metadata": {},
   "outputs": [],
   "source": [
    "import scanpy as sc"
   ]
  },
  {
   "cell_type": "code",
   "execution_count": 25,
   "metadata": {},
   "outputs": [],
   "source": [
    "adata = sc.read(\"Data/Processed/Processed_herb_adata.h5ad\")"
   ]
  },
  {
   "cell_type": "code",
   "execution_count": 42,
   "metadata": {},
   "outputs": [
    {
     "data": {
      "text/plain": [
       "['CS13', 'CS14', 'CS15', 'CS22_hypo', 'CS22_2_hypo', ..., 'GW18_hypo', 'GW19_hypo', 'GW20_34_hypo', 'GW22T_hypo1', 'GW25_3V_hypo']\n",
       "Length: 11\n",
       "Categories (11, object): ['CS13', 'CS14', 'CS15', 'CS22_2_hypo', ..., 'GW19_hypo', 'GW20_34_hypo', 'GW22T_hypo1', 'GW25_3V_hypo']"
      ]
     },
     "execution_count": 42,
     "metadata": {},
     "output_type": "execute_result"
    }
   ],
   "source": [
    "adata.obs[\"sample\"].unique()"
   ]
  },
  {
   "cell_type": "code",
   "execution_count": 77,
   "metadata": {},
   "outputs": [],
   "source": [
    "adata_subset = adata[adata.obs[\"sample\"].isin([\"CS14\", \"CS22_2_hypo\", \"GW20_34_hypo\"])]"
   ]
  },
  {
   "cell_type": "code",
   "execution_count": 78,
   "metadata": {},
   "outputs": [
    {
     "data": {
      "text/plain": [
       "CS14_AACGTTGGTACGAAAT                      CS14\n",
       "CS14_AACGTTGTCTAACTCT                      CS14\n",
       "CS14_AACTCAGAGTAGATGT                      CS14\n",
       "CS14_AACTCAGCAAGCCGCT                      CS14\n",
       "CS14_AACTCAGCACAAGCCC                      CS14\n",
       "                                       ...     \n",
       "GW20_34_hypo_TTTGCGCTCCTTTACA-1    GW20_34_hypo\n",
       "GW20_34_hypo_TTTGGTTGTACATCCA-1    GW20_34_hypo\n",
       "GW20_34_hypo_TTTGTCAAGTCTCCTC-1    GW20_34_hypo\n",
       "GW20_34_hypo_TTTGTCACACAACGTT-1    GW20_34_hypo\n",
       "GW20_34_hypo_TTTGTCACAGACGCTC-1    GW20_34_hypo\n",
       "Name: sample, Length: 4631, dtype: category\n",
       "Categories (3, object): ['CS14', 'CS22_2_hypo', 'GW20_34_hypo']"
      ]
     },
     "execution_count": 78,
     "metadata": {},
     "output_type": "execute_result"
    }
   ],
   "source": [
    "adata_subset.obs[\"sample\"]"
   ]
  },
  {
   "cell_type": "code",
   "execution_count": 79,
   "metadata": {},
   "outputs": [
    {
     "data": {
      "text/plain": [
       "View of AnnData object with n_obs × n_vars = 4631 × 33694\n",
       "    obs: 'orig.ident', 'nCount_RNA', 'nFeature_RNA', 'sample', 'percent.mt', 'Cell_types'\n",
       "    var: 'features'\n",
       "    uns: 'log1p'\n",
       "    layers: 'counts'"
      ]
     },
     "execution_count": 79,
     "metadata": {},
     "output_type": "execute_result"
    }
   ],
   "source": [
    "adata_subset"
   ]
  },
  {
   "cell_type": "code",
   "execution_count": 82,
   "metadata": {},
   "outputs": [
    {
     "data": {
      "text/html": [
       "<div>\n",
       "<style scoped>\n",
       "    .dataframe tbody tr th:only-of-type {\n",
       "        vertical-align: middle;\n",
       "    }\n",
       "\n",
       "    .dataframe tbody tr th {\n",
       "        vertical-align: top;\n",
       "    }\n",
       "\n",
       "    .dataframe thead th {\n",
       "        text-align: right;\n",
       "    }\n",
       "</style>\n",
       "<table border=\"1\" class=\"dataframe\">\n",
       "  <thead>\n",
       "    <tr style=\"text-align: right;\">\n",
       "      <th></th>\n",
       "      <th>orig.ident</th>\n",
       "      <th>nCount_RNA</th>\n",
       "      <th>nFeature_RNA</th>\n",
       "      <th>sample</th>\n",
       "      <th>percent.mt</th>\n",
       "      <th>Cell_types</th>\n",
       "    </tr>\n",
       "  </thead>\n",
       "  <tbody>\n",
       "    <tr>\n",
       "      <th>CS14_AACGTTGGTACGAAAT</th>\n",
       "      <td>SeuratProject</td>\n",
       "      <td>8848.0</td>\n",
       "      <td>2487</td>\n",
       "      <td>CS14</td>\n",
       "      <td>0.090416</td>\n",
       "      <td>Neural Progenitors_1</td>\n",
       "    </tr>\n",
       "    <tr>\n",
       "      <th>CS14_AACGTTGTCTAACTCT</th>\n",
       "      <td>SeuratProject</td>\n",
       "      <td>7644.0</td>\n",
       "      <td>2331</td>\n",
       "      <td>CS14</td>\n",
       "      <td>0.575615</td>\n",
       "      <td>Neural Progenitors_1</td>\n",
       "    </tr>\n",
       "    <tr>\n",
       "      <th>CS14_AACTCAGAGTAGATGT</th>\n",
       "      <td>SeuratProject</td>\n",
       "      <td>8191.0</td>\n",
       "      <td>2769</td>\n",
       "      <td>CS14</td>\n",
       "      <td>0.830179</td>\n",
       "      <td>Oligodendrocyte Progenitors_2</td>\n",
       "    </tr>\n",
       "    <tr>\n",
       "      <th>CS14_AACTCAGCAAGCCGCT</th>\n",
       "      <td>SeuratProject</td>\n",
       "      <td>10081.0</td>\n",
       "      <td>2874</td>\n",
       "      <td>CS14</td>\n",
       "      <td>2.033528</td>\n",
       "      <td>Fibroblasts</td>\n",
       "    </tr>\n",
       "    <tr>\n",
       "      <th>CS14_AACTCAGCACAAGCCC</th>\n",
       "      <td>SeuratProject</td>\n",
       "      <td>13614.0</td>\n",
       "      <td>3517</td>\n",
       "      <td>CS14</td>\n",
       "      <td>2.446011</td>\n",
       "      <td>Dividing</td>\n",
       "    </tr>\n",
       "    <tr>\n",
       "      <th>...</th>\n",
       "      <td>...</td>\n",
       "      <td>...</td>\n",
       "      <td>...</td>\n",
       "      <td>...</td>\n",
       "      <td>...</td>\n",
       "      <td>...</td>\n",
       "    </tr>\n",
       "    <tr>\n",
       "      <th>GW20_34_hypo_TTTGCGCTCCTTTACA-1</th>\n",
       "      <td>SeuratProject</td>\n",
       "      <td>3066.0</td>\n",
       "      <td>1789</td>\n",
       "      <td>GW20_34_hypo</td>\n",
       "      <td>2.217873</td>\n",
       "      <td>Neurons</td>\n",
       "    </tr>\n",
       "    <tr>\n",
       "      <th>GW20_34_hypo_TTTGGTTGTACATCCA-1</th>\n",
       "      <td>SeuratProject</td>\n",
       "      <td>3727.0</td>\n",
       "      <td>1960</td>\n",
       "      <td>GW20_34_hypo</td>\n",
       "      <td>1.770861</td>\n",
       "      <td>Neurons</td>\n",
       "    </tr>\n",
       "    <tr>\n",
       "      <th>GW20_34_hypo_TTTGTCAAGTCTCCTC-1</th>\n",
       "      <td>SeuratProject</td>\n",
       "      <td>3725.0</td>\n",
       "      <td>1951</td>\n",
       "      <td>GW20_34_hypo</td>\n",
       "      <td>1.959732</td>\n",
       "      <td>Neurons</td>\n",
       "    </tr>\n",
       "    <tr>\n",
       "      <th>GW20_34_hypo_TTTGTCACACAACGTT-1</th>\n",
       "      <td>SeuratProject</td>\n",
       "      <td>3064.0</td>\n",
       "      <td>1781</td>\n",
       "      <td>GW20_34_hypo</td>\n",
       "      <td>2.904700</td>\n",
       "      <td>Neurons</td>\n",
       "    </tr>\n",
       "    <tr>\n",
       "      <th>GW20_34_hypo_TTTGTCACAGACGCTC-1</th>\n",
       "      <td>SeuratProject</td>\n",
       "      <td>4962.0</td>\n",
       "      <td>2160</td>\n",
       "      <td>GW20_34_hypo</td>\n",
       "      <td>2.277308</td>\n",
       "      <td>vSMC</td>\n",
       "    </tr>\n",
       "  </tbody>\n",
       "</table>\n",
       "<p>4631 rows × 6 columns</p>\n",
       "</div>"
      ],
      "text/plain": [
       "                                    orig.ident  nCount_RNA  nFeature_RNA  \\\n",
       "CS14_AACGTTGGTACGAAAT            SeuratProject      8848.0          2487   \n",
       "CS14_AACGTTGTCTAACTCT            SeuratProject      7644.0          2331   \n",
       "CS14_AACTCAGAGTAGATGT            SeuratProject      8191.0          2769   \n",
       "CS14_AACTCAGCAAGCCGCT            SeuratProject     10081.0          2874   \n",
       "CS14_AACTCAGCACAAGCCC            SeuratProject     13614.0          3517   \n",
       "...                                        ...         ...           ...   \n",
       "GW20_34_hypo_TTTGCGCTCCTTTACA-1  SeuratProject      3066.0          1789   \n",
       "GW20_34_hypo_TTTGGTTGTACATCCA-1  SeuratProject      3727.0          1960   \n",
       "GW20_34_hypo_TTTGTCAAGTCTCCTC-1  SeuratProject      3725.0          1951   \n",
       "GW20_34_hypo_TTTGTCACACAACGTT-1  SeuratProject      3064.0          1781   \n",
       "GW20_34_hypo_TTTGTCACAGACGCTC-1  SeuratProject      4962.0          2160   \n",
       "\n",
       "                                       sample  percent.mt  \\\n",
       "CS14_AACGTTGGTACGAAAT                    CS14    0.090416   \n",
       "CS14_AACGTTGTCTAACTCT                    CS14    0.575615   \n",
       "CS14_AACTCAGAGTAGATGT                    CS14    0.830179   \n",
       "CS14_AACTCAGCAAGCCGCT                    CS14    2.033528   \n",
       "CS14_AACTCAGCACAAGCCC                    CS14    2.446011   \n",
       "...                                       ...         ...   \n",
       "GW20_34_hypo_TTTGCGCTCCTTTACA-1  GW20_34_hypo    2.217873   \n",
       "GW20_34_hypo_TTTGGTTGTACATCCA-1  GW20_34_hypo    1.770861   \n",
       "GW20_34_hypo_TTTGTCAAGTCTCCTC-1  GW20_34_hypo    1.959732   \n",
       "GW20_34_hypo_TTTGTCACACAACGTT-1  GW20_34_hypo    2.904700   \n",
       "GW20_34_hypo_TTTGTCACAGACGCTC-1  GW20_34_hypo    2.277308   \n",
       "\n",
       "                                                    Cell_types  \n",
       "CS14_AACGTTGGTACGAAAT                     Neural Progenitors_1  \n",
       "CS14_AACGTTGTCTAACTCT                     Neural Progenitors_1  \n",
       "CS14_AACTCAGAGTAGATGT            Oligodendrocyte Progenitors_2  \n",
       "CS14_AACTCAGCAAGCCGCT                              Fibroblasts  \n",
       "CS14_AACTCAGCACAAGCCC                                 Dividing  \n",
       "...                                                        ...  \n",
       "GW20_34_hypo_TTTGCGCTCCTTTACA-1                        Neurons  \n",
       "GW20_34_hypo_TTTGGTTGTACATCCA-1                        Neurons  \n",
       "GW20_34_hypo_TTTGTCAAGTCTCCTC-1                        Neurons  \n",
       "GW20_34_hypo_TTTGTCACACAACGTT-1                        Neurons  \n",
       "GW20_34_hypo_TTTGTCACAGACGCTC-1                           vSMC  \n",
       "\n",
       "[4631 rows x 6 columns]"
      ]
     },
     "execution_count": 82,
     "metadata": {},
     "output_type": "execute_result"
    }
   ],
   "source": [
    "adata_subset.obs"
   ]
  },
  {
   "cell_type": "code",
   "execution_count": 80,
   "metadata": {},
   "outputs": [],
   "source": [
    "adata_subset.write(\"Data/Processed/subseted_herb_adata.h5ad\")"
   ]
  }
 ],
 "metadata": {
  "kernelspec": {
   "display_name": "Python [conda env:.conda-PYenv]",
   "language": "python",
   "name": "conda-env-.conda-PYenv-py"
  },
  "language_info": {
   "codemirror_mode": {
    "name": "ipython",
    "version": 3
   },
   "file_extension": ".py",
   "mimetype": "text/x-python",
   "name": "python",
   "nbconvert_exporter": "python",
   "pygments_lexer": "ipython3",
   "version": "3.10.8"
  }
 },
 "nbformat": 4,
 "nbformat_minor": 4
}
