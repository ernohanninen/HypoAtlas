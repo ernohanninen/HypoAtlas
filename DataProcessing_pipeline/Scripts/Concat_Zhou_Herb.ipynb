{
 "cells": [
  {
   "attachments": {},
   "cell_type": "markdown",
   "id": "3dcdcd79",
   "metadata": {},
   "source": [
    "\n",
    "Author: Erno Hänninen\n",
    "\n",
    "Created: 12.12.2022\n",
    "\n",
    "Title: Concat_Zhou_Herb.ipynb\n",
    "\n",
    "Description:\n",
    "- Notebook that merges the output of AnnotateHerbData.ipynb and AnnotateZhouData.ipynb scripts\n",
    "- Additional procesing is done where remaining low-quality cells and cell doublets are removed\n",
    "\n",
    "Procedure\n",
    "- Read the files to be merged (output from AnnotateHerbData.ipynb and AnnotateZhouData.ipynb scripts)\n",
    "- Harmonize cell type names to be consistent between the two datasets\n",
    "- Merge herb and zhou dataset\n",
    "- PErform additional data filttering\n",
    "    - Remove mito and ribo genes\n",
    "    - Remove remaining low quality cells and cell doublets\n",
    "- Save output\n",
    "\n",
    "Python packages:\n",
    "- scanpy, matplotlib, pandas\n",
    "    \n",
    "Usage:\n",
    "- This script is launched and parameterized from the pipeline (data_processing_wf.nf)\n"
   ]
  },
  {
   "attachments": {},
   "cell_type": "markdown",
   "id": "afe91441",
   "metadata": {},
   "source": [
    "### Read data and delete unnecessary columns"
   ]
  },
  {
   "cell_type": "code",
   "execution_count": null,
   "id": "9209e9e4",
   "metadata": {},
   "outputs": [],
   "source": [
    "import scanpy as sc\n",
    "import matplotlib.pyplot as plt\n",
    "import pandas as pd"
   ]
  },
  {
   "cell_type": "code",
   "execution_count": 183,
   "id": "8ef64682",
   "metadata": {},
   "outputs": [],
   "source": [
    "# Read data\n",
    "herb_adata = sc.read(herb_path)\n",
    "zhou_adata = sc.read(zhou_path)"
   ]
  },
  {
   "cell_type": "code",
   "execution_count": null,
   "id": "609c256e",
   "metadata": {},
   "outputs": [],
   "source": [
    "# Slight changes are required to the data objects to avoid errors in scanpy functions\n",
    "zhou_adata.uns[\"log1p\"] = {\"base\":None}\n",
    "del(herb_adata.obs[\"orig.ident\"], herb_adata.obs[\"nCount_RNA\"], herb_adata.obs[\"nFeature_RNA\"], herb_adata.obs[\"percent.mt\"])\n",
    "herb_adata.var=herb_adata.var.set_index(\"features\")\n",
    "herb_adata.uns[\"log1p\"] = {\"base\":None}"
   ]
  },
  {
   "attachments": {},
   "cell_type": "markdown",
   "id": "98dd303f",
   "metadata": {},
   "source": [
    "### Harmonize the cell names"
   ]
  },
  {
   "cell_type": "code",
   "execution_count": null,
   "id": "1eeec318",
   "metadata": {},
   "outputs": [],
   "source": [
    "zhou_adata.obs['Cell_types_2'] = (\n",
    "    zhou_adata.obs[\"Cell_types\"]\n",
    "    .map(lambda x: {\"OL\": \"Oligo\"}.get(x, x))\n",
    "    .astype(\"category\")\n",
    ")"
   ]
  },
  {
   "cell_type": "code",
   "execution_count": null,
   "id": "c3cc1b63",
   "metadata": {},
   "outputs": [],
   "source": [
    "herb_adata.obs['Cell_types_2'] = (\n",
    "    herb_adata.obs[\"Cell_types\"]\n",
    "    .map(lambda x: {\"Oligodendrocyte Progenitors_1\": \"OPC\", \"Oligodendrocyte Progenitors_2\": \"OPC\",\"Oligodendrocytes [Immature]\": \"Oligo\", \"Oligodendrocytes [Maturing]\":\"Oligo\", \"Oligodendrocytes [Dividing]\":\"Oligo\", \"Oligodendrocytes [Mature]\":\"Oligo\", \"vSMC\":\"Mural\", \"Ependymal\":\"Ependy\",\n",
    "                    \"Neural Progenitors_1\":\"NP\", \"Neural Progenitors_2\":\"NP\", \"Neurons\":\"Neuron\", \"Astrocyte Progenitors\":\"Astrocyte\", \"Astrocytes\":\"Astrocyte\", \"Endothelial [Venous]\":\"Endoth\", \"Endothelial [Arterial_2]\": \"Endoth\", \"Endothelial [Arterial_1]\":\"Endoth\", \"Pericytes_1\":\"VLMC\", \"Pericytes_2\":\"Pericyte\"}.get(x, x))\n",
    "    .astype(\"category\")\n",
    ")"
   ]
  },
  {
   "attachments": {},
   "cell_type": "markdown",
   "id": "fe07c0aa",
   "metadata": {},
   "source": [
    "### Merge zhou and herb"
   ]
  },
  {
   "cell_type": "code",
   "execution_count": null,
   "id": "5e78382f",
   "metadata": {},
   "outputs": [],
   "source": [
    "merged_adata = zhou_adata.concatenate(herb_adata, batch_key=None, join=\"outer\")\n",
    "merged_adata.var_names_make_unique()\n",
    "merged_adata.layers[\"counts\"] = merged_adata.X.copy()\n",
    "merged_adata"
   ]
  },
  {
   "attachments": {},
   "cell_type": "markdown",
   "id": "151b45f6",
   "metadata": {},
   "source": [
    "### Process the data"
   ]
  },
  {
   "cell_type": "code",
   "execution_count": null,
   "id": "14a04306",
   "metadata": {},
   "outputs": [],
   "source": [
    "# Compute qc metrix\n",
    "merged_adata.var['mt'] = merged_adata.var_names.str.startswith('MT-')  # annotate the group of mitochondrial genes as 'mt'\n",
    "sc.pp.calculate_qc_metrics(merged_adata, qc_vars=['mt'], percent_top=None, log1p=False, inplace=True)"
   ]
  },
  {
   "cell_type": "code",
   "execution_count": null,
   "id": "d5fe73df",
   "metadata": {},
   "outputs": [],
   "source": [
    "# Plot qc plots\n",
    "ig, (ax1, ax2, ax3, ax4, ax5) = plt.subplots(1, 5,  figsize=(20,4), gridspec_kw={'wspace':0.9})\n",
    "ax1_dict = sc.pl.violin(merged_adata, ['n_genes_by_counts'], jitter=0.4, show=False, ax = ax1) \n",
    "ax2_dict = sc.pl.violin(merged_adata, ['total_counts'], jitter=0.4, show=False, ax = ax2)\n",
    "ax3_dict = sc.pl.violin(merged_adata, ['pct_counts_mt'], jitter=0.4, show=False, ax = ax3)    \n",
    "ax4_dict = sc.pl.scatter(merged_adata, x='total_counts', y='pct_counts_mt', show=False, ax=ax4)\n",
    "ax5_dict = sc.pl.scatter(merged_adata, x='total_counts', y='n_genes_by_counts', show=False, ax=ax5)"
   ]
  },
  {
   "cell_type": "code",
   "execution_count": null,
   "id": "7a0e27b5",
   "metadata": {},
   "outputs": [],
   "source": [
    "# Filter the outliers away\n",
    "sc.pp.filter_cells(merged_adata, min_genes=500)\n",
    "sc.pp.filter_cells(adata, min_counts=1100)"
   ]
  },
  {
   "cell_type": "code",
   "execution_count": null,
   "id": "7bc33ded",
   "metadata": {},
   "outputs": [],
   "source": [
    "# Check whether mito / ribo genes are highly expressed\n",
    "sc.pl.highest_expr_genes(merged_adata, n_top=20)"
   ]
  },
  {
   "cell_type": "code",
   "execution_count": null,
   "id": "8014e151",
   "metadata": {},
   "outputs": [],
   "source": [
    "# Since mito / ribo genes are removed from the Zhou data its good to remove them from herb as well\n",
    "import numpy as np\n",
    "# Removing mito / ribo genes\n",
    "ribo = merged_adata.var_names.str.startswith(('RPL', \"RPS\"))\n",
    "mito = merged_adata.var_names.str.startswith('MT-')\n",
    "remove = np.add(mito, ribo)\n",
    "keep = np.invert(remove)\n",
    "\n",
    "merged_adata = merged_adata[:,keep]"
   ]
  },
  {
   "cell_type": "code",
   "execution_count": null,
   "id": "4e8b0ea0",
   "metadata": {},
   "outputs": [],
   "source": [
    "# Recompute qc metrics\n",
    "sc.pp.calculate_qc_metrics(merged_adata, qc_vars=['mt'], percent_top=None, log1p=False, inplace=True)\n",
    "fig, (ax1, ax2, ax3, ax4, ax5) = plt.subplots(1, 5,  figsize=(20,4), gridspec_kw={'wspace':0.9})\n",
    "ax1_dict = sc.pl.violin(merged_adata, ['n_genes_by_counts'], jitter=0.4, show=False, ax = ax1) \n",
    "ax2_dict = sc.pl.violin(merged_adata, ['total_counts'], jitter=0.4, show=False, ax = ax2)\n",
    "ax3_dict = sc.pl.violin(merged_adata, ['pct_counts_mt'], jitter=0.4, show=False, ax = ax3)    \n",
    "ax4_dict = sc.pl.scatter(merged_adata, x='total_counts', y='pct_counts_mt', show=False, ax=ax4)\n",
    "ax5_dict = sc.pl.scatter(merged_adata, x='total_counts', y='n_genes_by_counts', show=False, ax=ax5)"
   ]
  },
  {
   "cell_type": "code",
   "execution_count": null,
   "id": "5b14b0ab",
   "metadata": {},
   "outputs": [],
   "source": [
    "# Normalaize data, raw counts are stored in adata.layers[\"counts\"]\n",
    "sc.pp.normalize_total(merged_adata, target_sum=1e4)\n",
    "sc.pp.log1p(merged_adata)"
   ]
  },
  {
   "cell_type": "code",
   "execution_count": null,
   "id": "c1243ebf",
   "metadata": {},
   "outputs": [],
   "source": [
    "# Find and remove cell doublets\n",
    "\n",
    "doublet_adata = merged_adata.copy()\n",
    "doublet_adata.X = doublet_adata.layers[\"counts\"].copy()\n",
    "\n",
    "import scrublet as scr\n",
    "\n",
    "# split per batch into new objects.\n",
    "batches = doublet_adata.obs['sample'].cat.categories.tolist()\n",
    "alldata = {}\n",
    "for batch in batches:\n",
    "    tmp = doublet_adata[doublet_adata.obs['sample'] == batch,]\n",
    "    print(batch, \":\", tmp.shape[0], \" cells\")\n",
    "    scrub = scr.Scrublet(tmp.X)\n",
    "    out = scrub.scrub_doublets(verbose=False, n_prin_comps = 20)\n",
    "    alldata[batch] = pd.DataFrame({'doublet_score':out[0],'predicted_doublets':out[1]},index = tmp.obs.index)\n",
    "    print(alldata[batch].predicted_doublets.sum(), \" predicted_doublets\")\n",
    "\n",
    "# add predictions to the merged_adata object.\n",
    "scrub_pred = pd.concat(alldata.values())\n",
    "merged_adata.obs['doublet_scores'] = scrub_pred['doublet_score'] \n",
    "merged_adata.obs['predicted_doublets'] = scrub_pred['predicted_doublets'] \n",
    "merged_adata.obs[\"predicted_doublets\"].value_counts()\n",
    "\n",
    "# Remove doublets\n",
    "merged_adata = merged_adata[merged_adata.obs['predicted_doublets'] != True,:]\n",
    "del merged_adata.obs[\"predicted_doublets\"] \n",
    "print(merged_adata.shape)"
   ]
  },
  {
   "cell_type": "code",
   "execution_count": null,
   "id": "383b2e28",
   "metadata": {},
   "outputs": [],
   "source": [
    "merged_adata.raw = merged_adata.copy()\n",
    "merged_adata.write(\"merged_zhou_herb.h5ad\") #Write the data to file"
   ]
  }
 ],
 "metadata": {
  "kernelspec": {
   "display_name": "Python 3 (ipykernel)",
   "language": "python",
   "name": "python3"
  },
  "language_info": {
   "codemirror_mode": {
    "name": "ipython",
    "version": 3
   },
   "file_extension": ".py",
   "mimetype": "text/x-python",
   "name": "python",
   "nbconvert_exporter": "python",
   "pygments_lexer": "ipython3",
   "version": "3.10.8"
  }
 },
 "nbformat": 4,
 "nbformat_minor": 5
}
