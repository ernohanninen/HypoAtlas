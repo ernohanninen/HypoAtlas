{
 "cells": [
  {
   "cell_type": "markdown",
   "metadata": {},
   "source": [
    "\n",
    "Author: Erno Hänninen\n",
    "\n",
    "Created: 2023-22-01\n",
    "\n",
    "Title: AnnotateHerbData.ipynb\n",
    "\n",
    "Description:\n",
    " - Filters and annotates cell types to the raw timepoint data from Herb paper\n",
    " \n",
    "Procedure:\n",
    " - ...\n",
    "\n",
    "List of non-standard modules:\n",
    " - scanpy\n"
   ]
  },
  {
   "cell_type": "code",
   "execution_count": null,
   "metadata": {},
   "outputs": [],
   "source": [
    "import scanpy as sc"
   ]
  },
  {
   "cell_type": "markdown",
   "metadata": {},
   "source": [
    "## Load and explore the integrated Herb data\n",
    "\n",
    "The integrated Herb data is produced in this script: https://github.com/brianherb/HumanHypothalamusDev/blob/f87a2788cef62b55f6c66ba343634673ba30042a/Fig1_HumanEmbryonic.R "
   ]
  },
  {
   "cell_type": "code",
   "execution_count": 183,
   "metadata": {},
   "outputs": [],
   "source": [
    "#Read the integrated reference data (Fig1 from the paper)\n",
    "adata_ref = sc.read_h5ad(integrated_data)"
   ]
  },
  {
   "cell_type": "code",
   "execution_count": null,
   "metadata": {},
   "outputs": [],
   "source": [
    "adata_ref"
   ]
  },
  {
   "cell_type": "code",
   "execution_count": null,
   "metadata": {},
   "outputs": [],
   "source": [
    "# Plot the celltypes and timpoint\n",
    "sc.pl.umap(adata_ref, color=\"CurrentMeta\")\n",
    "sc.pl.umap(adata_ref, color=\"Timepoint\" )"
   ]
  },
  {
   "cell_type": "code",
   "execution_count": null,
   "metadata": {},
   "outputs": [],
   "source": [
    "#Change to raw counts\n",
    "adata_ref_raw = adata_ref.raw.to_adata()\n",
    "#Copy the var names to the adata_ref_raw\n",
    "adata_ref_raw.var_names = adata_ref.var_names"
   ]
  },
  {
   "cell_type": "markdown",
   "metadata": {},
   "source": [
    "## Filter, annotate and process the merged raw timepoint data"
   ]
  },
  {
   "cell_type": "code",
   "execution_count": 189,
   "metadata": {},
   "outputs": [],
   "source": [
    "#Read the merged raw data to adata object\n",
    "adata_batches = sc.read_h5ad(merged_raw_data)"
   ]
  },
  {
   "cell_type": "code",
   "execution_count": null,
   "id": "3063b929",
   "metadata": {},
   "outputs": [],
   "source": [
    "# Reformat the object to aviod errors when writing the annotated data to file\n",
    "del(adata_batches.var['_index'])\n",
    "adata_batches.__dict__['_raw'].__dict__['_var'] = adata_batches.__dict__['_raw'].__dict__['_var'].rename(columns={'_index': 'features'})"
   ]
  },
  {
   "cell_type": "code",
   "execution_count": null,
   "metadata": {
    "scrolled": true
   },
   "outputs": [],
   "source": [
    "#Print the number of the cells in the raw and integrated datasets\n",
    "print(len(adata_batches.obs_names))\n",
    "print(len(adata_ref_raw.obs_names))"
   ]
  },
  {
   "cell_type": "code",
   "execution_count": 191,
   "metadata": {},
   "outputs": [],
   "source": [
    "#Raw data processing\n",
    "#Filter away cells from the raw data that doesn't occur in the integrated datasets\n",
    "#This way the dataset is \"pre-processed\" like it was done in the Herb paper\n",
    "shared_cells = adata_ref_raw.obs_names.intersection(adata_batches.obs_names) #Takes the intersection of cells\n",
    "\n",
    "adata_batches = adata_batches[shared_cells,:].copy() #Do the actual filtering"
   ]
  },
  {
   "cell_type": "code",
   "execution_count": null,
   "metadata": {},
   "outputs": [],
   "source": [
    "#Double check for identical obs.index (same cells in bot datasets)\n",
    "adata_ref_raw.obs.index.identical(adata_batches.obs.index)"
   ]
  },
  {
   "cell_type": "code",
   "execution_count": null,
   "metadata": {},
   "outputs": [],
   "source": [
    "#Check that the dimensions are equal\n",
    "print(adata_batches.shape)\n",
    "print(adata_ref_raw.shape)"
   ]
  },
  {
   "cell_type": "code",
   "execution_count": 194,
   "metadata": {},
   "outputs": [],
   "source": [
    "#Now when the obs.index between the two dataset is identical, move the CurrentMeta column to the raw adata_batches object\n",
    "adata_batches.obs[\"Cell_types\"] = adata_ref_raw.obs[\"CurrentMeta\"]\n"
   ]
  },
  {
   "cell_type": "code",
   "execution_count": null,
   "id": "24d0d886",
   "metadata": {},
   "outputs": [],
   "source": [
    "adata_batches"
   ]
  },
  {
   "cell_type": "code",
   "execution_count": null,
   "id": "6e09ef21",
   "metadata": {},
   "outputs": [],
   "source": [
    "#Store the raw counts\n",
    "adata_batches.layers[\"counts\"] = adata_batches.X.copy()\n",
    "#Normalize and scale the data\n",
    "sc.pp.normalize_total(adata_batches, target_sum=1e4)\n",
    "sc.pp.log1p(adata_batches)"
   ]
  },
  {
   "cell_type": "code",
   "execution_count": null,
   "id": "0b6e32e5",
   "metadata": {},
   "outputs": [],
   "source": [
    "adata_batches.uns[\"log1p\"]"
   ]
  },
  {
   "cell_type": "code",
   "execution_count": null,
   "metadata": {},
   "outputs": [],
   "source": [
    "#Check that the counts in layers[\"counts\"] are non-normalized\n",
    "adata_batches.layers[\"counts\"].todense()[185:190,185:190]"
   ]
  },
  {
   "cell_type": "code",
   "execution_count": null,
   "id": "472174ce",
   "metadata": {},
   "outputs": [],
   "source": [
    "#Print the countes in adata.X\n",
    "adata_batches.X.todense()[185:190,185:190]"
   ]
  },
  {
   "cell_type": "code",
   "execution_count": null,
   "id": "09310a61",
   "metadata": {},
   "outputs": [],
   "source": [
    "#Write the processed data to file\n",
    "adata_batches.write(\"Processed_herb_adata.h5ad\")\n",
    "\n",
    "#When reading the data run adata_batches.uns[\"log1p\"] = {\"base\":None}"
   ]
  },
  {
   "cell_type": "code",
   "execution_count": null,
   "id": "67ea54c6",
   "metadata": {},
   "outputs": [],
   "source": [
    "#Identify hvg\n",
    "sc.pp.highly_variable_genes(adata_batches)\n",
    "\n",
    "#Scale data\n",
    "sc.pp.scale(adata_batches)\n",
    "\n",
    "#Process the data\n",
    "sc.tl.pca(adata_batches)\n",
    "sc.pp.neighbors(adata_batches)\n",
    "sc.tl.umap(adata_batches)"
   ]
  },
  {
   "cell_type": "code",
   "execution_count": null,
   "id": "2a657ae1",
   "metadata": {},
   "outputs": [],
   "source": [
    "sc.pl.umap(adata_batches, color=\"Cell_types\")\n",
    "sc.pl.umap(adata_batches, color=\"sample\")"
   ]
  }
 ],
 "metadata": {
  "kernelspec": {
   "display_name": "Python 3",
   "language": "python",
   "name": "python3"
  },
  "language_info": {
   "codemirror_mode": {
    "name": "ipython",
    "version": 3
   },
   "file_extension": ".py",
   "mimetype": "text/x-python",
   "name": "python",
   "nbconvert_exporter": "python",
   "pygments_lexer": "ipython3",
   "version": "3.7.11"
  }
 },
 "nbformat": 4,
 "nbformat_minor": 5
}
