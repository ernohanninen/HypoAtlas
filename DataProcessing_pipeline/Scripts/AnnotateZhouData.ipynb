{
 "cells": [
  {
   "attachments": {},
   "cell_type": "markdown",
   "id": "3dcdcd79",
   "metadata": {},
   "source": [
    "\n",
    "Author: Erno Hänninen\n",
    "\n",
    "Created: 10.12.2022\n",
    "\n",
    "Title: AnnotateZhouData.ipynb\n",
    "\n",
    "Description:\n",
    "- Notebook that processes raw 10x count data using the corresponding processed and integrated dataset as reference. The integrated dataset described in Zhou paper is not publicly available. A corresponding in house version was used instead.\n",
    "\n",
    "Procedure\n",
    "- Read both raw and processed data\n",
    "- From the raw data filter away cells not occuring in the reference\n",
    "- Move the cell type annotation column from reference to the raw data\n",
    "- This is data is writed to file\n",
    "    \n",
    "\n",
    "Usage:\n",
    "- This script is launched and parameterized from the pipeline (data_processing_wf.nf)\n"
   ]
  },
  {
   "cell_type": "code",
   "execution_count": null,
   "id": "9209e9e4",
   "metadata": {},
   "outputs": [],
   "source": [
    "import scanpy as sc\n",
    "import scib\n",
    "import os\n",
    "# os.environ[“MY_ENV_VAR”]\n",
    "os.environ[\"MKL_NUM_THREADS\"] = \"15\"\n",
    "os.environ[\"NUMEXPR_NUM_THREADS\"] = \"15\"\n",
    "os.environ[\"OMP_NUM_THREADS\"] = \"15\""
   ]
  },
  {
   "attachments": {},
   "cell_type": "markdown",
   "id": "7093c8d5",
   "metadata": {},
   "source": [
    "## Load and explore the integrated Zhou data\n"
   ]
  },
  {
   "cell_type": "code",
   "execution_count": 183,
   "id": "8ef64682",
   "metadata": {},
   "outputs": [],
   "source": [
    "#Read the annotated data (annotated by Yuan)\n",
    "adata_processed  = scib.pp.read_seurat(annotated_data_path)"
   ]
  },
  {
   "cell_type": "code",
   "execution_count": null,
   "id": "609c256e",
   "metadata": {},
   "outputs": [],
   "source": [
    "adata_processed"
   ]
  },
  {
   "cell_type": "code",
   "execution_count": null,
   "id": "72ae0563",
   "metadata": {},
   "outputs": [],
   "source": [
    "# Plot the celltypes and timpointe\n",
    "sc.pl.umap(adata_processed, color=\"ident\")\n",
    "sc.pl.umap(adata_processed, color=\"cellBatch\")"
   ]
  },
  {
   "attachments": {},
   "cell_type": "markdown",
   "id": "0f996871",
   "metadata": {},
   "source": [
    "## Filter, annotate and process raw data"
   ]
  },
  {
   "cell_type": "code",
   "execution_count": 189,
   "id": "73b32d31",
   "metadata": {},
   "outputs": [],
   "source": [
    "#Read the raw matrixes\n",
    "adata_raw = sc.read_10x_mtx(raw_read_path, prefix=\"GSE169109_\") #.gz files\n",
    "adata_raw"
   ]
  },
  {
   "cell_type": "code",
   "execution_count": 191,
   "id": "43064dcf",
   "metadata": {},
   "outputs": [],
   "source": [
    "#Raw data processing\n",
    "#Gene filtering\n",
    "shared_genes = adata_processed.var_names.intersection(adata_raw.var_names) #Takes the intersection of genes\n",
    "shared_genes\n",
    "adata_raw = adata_raw[:, shared_genes].copy() #Do the actual filtering"
   ]
  },
  {
   "cell_type": "code",
   "execution_count": null,
   "id": "86b7b7a4",
   "metadata": {},
   "outputs": [],
   "source": [
    "#Cell filtering\n",
    "shared_cells = adata_processed.obs_names.intersection(adata_raw.obs_names) #Takes the intersection of cells\n",
    "\n",
    "adata_raw = adata_raw[shared_cells,:].copy() #Do the actual filtering\n",
    "\n",
    "adata_filtered = adata_raw.copy()"
   ]
  },
  {
   "cell_type": "code",
   "execution_count": null,
   "id": "47a95d36",
   "metadata": {},
   "outputs": [],
   "source": [
    "#Rename columns\n",
    "adata_filtered.obs[\"Cell_types\"] = adata_processed.obs[\"ident\"]\n",
    "adata_filtered.obs[\"sample\"] = adata_processed.obs[\"cellBatch\"]"
   ]
  },
  {
   "cell_type": "code",
   "execution_count": null,
   "id": "a295b543",
   "metadata": {},
   "outputs": [],
   "source": [
    "adata_filtered"
   ]
  },
  {
   "cell_type": "code",
   "execution_count": null,
   "id": "fffca9da",
   "metadata": {},
   "outputs": [],
   "source": [
    "#Write the processed data to file\n",
    "adata_filtered.write(\"Processed_zhou_adata.h5ad\")"
   ]
  }
 ],
 "metadata": {
  "kernelspec": {
   "display_name": "Python 3 (ipykernel)",
   "language": "python",
   "name": "python3"
  },
  "language_info": {
   "codemirror_mode": {
    "name": "ipython",
    "version": 3
   },
   "file_extension": ".py",
   "mimetype": "text/x-python",
   "name": "python",
   "nbconvert_exporter": "python",
   "pygments_lexer": "ipython3",
   "version": "3.10.9"
  }
 },
 "nbformat": 4,
 "nbformat_minor": 5
}
